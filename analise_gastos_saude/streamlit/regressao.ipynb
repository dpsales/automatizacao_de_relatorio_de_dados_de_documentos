{
 "cells": [
  {
   "cell_type": "code",
   "execution_count": 29,
   "id": "538261fc-de8a-440e-8ec2-aeeaa2203abd",
   "metadata": {},
   "outputs": [],
   "source": [
    "import pandas as pd\n",
    "import statsmodels.api as sm\n",
    "import numpy as np\n",
    "import plotly.express as px\n",
    "import plotly.graph_objects as go\n",
    "import math"
   ]
  },
  {
   "cell_type": "code",
   "execution_count": 48,
   "id": "8ac58ed5-b577-45e9-81b1-b4be625cfb53",
   "metadata": {
    "scrolled": true
   },
   "outputs": [
    {
     "data": {
      "text/html": [
       "<div>\n",
       "<style scoped>\n",
       "    .dataframe tbody tr th:only-of-type {\n",
       "        vertical-align: middle;\n",
       "    }\n",
       "\n",
       "    .dataframe tbody tr th {\n",
       "        vertical-align: top;\n",
       "    }\n",
       "\n",
       "    .dataframe thead th {\n",
       "        text-align: right;\n",
       "    }\n",
       "</style>\n",
       "<table border=\"1\" class=\"dataframe\">\n",
       "  <thead>\n",
       "    <tr style=\"text-align: right;\">\n",
       "      <th></th>\n",
       "      <th>uf</th>\n",
       "      <th>ano</th>\n",
       "      <th>gastos</th>\n",
       "      <th>gastos_percapita</th>\n",
       "      <th>mortalidade</th>\n",
       "      <th>valor_emendas</th>\n",
       "    </tr>\n",
       "  </thead>\n",
       "  <tbody>\n",
       "    <tr>\n",
       "      <th>0</th>\n",
       "      <td>AC</td>\n",
       "      <td>2014</td>\n",
       "      <td>3.603932e+07</td>\n",
       "      <td>337.690253</td>\n",
       "      <td>0.920833</td>\n",
       "      <td>1.261524e+08</td>\n",
       "    </tr>\n",
       "    <tr>\n",
       "      <th>1</th>\n",
       "      <td>AC</td>\n",
       "      <td>2015</td>\n",
       "      <td>3.726202e+07</td>\n",
       "      <td>305.003132</td>\n",
       "      <td>1.236364</td>\n",
       "      <td>2.648756e+07</td>\n",
       "    </tr>\n",
       "    <tr>\n",
       "      <th>2</th>\n",
       "      <td>AC</td>\n",
       "      <td>2016</td>\n",
       "      <td>4.048715e+07</td>\n",
       "      <td>301.639801</td>\n",
       "      <td>1.342000</td>\n",
       "      <td>4.542464e+08</td>\n",
       "    </tr>\n",
       "    <tr>\n",
       "      <th>3</th>\n",
       "      <td>AC</td>\n",
       "      <td>2017</td>\n",
       "      <td>3.724553e+07</td>\n",
       "      <td>274.220778</td>\n",
       "      <td>1.467500</td>\n",
       "      <td>2.436925e+08</td>\n",
       "    </tr>\n",
       "    <tr>\n",
       "      <th>4</th>\n",
       "      <td>AC</td>\n",
       "      <td>2018</td>\n",
       "      <td>3.443257e+07</td>\n",
       "      <td>263.785812</td>\n",
       "      <td>1.718000</td>\n",
       "      <td>1.976735e+08</td>\n",
       "    </tr>\n",
       "    <tr>\n",
       "      <th>...</th>\n",
       "      <td>...</td>\n",
       "      <td>...</td>\n",
       "      <td>...</td>\n",
       "      <td>...</td>\n",
       "      <td>...</td>\n",
       "      <td>...</td>\n",
       "    </tr>\n",
       "    <tr>\n",
       "      <th>238</th>\n",
       "      <td>TO</td>\n",
       "      <td>2018</td>\n",
       "      <td>6.298209e+07</td>\n",
       "      <td>894.183551</td>\n",
       "      <td>1.939130</td>\n",
       "      <td>1.021493e+09</td>\n",
       "    </tr>\n",
       "    <tr>\n",
       "      <th>239</th>\n",
       "      <td>TO</td>\n",
       "      <td>2019</td>\n",
       "      <td>8.231413e+07</td>\n",
       "      <td>1001.786091</td>\n",
       "      <td>2.390476</td>\n",
       "      <td>5.708286e+09</td>\n",
       "    </tr>\n",
       "    <tr>\n",
       "      <th>240</th>\n",
       "      <td>TO</td>\n",
       "      <td>2020</td>\n",
       "      <td>9.288584e+07</td>\n",
       "      <td>1042.532604</td>\n",
       "      <td>2.676364</td>\n",
       "      <td>1.037564e+10</td>\n",
       "    </tr>\n",
       "    <tr>\n",
       "      <th>241</th>\n",
       "      <td>TO</td>\n",
       "      <td>2021</td>\n",
       "      <td>1.192244e+08</td>\n",
       "      <td>1455.791855</td>\n",
       "      <td>3.041538</td>\n",
       "      <td>4.138913e+09</td>\n",
       "    </tr>\n",
       "    <tr>\n",
       "      <th>242</th>\n",
       "      <td>TO</td>\n",
       "      <td>2022</td>\n",
       "      <td>9.915602e+07</td>\n",
       "      <td>1372.754633</td>\n",
       "      <td>2.200870</td>\n",
       "      <td>3.053305e+09</td>\n",
       "    </tr>\n",
       "  </tbody>\n",
       "</table>\n",
       "<p>243 rows × 6 columns</p>\n",
       "</div>"
      ],
      "text/plain": [
       "     uf   ano        gastos  gastos_percapita  mortalidade  valor_emendas\n",
       "0    AC  2014  3.603932e+07        337.690253     0.920833   1.261524e+08\n",
       "1    AC  2015  3.726202e+07        305.003132     1.236364   2.648756e+07\n",
       "2    AC  2016  4.048715e+07        301.639801     1.342000   4.542464e+08\n",
       "3    AC  2017  3.724553e+07        274.220778     1.467500   2.436925e+08\n",
       "4    AC  2018  3.443257e+07        263.785812     1.718000   1.976735e+08\n",
       "..   ..   ...           ...               ...          ...            ...\n",
       "238  TO  2018  6.298209e+07        894.183551     1.939130   1.021493e+09\n",
       "239  TO  2019  8.231413e+07       1001.786091     2.390476   5.708286e+09\n",
       "240  TO  2020  9.288584e+07       1042.532604     2.676364   1.037564e+10\n",
       "241  TO  2021  1.192244e+08       1455.791855     3.041538   4.138913e+09\n",
       "242  TO  2022  9.915602e+07       1372.754633     2.200870   3.053305e+09\n",
       "\n",
       "[243 rows x 6 columns]"
      ]
     },
     "execution_count": 48,
     "metadata": {},
     "output_type": "execute_result"
    }
   ],
   "source": [
    "variaveis_uf_ano = pd.read_excel('./dados_para_dashboard/variaveis_uf_ano.xlsx', engine='openpyxl')\n",
    "\n",
    "df = pd.read_excel('./dados_para_dashboard/variaveis_uf_ano.xlsx', engine='openpyxl')\n",
    "\n",
    "variaveis_uf_ano"
   ]
  },
  {
   "cell_type": "code",
   "execution_count": 3,
   "id": "a4eb8038-14e4-481f-84fb-17d34b1fe53a",
   "metadata": {},
   "outputs": [
    {
     "data": {
      "text/html": [
       "<div>\n",
       "<style scoped>\n",
       "    .dataframe tbody tr th:only-of-type {\n",
       "        vertical-align: middle;\n",
       "    }\n",
       "\n",
       "    .dataframe tbody tr th {\n",
       "        vertical-align: top;\n",
       "    }\n",
       "\n",
       "    .dataframe thead th {\n",
       "        text-align: right;\n",
       "    }\n",
       "</style>\n",
       "<table border=\"1\" class=\"dataframe\">\n",
       "  <thead>\n",
       "    <tr style=\"text-align: right;\">\n",
       "      <th></th>\n",
       "      <th>uf</th>\n",
       "      <th>ano</th>\n",
       "      <th>gastos</th>\n",
       "      <th>gastos_percapita</th>\n",
       "      <th>mortalidade</th>\n",
       "      <th>valor_emendas</th>\n",
       "      <th>Cod_UF</th>\n",
       "    </tr>\n",
       "  </thead>\n",
       "  <tbody>\n",
       "    <tr>\n",
       "      <th>0</th>\n",
       "      <td>AC</td>\n",
       "      <td>2014</td>\n",
       "      <td>3.603932e+07</td>\n",
       "      <td>337.690253</td>\n",
       "      <td>0.920833</td>\n",
       "      <td>1.261524e+08</td>\n",
       "      <td>12</td>\n",
       "    </tr>\n",
       "    <tr>\n",
       "      <th>1</th>\n",
       "      <td>AC</td>\n",
       "      <td>2015</td>\n",
       "      <td>3.726202e+07</td>\n",
       "      <td>305.003132</td>\n",
       "      <td>1.236364</td>\n",
       "      <td>2.648756e+07</td>\n",
       "      <td>12</td>\n",
       "    </tr>\n",
       "    <tr>\n",
       "      <th>2</th>\n",
       "      <td>AC</td>\n",
       "      <td>2016</td>\n",
       "      <td>4.048715e+07</td>\n",
       "      <td>301.639801</td>\n",
       "      <td>1.342000</td>\n",
       "      <td>4.542464e+08</td>\n",
       "      <td>12</td>\n",
       "    </tr>\n",
       "    <tr>\n",
       "      <th>3</th>\n",
       "      <td>AC</td>\n",
       "      <td>2017</td>\n",
       "      <td>3.724553e+07</td>\n",
       "      <td>274.220778</td>\n",
       "      <td>1.467500</td>\n",
       "      <td>2.436925e+08</td>\n",
       "      <td>12</td>\n",
       "    </tr>\n",
       "    <tr>\n",
       "      <th>4</th>\n",
       "      <td>AC</td>\n",
       "      <td>2018</td>\n",
       "      <td>3.443257e+07</td>\n",
       "      <td>263.785812</td>\n",
       "      <td>1.718000</td>\n",
       "      <td>1.976735e+08</td>\n",
       "      <td>12</td>\n",
       "    </tr>\n",
       "    <tr>\n",
       "      <th>...</th>\n",
       "      <td>...</td>\n",
       "      <td>...</td>\n",
       "      <td>...</td>\n",
       "      <td>...</td>\n",
       "      <td>...</td>\n",
       "      <td>...</td>\n",
       "      <td>...</td>\n",
       "    </tr>\n",
       "    <tr>\n",
       "      <th>238</th>\n",
       "      <td>TO</td>\n",
       "      <td>2018</td>\n",
       "      <td>6.298209e+07</td>\n",
       "      <td>894.183551</td>\n",
       "      <td>1.939130</td>\n",
       "      <td>1.021493e+09</td>\n",
       "      <td>17</td>\n",
       "    </tr>\n",
       "    <tr>\n",
       "      <th>239</th>\n",
       "      <td>TO</td>\n",
       "      <td>2019</td>\n",
       "      <td>8.231413e+07</td>\n",
       "      <td>1001.786091</td>\n",
       "      <td>2.390476</td>\n",
       "      <td>5.708286e+09</td>\n",
       "      <td>17</td>\n",
       "    </tr>\n",
       "    <tr>\n",
       "      <th>240</th>\n",
       "      <td>TO</td>\n",
       "      <td>2020</td>\n",
       "      <td>9.288584e+07</td>\n",
       "      <td>1042.532604</td>\n",
       "      <td>2.676364</td>\n",
       "      <td>1.037564e+10</td>\n",
       "      <td>17</td>\n",
       "    </tr>\n",
       "    <tr>\n",
       "      <th>241</th>\n",
       "      <td>TO</td>\n",
       "      <td>2021</td>\n",
       "      <td>1.192244e+08</td>\n",
       "      <td>1455.791855</td>\n",
       "      <td>3.041538</td>\n",
       "      <td>4.138913e+09</td>\n",
       "      <td>17</td>\n",
       "    </tr>\n",
       "    <tr>\n",
       "      <th>242</th>\n",
       "      <td>TO</td>\n",
       "      <td>2022</td>\n",
       "      <td>9.915602e+07</td>\n",
       "      <td>1372.754633</td>\n",
       "      <td>2.200870</td>\n",
       "      <td>3.053305e+09</td>\n",
       "      <td>17</td>\n",
       "    </tr>\n",
       "  </tbody>\n",
       "</table>\n",
       "<p>243 rows × 7 columns</p>\n",
       "</div>"
      ],
      "text/plain": [
       "     uf   ano        gastos  gastos_percapita  mortalidade  valor_emendas  \\\n",
       "0    AC  2014  3.603932e+07        337.690253     0.920833   1.261524e+08   \n",
       "1    AC  2015  3.726202e+07        305.003132     1.236364   2.648756e+07   \n",
       "2    AC  2016  4.048715e+07        301.639801     1.342000   4.542464e+08   \n",
       "3    AC  2017  3.724553e+07        274.220778     1.467500   2.436925e+08   \n",
       "4    AC  2018  3.443257e+07        263.785812     1.718000   1.976735e+08   \n",
       "..   ..   ...           ...               ...          ...            ...   \n",
       "238  TO  2018  6.298209e+07        894.183551     1.939130   1.021493e+09   \n",
       "239  TO  2019  8.231413e+07       1001.786091     2.390476   5.708286e+09   \n",
       "240  TO  2020  9.288584e+07       1042.532604     2.676364   1.037564e+10   \n",
       "241  TO  2021  1.192244e+08       1455.791855     3.041538   4.138913e+09   \n",
       "242  TO  2022  9.915602e+07       1372.754633     2.200870   3.053305e+09   \n",
       "\n",
       "    Cod_UF  \n",
       "0       12  \n",
       "1       12  \n",
       "2       12  \n",
       "3       12  \n",
       "4       12  \n",
       "..     ...  \n",
       "238     17  \n",
       "239     17  \n",
       "240     17  \n",
       "241     17  \n",
       "242     17  \n",
       "\n",
       "[243 rows x 7 columns]"
      ]
     },
     "execution_count": 3,
     "metadata": {},
     "output_type": "execute_result"
    }
   ],
   "source": [
    "# Criando UF em codigo\n",
    "CondUF =  [(variaveis_uf_ano['uf'] == 'RO'),\n",
    "         (variaveis_uf_ano[\"uf\"] == 'AC'),\n",
    "         (variaveis_uf_ano[\"uf\"] == 'AM'),\n",
    "         (variaveis_uf_ano[\"uf\"] == 'RR'),\n",
    "         (variaveis_uf_ano[\"uf\"] == 'PA'),\n",
    "         (variaveis_uf_ano[\"uf\"] == 'AP'),\n",
    "         (variaveis_uf_ano[\"uf\"] == 'TO'),\n",
    "         (variaveis_uf_ano[\"uf\"] == 'MA'),\n",
    "         (variaveis_uf_ano[\"uf\"] == 'PI'),\n",
    "         (variaveis_uf_ano[\"uf\"] == 'CE'),\n",
    "         (variaveis_uf_ano[\"uf\"] == 'RN'),\n",
    "         (variaveis_uf_ano[\"uf\"] == 'PB'),\n",
    "         (variaveis_uf_ano[\"uf\"] == 'PE'),\n",
    "         (variaveis_uf_ano[\"uf\"] == 'AL'),\n",
    "         (variaveis_uf_ano[\"uf\"] == 'SE'),\n",
    "         (variaveis_uf_ano[\"uf\"] == 'BA'),\n",
    "         (variaveis_uf_ano[\"uf\"] == 'MG'),\n",
    "         (variaveis_uf_ano[\"uf\"] == 'ES'),\n",
    "         (variaveis_uf_ano[\"uf\"] == 'RJ'),\n",
    "         (variaveis_uf_ano[\"uf\"] == 'SP'),\n",
    "         (variaveis_uf_ano[\"uf\"] == 'PR'),\n",
    "         (variaveis_uf_ano[\"uf\"] == 'SC'),\n",
    "         (variaveis_uf_ano[\"uf\"] == 'RS'),\n",
    "         (variaveis_uf_ano[\"uf\"] == 'MS'),\n",
    "         (variaveis_uf_ano[\"uf\"] == 'MT'),\n",
    "         (variaveis_uf_ano[\"uf\"] == 'GO'),\n",
    "         (variaveis_uf_ano[\"uf\"] == 'DF')\n",
    "         ]\n",
    "          \n",
    "UF_nomes = ['11','12','13','14','15','16','17','21','22','23','24','25','26','27','28','29','31','32','33','35','41','42','43','50','51','52','53']\n",
    "variaveis_uf_ano[\"Cod_UF\"] = np.select(CondUF, UF_nomes, default=\"Error\")\n",
    "\n",
    "variaveis_uf_ano"
   ]
  },
  {
   "cell_type": "code",
   "execution_count": 4,
   "id": "41f6ad78-6cea-4e51-90b7-9eccfdf2efed",
   "metadata": {},
   "outputs": [
    {
     "data": {
      "text/html": [
       "<div>\n",
       "<style scoped>\n",
       "    .dataframe tbody tr th:only-of-type {\n",
       "        vertical-align: middle;\n",
       "    }\n",
       "\n",
       "    .dataframe tbody tr th {\n",
       "        vertical-align: top;\n",
       "    }\n",
       "\n",
       "    .dataframe thead th {\n",
       "        text-align: right;\n",
       "    }\n",
       "</style>\n",
       "<table border=\"1\" class=\"dataframe\">\n",
       "  <thead>\n",
       "    <tr style=\"text-align: right;\">\n",
       "      <th></th>\n",
       "      <th>uf</th>\n",
       "      <th>ano</th>\n",
       "      <th>gastos</th>\n",
       "      <th>gastos_percapita</th>\n",
       "      <th>mortalidade</th>\n",
       "      <th>valor_emendas</th>\n",
       "      <th>Cod_UF</th>\n",
       "      <th>regiao</th>\n",
       "    </tr>\n",
       "  </thead>\n",
       "  <tbody>\n",
       "    <tr>\n",
       "      <th>0</th>\n",
       "      <td>AC</td>\n",
       "      <td>2014</td>\n",
       "      <td>3.603932e+07</td>\n",
       "      <td>337.690253</td>\n",
       "      <td>0.920833</td>\n",
       "      <td>1.261524e+08</td>\n",
       "      <td>12</td>\n",
       "      <td>Norte</td>\n",
       "    </tr>\n",
       "    <tr>\n",
       "      <th>1</th>\n",
       "      <td>AC</td>\n",
       "      <td>2015</td>\n",
       "      <td>3.726202e+07</td>\n",
       "      <td>305.003132</td>\n",
       "      <td>1.236364</td>\n",
       "      <td>2.648756e+07</td>\n",
       "      <td>12</td>\n",
       "      <td>Norte</td>\n",
       "    </tr>\n",
       "    <tr>\n",
       "      <th>2</th>\n",
       "      <td>AC</td>\n",
       "      <td>2016</td>\n",
       "      <td>4.048715e+07</td>\n",
       "      <td>301.639801</td>\n",
       "      <td>1.342000</td>\n",
       "      <td>4.542464e+08</td>\n",
       "      <td>12</td>\n",
       "      <td>Norte</td>\n",
       "    </tr>\n",
       "    <tr>\n",
       "      <th>3</th>\n",
       "      <td>AC</td>\n",
       "      <td>2017</td>\n",
       "      <td>3.724553e+07</td>\n",
       "      <td>274.220778</td>\n",
       "      <td>1.467500</td>\n",
       "      <td>2.436925e+08</td>\n",
       "      <td>12</td>\n",
       "      <td>Norte</td>\n",
       "    </tr>\n",
       "    <tr>\n",
       "      <th>4</th>\n",
       "      <td>AC</td>\n",
       "      <td>2018</td>\n",
       "      <td>3.443257e+07</td>\n",
       "      <td>263.785812</td>\n",
       "      <td>1.718000</td>\n",
       "      <td>1.976735e+08</td>\n",
       "      <td>12</td>\n",
       "      <td>Norte</td>\n",
       "    </tr>\n",
       "    <tr>\n",
       "      <th>...</th>\n",
       "      <td>...</td>\n",
       "      <td>...</td>\n",
       "      <td>...</td>\n",
       "      <td>...</td>\n",
       "      <td>...</td>\n",
       "      <td>...</td>\n",
       "      <td>...</td>\n",
       "      <td>...</td>\n",
       "    </tr>\n",
       "    <tr>\n",
       "      <th>238</th>\n",
       "      <td>TO</td>\n",
       "      <td>2018</td>\n",
       "      <td>6.298209e+07</td>\n",
       "      <td>894.183551</td>\n",
       "      <td>1.939130</td>\n",
       "      <td>1.021493e+09</td>\n",
       "      <td>17</td>\n",
       "      <td>Norte</td>\n",
       "    </tr>\n",
       "    <tr>\n",
       "      <th>239</th>\n",
       "      <td>TO</td>\n",
       "      <td>2019</td>\n",
       "      <td>8.231413e+07</td>\n",
       "      <td>1001.786091</td>\n",
       "      <td>2.390476</td>\n",
       "      <td>5.708286e+09</td>\n",
       "      <td>17</td>\n",
       "      <td>Norte</td>\n",
       "    </tr>\n",
       "    <tr>\n",
       "      <th>240</th>\n",
       "      <td>TO</td>\n",
       "      <td>2020</td>\n",
       "      <td>9.288584e+07</td>\n",
       "      <td>1042.532604</td>\n",
       "      <td>2.676364</td>\n",
       "      <td>1.037564e+10</td>\n",
       "      <td>17</td>\n",
       "      <td>Norte</td>\n",
       "    </tr>\n",
       "    <tr>\n",
       "      <th>241</th>\n",
       "      <td>TO</td>\n",
       "      <td>2021</td>\n",
       "      <td>1.192244e+08</td>\n",
       "      <td>1455.791855</td>\n",
       "      <td>3.041538</td>\n",
       "      <td>4.138913e+09</td>\n",
       "      <td>17</td>\n",
       "      <td>Norte</td>\n",
       "    </tr>\n",
       "    <tr>\n",
       "      <th>242</th>\n",
       "      <td>TO</td>\n",
       "      <td>2022</td>\n",
       "      <td>9.915602e+07</td>\n",
       "      <td>1372.754633</td>\n",
       "      <td>2.200870</td>\n",
       "      <td>3.053305e+09</td>\n",
       "      <td>17</td>\n",
       "      <td>Norte</td>\n",
       "    </tr>\n",
       "  </tbody>\n",
       "</table>\n",
       "<p>243 rows × 8 columns</p>\n",
       "</div>"
      ],
      "text/plain": [
       "     uf   ano        gastos  gastos_percapita  mortalidade  valor_emendas  \\\n",
       "0    AC  2014  3.603932e+07        337.690253     0.920833   1.261524e+08   \n",
       "1    AC  2015  3.726202e+07        305.003132     1.236364   2.648756e+07   \n",
       "2    AC  2016  4.048715e+07        301.639801     1.342000   4.542464e+08   \n",
       "3    AC  2017  3.724553e+07        274.220778     1.467500   2.436925e+08   \n",
       "4    AC  2018  3.443257e+07        263.785812     1.718000   1.976735e+08   \n",
       "..   ..   ...           ...               ...          ...            ...   \n",
       "238  TO  2018  6.298209e+07        894.183551     1.939130   1.021493e+09   \n",
       "239  TO  2019  8.231413e+07       1001.786091     2.390476   5.708286e+09   \n",
       "240  TO  2020  9.288584e+07       1042.532604     2.676364   1.037564e+10   \n",
       "241  TO  2021  1.192244e+08       1455.791855     3.041538   4.138913e+09   \n",
       "242  TO  2022  9.915602e+07       1372.754633     2.200870   3.053305e+09   \n",
       "\n",
       "    Cod_UF regiao  \n",
       "0       12  Norte  \n",
       "1       12  Norte  \n",
       "2       12  Norte  \n",
       "3       12  Norte  \n",
       "4       12  Norte  \n",
       "..     ...    ...  \n",
       "238     17  Norte  \n",
       "239     17  Norte  \n",
       "240     17  Norte  \n",
       "241     17  Norte  \n",
       "242     17  Norte  \n",
       "\n",
       "[243 rows x 8 columns]"
      ]
     },
     "execution_count": 4,
     "metadata": {},
     "output_type": "execute_result"
    }
   ],
   "source": [
    "#Criando variável regiao.\n",
    "CondReg =  [(variaveis_uf_ano['Cod_UF'] == '11') | (variaveis_uf_ano[\"Cod_UF\"] == '12') | (variaveis_uf_ano[\"Cod_UF\"] == '13') | (variaveis_uf_ano[\"Cod_UF\"] == '14') | (variaveis_uf_ano[\"Cod_UF\"] == '15') | (variaveis_uf_ano[\"Cod_UF\"] == '16') | (variaveis_uf_ano[\"Cod_UF\"] == '17'),\n",
    "            (variaveis_uf_ano[\"Cod_UF\"] == '21') | (variaveis_uf_ano[\"Cod_UF\"] == '22') | (variaveis_uf_ano[\"Cod_UF\"] == '23') | (variaveis_uf_ano[\"Cod_UF\"] == '24') | (variaveis_uf_ano[\"Cod_UF\"] == '25') | (variaveis_uf_ano[\"Cod_UF\"] == '26') | (variaveis_uf_ano[\"Cod_UF\"] == '27') | (variaveis_uf_ano[\"Cod_UF\"] == '28') | (variaveis_uf_ano[\"Cod_UF\"] == '29'),\n",
    "            (variaveis_uf_ano[\"Cod_UF\"] == '31') | (variaveis_uf_ano[\"Cod_UF\"] == '32') | (variaveis_uf_ano[\"Cod_UF\"] == '33') | (variaveis_uf_ano[\"Cod_UF\"] == '35'),\n",
    "            (variaveis_uf_ano[\"Cod_UF\"] == '41') | (variaveis_uf_ano[\"Cod_UF\"] == '42') | (variaveis_uf_ano[\"Cod_UF\"] == '43'),\n",
    "            (variaveis_uf_ano[\"Cod_UF\"] == '50') | (variaveis_uf_ano[\"Cod_UF\"] == '51') | (variaveis_uf_ano[\"Cod_UF\"] == '52') | (variaveis_uf_ano[\"Cod_UF\"] == '53')\n",
    "           ]\n",
    "            \n",
    "Regiao_nomes = ['Norte','Nordeste','Sudeste','Sul','Centro-Oeste']\n",
    "variaveis_uf_ano[\"regiao\"] = np.select(CondReg, Regiao_nomes, default=\"Error\")\n",
    "variaveis_uf_ano"
   ]
  },
  {
   "cell_type": "code",
   "execution_count": 5,
   "id": "3997942a-d4df-43ed-9705-0e72d752d73c",
   "metadata": {},
   "outputs": [
    {
     "name": "stdout",
     "output_type": "stream",
     "text": [
      "                            OLS Regression Results                            \n",
      "==============================================================================\n",
      "Dep. Variable:                 gastos   R-squared:                       0.682\n",
      "Model:                            OLS   Adj. R-squared:                  0.681\n",
      "Method:                 Least Squares   F-statistic:                     517.1\n",
      "Date:                Tue, 31 Oct 2023   Prob (F-statistic):           6.58e-62\n",
      "Time:                        10:19:40   Log-Likelihood:                -5180.6\n",
      "No. Observations:                 243   AIC:                         1.037e+04\n",
      "Df Residuals:                     241   BIC:                         1.037e+04\n",
      "Df Model:                           1                                         \n",
      "Covariance Type:            nonrobust                                         \n",
      "=================================================================================\n",
      "                    coef    std err          t      P>|t|      [0.025      0.975]\n",
      "---------------------------------------------------------------------------------\n",
      "const          3.149e+08   3.08e+07     10.220      0.000    2.54e+08    3.76e+08\n",
      "valor_emendas     0.0094      0.000     22.740      0.000       0.009       0.010\n",
      "==============================================================================\n",
      "Omnibus:                      105.912   Durbin-Watson:                   1.406\n",
      "Prob(Omnibus):                  0.000   Jarque-Bera (JB):              706.736\n",
      "Skew:                           1.577   Prob(JB):                    3.42e-154\n",
      "Kurtosis:                      10.736   Cond. No.                     8.10e+10\n",
      "==============================================================================\n",
      "\n",
      "Notes:\n",
      "[1] Standard Errors assume that the covariance matrix of the errors is correctly specified.\n",
      "[2] The condition number is large, 8.1e+10. This might indicate that there are\n",
      "strong multicollinearity or other numerical problems.\n"
     ]
    }
   ],
   "source": [
    "# Ajuste o modelo de regressão linear OLS\n",
    "# o que se quer entender é se as emendas parlamentares se relacionam com gastos\n",
    "\n",
    "X = variaveis_uf_ano['valor_emendas']   # Variáveis independentes (características)\n",
    "X = sm.add_constant(X)  # Adiciona uma constante para o termo de intercepção\n",
    "y = variaveis_uf_ano['gastos']  # Variável dependente (alvo)\n",
    "\n",
    "# Ajuste do modelo\n",
    "model_gasto = sm.OLS(y, X).fit()\n",
    "\n",
    "# Imprima o resumo do modelo\n",
    "print(model_gasto.summary())"
   ]
  },
  {
   "cell_type": "code",
   "execution_count": 16,
   "id": "fb448940",
   "metadata": {},
   "outputs": [
    {
     "name": "stdout",
     "output_type": "stream",
     "text": [
      "                            OLS Regression Results                            \n",
      "==============================================================================\n",
      "Dep. Variable:       gastos_percapita   R-squared:                       0.531\n",
      "Model:                            OLS   Adj. R-squared:                  0.529\n",
      "Method:                 Least Squares   F-statistic:                     273.0\n",
      "Date:                Tue, 31 Oct 2023   Prob (F-statistic):           1.62e-41\n",
      "Time:                        10:24:14   Log-Likelihood:                -2337.7\n",
      "No. Observations:                 243   AIC:                             4679.\n",
      "Df Residuals:                     241   BIC:                             4686.\n",
      "Df Model:                           1                                         \n",
      "Covariance Type:            nonrobust                                         \n",
      "=================================================================================\n",
      "                    coef    std err          t      P>|t|      [0.025      0.975]\n",
      "---------------------------------------------------------------------------------\n",
      "const          2812.8504    255.777     10.997      0.000    2309.007    3316.694\n",
      "valor_emendas  5.685e-08   3.44e-09     16.522      0.000    5.01e-08    6.36e-08\n",
      "==============================================================================\n",
      "Omnibus:                       54.556   Durbin-Watson:                   0.907\n",
      "Prob(Omnibus):                  0.000   Jarque-Bera (JB):               96.804\n",
      "Skew:                           1.184   Prob(JB):                     9.53e-22\n",
      "Kurtosis:                       4.988   Cond. No.                     8.10e+10\n",
      "==============================================================================\n",
      "\n",
      "Notes:\n",
      "[1] Standard Errors assume that the covariance matrix of the errors is correctly specified.\n",
      "[2] The condition number is large, 8.1e+10. This might indicate that there are\n",
      "strong multicollinearity or other numerical problems.\n"
     ]
    }
   ],
   "source": [
    "# Ajuste o modelo de regressão linear OLS\n",
    "# o que se quer entender é se as emendas parlamentares se relacionam com gastos percapita\n",
    "\n",
    "X = variaveis_uf_ano['valor_emendas']   # Variáveis independentes (características)\n",
    "X = sm.add_constant(X)  # Adiciona uma constante para o termo de intercepção\n",
    "y = variaveis_uf_ano['gastos_percapita']  # Variável dependente (alvo)\n",
    "\n",
    "# Ajuste do modelo\n",
    "model_gasto_pc = sm.OLS(y, X).fit()\n",
    "\n",
    "# Imprima o resumo do modelo\n",
    "print(model_gasto_pc.summary())"
   ]
  },
  {
   "cell_type": "code",
   "execution_count": 6,
   "id": "c7639349-0f9e-4d5d-a98b-f7352a19aacc",
   "metadata": {},
   "outputs": [
    {
     "name": "stdout",
     "output_type": "stream",
     "text": [
      "               valor_emendas    gastos\n",
      "valor_emendas       1.000000  0.825895\n",
      "gastos              0.825895  1.000000\n"
     ]
    }
   ],
   "source": [
    "correlation_matrix = variaveis_uf_ano[['valor_emendas', 'gastos']].corr()\n",
    "print(correlation_matrix)"
   ]
  },
  {
   "cell_type": "code",
   "execution_count": 39,
   "id": "5218f299-a147-43e8-9b64-2d3fd3ef9bdf",
   "metadata": {},
   "outputs": [
    {
     "data": {
      "application/vnd.plotly.v1+json": {
       "config": {
        "plotlyServerURL": "https://plot.ly"
       },
       "data": [
        {
         "hovertemplate": "Emendas Parlamentares=%{x}<br>Gastos=%{y}<extra></extra>",
         "legendgroup": "",
         "marker": {
          "color": "#636efa",
          "symbol": "circle"
         },
         "mode": "markers",
         "name": "",
         "orientation": "v",
         "showlegend": false,
         "type": "scatter",
         "x": [
          126152400,
          26487560,
          454246408,
          243692482,
          197673542,
          883998544,
          1006366812,
          227469616,
          531294390,
          1429939234.2,
          1550993699.16,
          8121631598.400001,
          5234949978,
          6471522819.3,
          8741645838.36,
          4110550122,
          8154894594,
          9566457498,
          511062498.2399999,
          49600000,
          5566174372,
          152023938,
          722094399.9399999,
          1238173706.3,
          1169514432,
          1492622906,
          1692759402,
          315789226.4,
          63995211.2,
          216010720,
          27196320,
          189608928,
          525101904,
          966961072,
          855566608,
          1420152032,
          40074282102.81,
          23546446954.05,
          108746538939,
          51803465061,
          20603000892,
          35504703558,
          41670174075,
          39666081666,
          46605320703,
          13499847114.88,
          4077093995.36,
          23700892064,
          4882601368,
          2208461104,
          42557833984,
          17954616592,
          38069906176,
          32452019064.72,
          12746000,
          4307335,
          160451289,
          87425311,
          11290761,
          39523582.16,
          56231306.73,
          79396458,
          82527769,
          2561194506,
          1308320772.72,
          6405641211.84,
          10620567984,
          3249259572,
          9863758320,
          8019668475,
          4897829040,
          8765753256,
          13911081392.1,
          8311517868,
          30576018960,
          15315178704,
          11394550752,
          29948441964,
          26626704456,
          31127251332,
          28451573292,
          2952935043.03,
          744157232,
          23792869303,
          5239569811,
          645341942,
          16435515117,
          12944274161,
          41970468666,
          31666128186,
          95831334821.22,
          60462492306.56,
          318947748056,
          98507331670,
          53281472125,
          226229064332.04,
          254999156936,
          249681782772.3,
          265548194288,
          2713800904.22,
          1079548686.75,
          5152346583,
          3365231651,
          273577869,
          6005639961,
          4826570175,
          5282047440,
          6995683919,
          4097907949.95,
          2765784591.96,
          9432470232,
          3676368435,
          2887981176,
          25892695881,
          13490776083,
          16097651058,
          18833215605,
          3603201233.76,
          1323401470.56,
          25480993968,
          6186053952,
          3209226264,
          17741893680,
          11451442608,
          24884782992,
          28042188912,
          3776166735.76,
          2151775292.88,
          14340359312,
          5745145209,
          1882788554,
          22483771178,
          18529619249,
          24047357086,
          23172404767,
          6964278466.95,
          6155495862.849999,
          36931315172.1,
          10458128347.5,
          8289527545,
          16251705360,
          21138708465,
          20821387400,
          24929233775,
          1843338797.44,
          1464699463.36,
          13022139424,
          1954293376,
          926848832,
          9723774592,
          10468156384,
          16537544576,
          9687038816,
          26300870235.99,
          12906280105.32,
          93454303974.78,
          17470707765,
          13224365738.22,
          44255381457,
          62520271989,
          44137786980,
          53175747450,
          6388733061.64,
          4337980298.84,
          30159486802.24,
          10617717048.64,
          5126255542.48,
          16131083234.08,
          23764264144.32,
          23816560491.84,
          24387276577.16,
          2326083030.3,
          697339548.64,
          8231989324.75,
          2892613513,
          1382594561.45,
          8357387746,
          7836657030,
          11953696173,
          17387083758,
          1654550629.16,
          800085518.44,
          3020536480,
          1598455716,
          791119316,
          3067155988,
          2750344844,
          2184947492,
          2130365328,
          140178554.4,
          346601962.2,
          511444575,
          368373960,
          85590090,
          934550805,
          653715615,
          149448345,
          308167890,
          33961942972.16,
          24447178686.98,
          224338590850.99,
          33741211714,
          22321761994,
          81743634498.96,
          95250789048.94,
          86148021323,
          102210396834,
          16369751443.7,
          7806607136.8,
          36348540345,
          7034694195,
          3552869375,
          34007187295,
          35655724290,
          35746126450,
          29724191740,
          710712300,
          376859167.5,
          2353404474,
          136252500,
          398639925,
          4301545125,
          4828109025,
          5337972150,
          2974606725,
          114348429885.9,
          65512767370.65,
          472776034177.5,
          131045122140,
          117083559210,
          321366770475,
          290738314020,
          390351485145,
          432157483290,
          2394930410.02,
          1134613543.04,
          5905480052,
          1202287450,
          1021493347,
          5708285895,
          10375636930,
          4138912928,
          3053305275
         ],
         "xaxis": "x",
         "y": [
          36039320.36,
          37262018.93,
          40487149.58,
          37245525.42,
          34432565.80999999,
          34709598.96,
          40018213.54000001,
          50689465.28,
          43377991.73,
          163585154.39,
          177761701.66,
          177582559.02,
          191840311.18,
          201009115.55,
          204786689.31,
          205569621.04,
          276880403.49,
          211607936.57,
          121900696.54,
          151278739.11,
          147812237.68,
          160820207.38,
          175744827.42,
          189256198.86,
          210298047.43,
          270903741.19,
          237707058.01,
          23354262.75,
          22053145.67,
          21916972.06,
          22366616.97,
          25843955.47,
          29370406.98,
          27872333.42,
          45565140.13,
          35931724.12,
          757704806.95,
          785597108.51,
          810137241.0600001,
          821240562.83,
          845519121.49,
          879675393.52,
          914530938.71,
          1243933168.56,
          1076511369.9,
          510177372.21,
          527062987.33,
          540114355.34,
          551317375.85,
          573956797.74,
          607937295.28,
          636460960.1700001,
          877772133.48,
          726447120.85,
          71632316.27,
          64471697.15,
          83122612.98,
          96642322.18,
          233115326.1,
          239866880.3,
          265391022.7,
          338257487.5,
          312758824.5,
          253097937.91,
          267235078.66,
          296978830.46,
          309155832.58,
          303425629.23,
          319947622.99,
          364620052.22,
          553995355.02,
          434465436.46,
          400943736.85,
          420280242.12,
          410610981.88,
          414555691.04,
          407220316.6,
          438382657.56,
          471891376.4,
          697234869.65,
          517094229.55,
          301805294.58,
          311541016.01,
          307485045.96,
          333689604.73,
          351572006.88,
          366407811.12,
          375770394.54,
          510327392.31,
          452514283.04,
          1658840666.82,
          1674939603.09,
          1657939988.06,
          1718544163.82,
          1790290126.07,
          1889157110.43,
          1900368797.54,
          2647196263.54,
          2326241465.07,
          174087791.34,
          186415626.23,
          190977047.18,
          194544177.73,
          201939866.01,
          218562922.11,
          227384589.29,
          337069397.82,
          285832542.69,
          164696707.99,
          173915288.36,
          181948081.8,
          185882129.14,
          190680812.6,
          189645101.04,
          205331624.93,
          336549602.1,
          241225841.08,
          342851637.93,
          353977050.37,
          357148899.02,
          388952636.21,
          410173716.45,
          410805540.78,
          447222369.54,
          540354161.84,
          545720282.28,
          194470103.47,
          189634905.56,
          192764395.72,
          208882120.71,
          218267536.74,
          232234991.54,
          227946551.25,
          320676396.06,
          284045342.29,
          703527971,
          717003467.17,
          733193554.41,
          792199747.86,
          800658730.0300001,
          819736634.45,
          815500708.8299999,
          1161810395.91,
          975536343.8399999,
          164802466.16,
          174857185.87,
          188677491.59,
          186604620.01,
          195934078.94,
          206820114.49,
          216335315.92,
          301951412.54,
          246806470.4,
          1063177083.89,
          1116764284.09,
          1224621412.72,
          1333212214.36,
          1453914663.21,
          1493484390.7,
          1406028330.28,
          1868090404.45,
          1662024377.76,
          765976172.45,
          814738275.85,
          790282302.26,
          853543221.38,
          918095799.5,
          976876703.75,
          1032894622.91,
          1414089345.86,
          1285136616.87,
          193227603.04,
          210853738.03,
          212854443.29,
          218447439.6,
          240919860.5,
          266652744.11,
          283182041.93,
          365540119.42,
          323567694.09,
          79095836.74,
          86163443.56,
          91955338.88,
          95261076.71000001,
          102091843.39,
          109113101.49,
          110011617.1,
          154245547,
          124764936.01,
          19757952.27,
          24556486.66,
          29133807.87,
          31338348.9,
          33851454.13,
          34320141.86,
          36868427.83000001,
          43779114.13,
          43564927.37,
          1025980732.3,
          1076735540.96,
          1046635638.74,
          1053347905.52,
          1074036199.49,
          1131618227.23,
          1186666108.78,
          1567348049.46,
          1298261973.32,
          626008038.37,
          649716373.14,
          663853492.72,
          676676323.2900001,
          711391945.08,
          759243377.0799999,
          758021988.81,
          1086773153.73,
          939515058.72,
          83949080.41,
          96666330.17,
          102263264.46,
          99807105.64999999,
          107312506.79,
          117487663.62,
          120241590.98,
          175749163.67,
          154389988.81,
          3268008800,
          3285221793.04,
          3305056173.66,
          3361179945.29,
          3442007311.9,
          3567637040.48,
          3806208858.01,
          5067663861.29,
          4191063069.85,
          88436272.97,
          78227511.7,
          78034121.8,
          72772161.78,
          62982094.00000001,
          82314133.11,
          92885843.75999999,
          119224446.41,
          99156021.03
         ],
         "yaxis": "y"
        },
        {
         "hovertemplate": "<b>OLS trendline</b><br>gastos = 0.00942437 * valor_emendas + 3.1487e+08<br>R<sup>2</sup>=0.682102<br><br>Emendas Parlamentares=%{x}<br>Gastos=%{y} <b>(trend)</b><extra></extra>",
         "legendgroup": "",
         "marker": {
          "color": "#636efa",
          "symbol": "circle"
         },
         "mode": "lines",
         "name": "",
         "showlegend": false,
         "type": "scatter",
         "x": [
          4307335,
          11290761,
          12746000,
          26487560,
          27196320,
          39523582.16,
          49600000,
          56231306.73,
          63995211.2,
          79396458,
          82527769,
          85590090,
          87425311,
          126152400,
          136252500,
          140178554.4,
          149448345,
          152023938,
          160451289,
          189608928,
          197673542,
          216010720,
          227469616,
          243692482,
          273577869,
          308167890,
          315789226.4,
          346601962.2,
          368373960,
          376859167.5,
          398639925,
          454246408,
          511062498.2399999,
          511444575,
          525101904,
          531294390,
          645341942,
          653715615,
          697339548.64,
          710712300,
          722094399.9399999,
          744157232,
          791119316,
          800085518.44,
          855566608,
          883998544,
          926848832,
          934550805,
          966961072,
          1006366812,
          1021493347,
          1079548686.75,
          1134613543.04,
          1169514432,
          1202287450,
          1238173706.3,
          1308320772.72,
          1323401470.56,
          1382594561.45,
          1420152032,
          1429939234.2,
          1464699463.36,
          1492622906,
          1550993699.16,
          1598455716,
          1654550629.16,
          1692759402,
          1843338797.44,
          1882788554,
          1954293376,
          2130365328,
          2151775292.88,
          2184947492,
          2208461104,
          2326083030.3,
          2353404474,
          2394930410.02,
          2561194506,
          2713800904.22,
          2750344844,
          2765784591.96,
          2887981176,
          2892613513,
          2952935043.03,
          2974606725,
          3020536480,
          3053305275,
          3067155988,
          3209226264,
          3249259572,
          3365231651,
          3552869375,
          3603201233.76,
          3676368435,
          3776166735.76,
          4077093995.36,
          4097907949.95,
          4110550122,
          4138912928,
          4301545125,
          4337980298.84,
          4826570175,
          4828109025,
          4882601368,
          4897829040,
          5126255542.48,
          5152346583,
          5234949978,
          5239569811,
          5282047440,
          5337972150,
          5566174372,
          5708285895,
          5745145209,
          5905480052,
          6005639961,
          6155495862.849999,
          6186053952,
          6388733061.64,
          6405641211.84,
          6471522819.3,
          6964278466.95,
          6995683919,
          7034694195,
          7806607136.8,
          7836657030,
          8019668475,
          8121631598.400001,
          8154894594,
          8231989324.75,
          8289527545,
          8311517868,
          8357387746,
          8741645838.36,
          8765753256,
          9432470232,
          9566457498,
          9687038816,
          9723774592,
          9863758320,
          10375636930,
          10458128347.5,
          10468156384,
          10617717048.64,
          10620567984,
          11394550752,
          11451442608,
          11953696173,
          12906280105.32,
          12944274161,
          13022139424,
          13224365738.22,
          13490776083,
          13499847114.88,
          13911081392.1,
          14340359312,
          15315178704,
          16097651058,
          16131083234.08,
          16251705360,
          16369751443.7,
          16435515117,
          16537544576,
          17387083758,
          17470707765,
          17741893680,
          17954616592,
          18529619249,
          18833215605,
          20603000892,
          20821387400,
          21138708465,
          22321761994,
          22483771178,
          23172404767,
          23546446954.05,
          23700892064,
          23764264144.32,
          23792869303,
          23816560491.84,
          24047357086,
          24387276577.16,
          24447178686.98,
          24884782992,
          24929233775,
          25480993968,
          25892695881,
          26300870235.99,
          26626704456,
          28042188912,
          28451573292,
          29724191740,
          29948441964,
          30159486802.24,
          30576018960,
          31127251332,
          31666128186,
          32452019064.72,
          33741211714,
          33961942972.16,
          34007187295,
          35504703558,
          35655724290,
          35746126450,
          36348540345,
          36931315172.1,
          38069906176,
          39666081666,
          40074282102.81,
          41670174075,
          41970468666,
          42557833984,
          44137786980,
          44255381457,
          46605320703,
          51803465061,
          53175747450,
          53281472125,
          60462492306.56,
          62520271989,
          65512767370.65,
          81743634498.96,
          86148021323,
          93454303974.78,
          95250789048.94,
          95831334821.22,
          98507331670,
          102210396834,
          108746538939,
          114348429885.9,
          117083559210,
          131045122140,
          224338590850.99,
          226229064332.04,
          249681782772.3,
          254999156936,
          265548194288,
          290738314020,
          318947748056,
          321366770475,
          390351485145,
          432157483290,
          472776034177.5
         ],
         "xaxis": "x",
         "y": [
          314910816.2771749,
          314976630.63490933,
          314990345.3388577,
          315119850.8202174,
          315126530.433374,
          315242707.05523336,
          315337670.8979667,
          315400166.75506824,
          315473336.62702,
          315618483.60308194,
          315647994.22184294,
          315676854.6536413,
          315694150.4467686,
          316059128.6808704,
          316154315.7129309,
          316191316.2838207,
          316278678.1767758,
          316302951.5060959,
          316382373.94050956,
          316657166.1820023,
          316733170.0504168,
          316905986.3146305,
          317013979.1365758,
          317166869.3521236,
          317448520.15662146,
          317774509.1505819,
          317846335.4089605,
          318136725.88731873,
          318341913.14809924,
          318421880.84330446,
          318627150.6586977,
          319151206.4680552,
          319686662.0579232,
          319690262.8888856,
          319818974.5465309,
          319877334.79676765,
          320952160.5894472,
          321031077.1427798,
          321442205.02963185,
          321568234.72363895,
          321675503.7914605,
          321883431.9805517,
          322326019.8158538,
          322410520.5830855,
          322933394.638857,
          323201347.59017164,
          323605184.35789245,
          323677770.5650468,
          323983216.7610268,
          324354590.8500701,
          324497148.84177405,
          325044283.57173365,
          325563234.8931148,
          325892153.6202932,
          326201018.5142135,
          326539223.7031679,
          327200315.2824858,
          327342441.2880491,
          327900298.60038316,
          328254253.92293966,
          328346492.09182847,
          328674085.18966734,
          328937245.9138,
          329487353.5919335,
          329934652.9769499,
          330463311.9305632,
          330823405.3638275,
          332242520.59450775,
          332614309.5116922,
          333288197.07559675,
          334947563.4719665,
          335149338.8022549,
          335461965.7248747,
          335683566.5941039,
          336792078.59593874,
          337049565.86214507,
          337440921.45300823,
          339007855.0313444,
          340446073.4767064,
          340790476.91503423,
          340935986.7400928,
          342087611.9876345,
          342131268.8237583,
          342699760.95877695,
          342904002.8065293,
          343336861.59621596,
          343645686.6910415,
          343776220.8701478,
          345115143.0507651,
          345492431.5698969,
          346585394.808072,
          348353761.26485384,
          348828107.0885042,
          349517661.5216491,
          350458197.1652589,
          353294245.59125614,
          353490403.90284353,
          353609548.35054576,
          353876849.79548657,
          355409555.0310688,
          355752933.4194449,
          360357582.89880294,
          360372085.5833591,
          360885641.3303509,
          361029152.4740891,
          363181927.2797866,
          363427818.7769469,
          364206303.34721535,
          364249842.34107536,
          364650167.0342443,
          365177221.931101,
          367327883.03562325,
          368667193.94303644,
          369014569.5832227,
          370525623.7154641,
          371469567.2872265,
          372881864.0500156,
          373169854.64531946,
          375079976.6151307,
          375239325.19932,
          375860217.53518707,
          380504126.7668619,
          380800103.2196849,
          381167750.3115255,
          388442539.8620261,
          388725741.03304833,
          390450507.74651146,
          391411445.4695104,
          391724928.0913265,
          392451496.9973367,
          392993758.2042197,
          393201003.0414412,
          393633297.5284063,
          397254686.1638621,
          397481883.27436537,
          403765267.61410195,
          405028012.55568045,
          406164414.9459895,
          406510626.31893414,
          407829884.10896397,
          412654015.1236213,
          413431444.37702334,
          413525952.25633436,
          414935466.5958036,
          414962334.85210943,
          422256631.20084554,
          422792800.8349137,
          427526221.9093725,
          436503720.8753268,
          436861790.73563707,
          437595621.41905385,
          439501476.07941663,
          442012224.49080026,
          442097713.2089697,
          445973335.2651974,
          450019007.2015519,
          459206061.26235074,
          466580366.5708755,
          466895443.6113384,
          468032230.59039295,
          469144740.0065141,
          469764520.8877748,
          470726083.7817012,
          478732451.3774341,
          479520554.56802964,
          482076309.6977267,
          484081088.1300731,
          489500123.22345984,
          492361326.1889765,
          509040429.2526909,
          511098583.4827055,
          514089133.11960196,
          525238661.7573559,
          526765495.4908337,
          533255429.99782485,
          536780540.209674,
          538236087.3460779,
          538833328.9814241,
          539102914.4465549,
          539326188.8647947,
          541501300.2803011,
          544704825.7407446,
          545269365.1064862,
          549393507.9379175,
          549812428.355194,
          555012417.9771565,
          558892447.2038066,
          562739231.4351208,
          565810012.1547662,
          579150054.7577477,
          583008242.7067894,
          595001863.8600973,
          597115279.8917658,
          599104243.543982,
          603029794.7617837,
          608224810.0058243,
          613303382.3346472,
          620709905.0689522,
          632859727.5498327,
          634939979.5619142,
          635366378.5885303,
          649479518.9076618,
          650902793.455308,
          651754776.4358978,
          657432145.0497768,
          662924427.9134319,
          673654925.4720695,
          688697866.3875823,
          692544896.423496,
          707585165.3635957,
          710415251.2895868,
          715950796.6164327,
          730840850.8222616,
          731949104.1318657,
          754095790.0408335,
          803085001.4011081,
          816017891.9425647,
          817014279.9019718,
          884690837.3864574,
          904084104.8398297,
          932286474.5028958,
          1085252095.606817,
          1126760646.0000427,
          1195617722.763427,
          1212548454.375018,
          1218019729.811755,
          1243239301.6811962,
          1278138340.5508795,
          1339737331.461904,
          1392531598.1683567,
          1418308456.086857,
          1549887325.427974,
          2429119055.532201,
          2446935568.2251625,
          2667962554.3023562,
          2718075430.907305,
          2817493412.5740156,
          3054894303.113419,
          3320750314.6373167,
          3343548065.605362,
          3993685217.413348,
          4387680216.051795,
          4770484277.950033
         ],
         "yaxis": "y"
        }
       ],
       "layout": {
        "annotations": [
         {
          "showarrow": false,
          "text": "R² = 0.6821",
          "x": 0.1,
          "xref": "paper",
          "y": 0.9,
          "yref": "paper"
         }
        ],
        "autosize": false,
        "height": 600,
        "legend": {
         "tracegroupgap": 0
        },
        "margin": {
         "t": 60
        },
        "template": {
         "data": {
          "bar": [
           {
            "error_x": {
             "color": "#f2f5fa"
            },
            "error_y": {
             "color": "#f2f5fa"
            },
            "marker": {
             "line": {
              "color": "rgb(17,17,17)",
              "width": 0.5
             },
             "pattern": {
              "fillmode": "overlay",
              "size": 10,
              "solidity": 0.2
             }
            },
            "type": "bar"
           }
          ],
          "barpolar": [
           {
            "marker": {
             "line": {
              "color": "rgb(17,17,17)",
              "width": 0.5
             },
             "pattern": {
              "fillmode": "overlay",
              "size": 10,
              "solidity": 0.2
             }
            },
            "type": "barpolar"
           }
          ],
          "carpet": [
           {
            "aaxis": {
             "endlinecolor": "#A2B1C6",
             "gridcolor": "#506784",
             "linecolor": "#506784",
             "minorgridcolor": "#506784",
             "startlinecolor": "#A2B1C6"
            },
            "baxis": {
             "endlinecolor": "#A2B1C6",
             "gridcolor": "#506784",
             "linecolor": "#506784",
             "minorgridcolor": "#506784",
             "startlinecolor": "#A2B1C6"
            },
            "type": "carpet"
           }
          ],
          "choropleth": [
           {
            "colorbar": {
             "outlinewidth": 0,
             "ticks": ""
            },
            "type": "choropleth"
           }
          ],
          "contour": [
           {
            "colorbar": {
             "outlinewidth": 0,
             "ticks": ""
            },
            "colorscale": [
             [
              0,
              "#0d0887"
             ],
             [
              0.1111111111111111,
              "#46039f"
             ],
             [
              0.2222222222222222,
              "#7201a8"
             ],
             [
              0.3333333333333333,
              "#9c179e"
             ],
             [
              0.4444444444444444,
              "#bd3786"
             ],
             [
              0.5555555555555556,
              "#d8576b"
             ],
             [
              0.6666666666666666,
              "#ed7953"
             ],
             [
              0.7777777777777778,
              "#fb9f3a"
             ],
             [
              0.8888888888888888,
              "#fdca26"
             ],
             [
              1,
              "#f0f921"
             ]
            ],
            "type": "contour"
           }
          ],
          "contourcarpet": [
           {
            "colorbar": {
             "outlinewidth": 0,
             "ticks": ""
            },
            "type": "contourcarpet"
           }
          ],
          "heatmap": [
           {
            "colorbar": {
             "outlinewidth": 0,
             "ticks": ""
            },
            "colorscale": [
             [
              0,
              "#0d0887"
             ],
             [
              0.1111111111111111,
              "#46039f"
             ],
             [
              0.2222222222222222,
              "#7201a8"
             ],
             [
              0.3333333333333333,
              "#9c179e"
             ],
             [
              0.4444444444444444,
              "#bd3786"
             ],
             [
              0.5555555555555556,
              "#d8576b"
             ],
             [
              0.6666666666666666,
              "#ed7953"
             ],
             [
              0.7777777777777778,
              "#fb9f3a"
             ],
             [
              0.8888888888888888,
              "#fdca26"
             ],
             [
              1,
              "#f0f921"
             ]
            ],
            "type": "heatmap"
           }
          ],
          "heatmapgl": [
           {
            "colorbar": {
             "outlinewidth": 0,
             "ticks": ""
            },
            "colorscale": [
             [
              0,
              "#0d0887"
             ],
             [
              0.1111111111111111,
              "#46039f"
             ],
             [
              0.2222222222222222,
              "#7201a8"
             ],
             [
              0.3333333333333333,
              "#9c179e"
             ],
             [
              0.4444444444444444,
              "#bd3786"
             ],
             [
              0.5555555555555556,
              "#d8576b"
             ],
             [
              0.6666666666666666,
              "#ed7953"
             ],
             [
              0.7777777777777778,
              "#fb9f3a"
             ],
             [
              0.8888888888888888,
              "#fdca26"
             ],
             [
              1,
              "#f0f921"
             ]
            ],
            "type": "heatmapgl"
           }
          ],
          "histogram": [
           {
            "marker": {
             "pattern": {
              "fillmode": "overlay",
              "size": 10,
              "solidity": 0.2
             }
            },
            "type": "histogram"
           }
          ],
          "histogram2d": [
           {
            "colorbar": {
             "outlinewidth": 0,
             "ticks": ""
            },
            "colorscale": [
             [
              0,
              "#0d0887"
             ],
             [
              0.1111111111111111,
              "#46039f"
             ],
             [
              0.2222222222222222,
              "#7201a8"
             ],
             [
              0.3333333333333333,
              "#9c179e"
             ],
             [
              0.4444444444444444,
              "#bd3786"
             ],
             [
              0.5555555555555556,
              "#d8576b"
             ],
             [
              0.6666666666666666,
              "#ed7953"
             ],
             [
              0.7777777777777778,
              "#fb9f3a"
             ],
             [
              0.8888888888888888,
              "#fdca26"
             ],
             [
              1,
              "#f0f921"
             ]
            ],
            "type": "histogram2d"
           }
          ],
          "histogram2dcontour": [
           {
            "colorbar": {
             "outlinewidth": 0,
             "ticks": ""
            },
            "colorscale": [
             [
              0,
              "#0d0887"
             ],
             [
              0.1111111111111111,
              "#46039f"
             ],
             [
              0.2222222222222222,
              "#7201a8"
             ],
             [
              0.3333333333333333,
              "#9c179e"
             ],
             [
              0.4444444444444444,
              "#bd3786"
             ],
             [
              0.5555555555555556,
              "#d8576b"
             ],
             [
              0.6666666666666666,
              "#ed7953"
             ],
             [
              0.7777777777777778,
              "#fb9f3a"
             ],
             [
              0.8888888888888888,
              "#fdca26"
             ],
             [
              1,
              "#f0f921"
             ]
            ],
            "type": "histogram2dcontour"
           }
          ],
          "mesh3d": [
           {
            "colorbar": {
             "outlinewidth": 0,
             "ticks": ""
            },
            "type": "mesh3d"
           }
          ],
          "parcoords": [
           {
            "line": {
             "colorbar": {
              "outlinewidth": 0,
              "ticks": ""
             }
            },
            "type": "parcoords"
           }
          ],
          "pie": [
           {
            "automargin": true,
            "type": "pie"
           }
          ],
          "scatter": [
           {
            "marker": {
             "line": {
              "color": "#283442"
             }
            },
            "type": "scatter"
           }
          ],
          "scatter3d": [
           {
            "line": {
             "colorbar": {
              "outlinewidth": 0,
              "ticks": ""
             }
            },
            "marker": {
             "colorbar": {
              "outlinewidth": 0,
              "ticks": ""
             }
            },
            "type": "scatter3d"
           }
          ],
          "scattercarpet": [
           {
            "marker": {
             "colorbar": {
              "outlinewidth": 0,
              "ticks": ""
             }
            },
            "type": "scattercarpet"
           }
          ],
          "scattergeo": [
           {
            "marker": {
             "colorbar": {
              "outlinewidth": 0,
              "ticks": ""
             }
            },
            "type": "scattergeo"
           }
          ],
          "scattergl": [
           {
            "marker": {
             "line": {
              "color": "#283442"
             }
            },
            "type": "scattergl"
           }
          ],
          "scattermapbox": [
           {
            "marker": {
             "colorbar": {
              "outlinewidth": 0,
              "ticks": ""
             }
            },
            "type": "scattermapbox"
           }
          ],
          "scatterpolar": [
           {
            "marker": {
             "colorbar": {
              "outlinewidth": 0,
              "ticks": ""
             }
            },
            "type": "scatterpolar"
           }
          ],
          "scatterpolargl": [
           {
            "marker": {
             "colorbar": {
              "outlinewidth": 0,
              "ticks": ""
             }
            },
            "type": "scatterpolargl"
           }
          ],
          "scatterternary": [
           {
            "marker": {
             "colorbar": {
              "outlinewidth": 0,
              "ticks": ""
             }
            },
            "type": "scatterternary"
           }
          ],
          "surface": [
           {
            "colorbar": {
             "outlinewidth": 0,
             "ticks": ""
            },
            "colorscale": [
             [
              0,
              "#0d0887"
             ],
             [
              0.1111111111111111,
              "#46039f"
             ],
             [
              0.2222222222222222,
              "#7201a8"
             ],
             [
              0.3333333333333333,
              "#9c179e"
             ],
             [
              0.4444444444444444,
              "#bd3786"
             ],
             [
              0.5555555555555556,
              "#d8576b"
             ],
             [
              0.6666666666666666,
              "#ed7953"
             ],
             [
              0.7777777777777778,
              "#fb9f3a"
             ],
             [
              0.8888888888888888,
              "#fdca26"
             ],
             [
              1,
              "#f0f921"
             ]
            ],
            "type": "surface"
           }
          ],
          "table": [
           {
            "cells": {
             "fill": {
              "color": "#506784"
             },
             "line": {
              "color": "rgb(17,17,17)"
             }
            },
            "header": {
             "fill": {
              "color": "#2a3f5f"
             },
             "line": {
              "color": "rgb(17,17,17)"
             }
            },
            "type": "table"
           }
          ]
         },
         "layout": {
          "annotationdefaults": {
           "arrowcolor": "#f2f5fa",
           "arrowhead": 0,
           "arrowwidth": 1
          },
          "autotypenumbers": "strict",
          "coloraxis": {
           "colorbar": {
            "outlinewidth": 0,
            "ticks": ""
           }
          },
          "colorscale": {
           "diverging": [
            [
             0,
             "#8e0152"
            ],
            [
             0.1,
             "#c51b7d"
            ],
            [
             0.2,
             "#de77ae"
            ],
            [
             0.3,
             "#f1b6da"
            ],
            [
             0.4,
             "#fde0ef"
            ],
            [
             0.5,
             "#f7f7f7"
            ],
            [
             0.6,
             "#e6f5d0"
            ],
            [
             0.7,
             "#b8e186"
            ],
            [
             0.8,
             "#7fbc41"
            ],
            [
             0.9,
             "#4d9221"
            ],
            [
             1,
             "#276419"
            ]
           ],
           "sequential": [
            [
             0,
             "#0d0887"
            ],
            [
             0.1111111111111111,
             "#46039f"
            ],
            [
             0.2222222222222222,
             "#7201a8"
            ],
            [
             0.3333333333333333,
             "#9c179e"
            ],
            [
             0.4444444444444444,
             "#bd3786"
            ],
            [
             0.5555555555555556,
             "#d8576b"
            ],
            [
             0.6666666666666666,
             "#ed7953"
            ],
            [
             0.7777777777777778,
             "#fb9f3a"
            ],
            [
             0.8888888888888888,
             "#fdca26"
            ],
            [
             1,
             "#f0f921"
            ]
           ],
           "sequentialminus": [
            [
             0,
             "#0d0887"
            ],
            [
             0.1111111111111111,
             "#46039f"
            ],
            [
             0.2222222222222222,
             "#7201a8"
            ],
            [
             0.3333333333333333,
             "#9c179e"
            ],
            [
             0.4444444444444444,
             "#bd3786"
            ],
            [
             0.5555555555555556,
             "#d8576b"
            ],
            [
             0.6666666666666666,
             "#ed7953"
            ],
            [
             0.7777777777777778,
             "#fb9f3a"
            ],
            [
             0.8888888888888888,
             "#fdca26"
            ],
            [
             1,
             "#f0f921"
            ]
           ]
          },
          "colorway": [
           "#636efa",
           "#EF553B",
           "#00cc96",
           "#ab63fa",
           "#FFA15A",
           "#19d3f3",
           "#FF6692",
           "#B6E880",
           "#FF97FF",
           "#FECB52"
          ],
          "font": {
           "color": "#f2f5fa"
          },
          "geo": {
           "bgcolor": "rgb(17,17,17)",
           "lakecolor": "rgb(17,17,17)",
           "landcolor": "rgb(17,17,17)",
           "showlakes": true,
           "showland": true,
           "subunitcolor": "#506784"
          },
          "hoverlabel": {
           "align": "left"
          },
          "hovermode": "closest",
          "mapbox": {
           "style": "dark"
          },
          "paper_bgcolor": "rgb(17,17,17)",
          "plot_bgcolor": "rgb(17,17,17)",
          "polar": {
           "angularaxis": {
            "gridcolor": "#506784",
            "linecolor": "#506784",
            "ticks": ""
           },
           "bgcolor": "rgb(17,17,17)",
           "radialaxis": {
            "gridcolor": "#506784",
            "linecolor": "#506784",
            "ticks": ""
           }
          },
          "scene": {
           "xaxis": {
            "backgroundcolor": "rgb(17,17,17)",
            "gridcolor": "#506784",
            "gridwidth": 2,
            "linecolor": "#506784",
            "showbackground": true,
            "ticks": "",
            "zerolinecolor": "#C8D4E3"
           },
           "yaxis": {
            "backgroundcolor": "rgb(17,17,17)",
            "gridcolor": "#506784",
            "gridwidth": 2,
            "linecolor": "#506784",
            "showbackground": true,
            "ticks": "",
            "zerolinecolor": "#C8D4E3"
           },
           "zaxis": {
            "backgroundcolor": "rgb(17,17,17)",
            "gridcolor": "#506784",
            "gridwidth": 2,
            "linecolor": "#506784",
            "showbackground": true,
            "ticks": "",
            "zerolinecolor": "#C8D4E3"
           }
          },
          "shapedefaults": {
           "line": {
            "color": "#f2f5fa"
           }
          },
          "sliderdefaults": {
           "bgcolor": "#C8D4E3",
           "bordercolor": "rgb(17,17,17)",
           "borderwidth": 1,
           "tickwidth": 0
          },
          "ternary": {
           "aaxis": {
            "gridcolor": "#506784",
            "linecolor": "#506784",
            "ticks": ""
           },
           "baxis": {
            "gridcolor": "#506784",
            "linecolor": "#506784",
            "ticks": ""
           },
           "bgcolor": "rgb(17,17,17)",
           "caxis": {
            "gridcolor": "#506784",
            "linecolor": "#506784",
            "ticks": ""
           }
          },
          "title": {
           "x": 0.05
          },
          "updatemenudefaults": {
           "bgcolor": "#506784",
           "borderwidth": 0
          },
          "xaxis": {
           "automargin": true,
           "gridcolor": "#283442",
           "linecolor": "#506784",
           "ticks": "",
           "title": {
            "standoff": 15
           },
           "zerolinecolor": "#283442",
           "zerolinewidth": 2
          },
          "yaxis": {
           "automargin": true,
           "gridcolor": "#283442",
           "linecolor": "#506784",
           "ticks": "",
           "title": {
            "standoff": 15
           },
           "zerolinecolor": "#283442",
           "zerolinewidth": 2
          }
         }
        },
        "title": {
         "font": {
          "size": 24
         },
         "text": "Regressão Linear Simples",
         "x": 0.5
        },
        "width": 800,
        "xaxis": {
         "anchor": "y",
         "domain": [
          0,
          1
         ],
         "showgrid": false,
         "title": {
          "text": "Emendas Parlamentares"
         }
        },
        "yaxis": {
         "anchor": "x",
         "domain": [
          0,
          1
         ],
         "showgrid": false,
         "showticklabels": false,
         "title": {
          "text": "Gastos"
         }
        }
       }
      }
     },
     "metadata": {},
     "output_type": "display_data"
    }
   ],
   "source": [
    "# Figura da regressão 1 gastos x emendas\n",
    "\n",
    "# Ajuste do modelo\n",
    "model_gasto = sm.OLS(y, X).fit()\n",
    "\n",
    "# Calcular R²\n",
    "r2 = model_gasto.rsquared\n",
    "\n",
    "# Use o Plotly Express para criar o gráfico\n",
    "fig_reg1 = px.scatter(variaveis_uf_ano, x='valor_emendas', y='gastos', trendline=\"ols\",template='plotly_dark',\n",
    "                labels={'valor_emendas': 'Emendas Parlamentares', 'gastos': 'Gastos'},\n",
    "                hover_data=['valor_emendas', 'gastos']).update_layout(\n",
    "    title=dict(\n",
    "        text='Regressão Linear Simples',\n",
    "        font=dict(size=24)  # Tamanho do título\n",
    "    ),\n",
    "    title_x=0.5\n",
    ").update_xaxes(showgrid=False).update_yaxes(\n",
    "                showticklabels=False, showgrid=False)\n",
    "\n",
    "\n",
    "# Adicione uma anotação para R²\n",
    "fig_reg1.add_annotation(x=0.1, y=0.9, text=f\"R² = {r2:.2f}\", showarrow=False, \n",
    "                   xref=\"paper\", yref=\"paper\").update_layout(autosize=False, width=800, height=600)\n",
    "\n",
    "fig_reg1.show()"
   ]
  },
  {
   "cell_type": "code",
   "execution_count": 40,
   "id": "6f43ab54",
   "metadata": {},
   "outputs": [
    {
     "data": {
      "application/vnd.plotly.v1+json": {
       "config": {
        "plotlyServerURL": "https://plot.ly"
       },
       "data": [
        {
         "hovertemplate": "Emendas Parlamentares=%{x}<br>Gastos per capita=%{y}<extra></extra>",
         "legendgroup": "",
         "marker": {
          "color": "#636efa",
          "symbol": "circle"
         },
         "mode": "markers",
         "name": "",
         "orientation": "v",
         "showlegend": false,
         "type": "scatter",
         "x": [
          126152400,
          26487560,
          454246408,
          243692482,
          197673542,
          883998544,
          1006366812,
          227469616,
          531294390,
          1429939234.2,
          1550993699.16,
          8121631598.400001,
          5234949978,
          6471522819.3,
          8741645838.36,
          4110550122,
          8154894594,
          9566457498,
          511062498.2399999,
          49600000,
          5566174372,
          152023938,
          722094399.9399999,
          1238173706.3,
          1169514432,
          1492622906,
          1692759402,
          315789226.4,
          63995211.2,
          216010720,
          27196320,
          189608928,
          525101904,
          966961072,
          855566608,
          1420152032,
          40074282102.81,
          23546446954.05,
          108746538939,
          51803465061,
          20603000892,
          35504703558,
          41670174075,
          39666081666,
          46605320703,
          13499847114.88,
          4077093995.36,
          23700892064,
          4882601368,
          2208461104,
          42557833984,
          17954616592,
          38069906176,
          32452019064.72,
          12746000,
          4307335,
          160451289,
          87425311,
          11290761,
          39523582.16,
          56231306.73,
          79396458,
          82527769,
          2561194506,
          1308320772.72,
          6405641211.84,
          10620567984,
          3249259572,
          9863758320,
          8019668475,
          4897829040,
          8765753256,
          13911081392.1,
          8311517868,
          30576018960,
          15315178704,
          11394550752,
          29948441964,
          26626704456,
          31127251332,
          28451573292,
          2952935043.03,
          744157232,
          23792869303,
          5239569811,
          645341942,
          16435515117,
          12944274161,
          41970468666,
          31666128186,
          95831334821.22,
          60462492306.56,
          318947748056,
          98507331670,
          53281472125,
          226229064332.04,
          254999156936,
          249681782772.3,
          265548194288,
          2713800904.22,
          1079548686.75,
          5152346583,
          3365231651,
          273577869,
          6005639961,
          4826570175,
          5282047440,
          6995683919,
          4097907949.95,
          2765784591.96,
          9432470232,
          3676368435,
          2887981176,
          25892695881,
          13490776083,
          16097651058,
          18833215605,
          3603201233.76,
          1323401470.56,
          25480993968,
          6186053952,
          3209226264,
          17741893680,
          11451442608,
          24884782992,
          28042188912,
          3776166735.76,
          2151775292.88,
          14340359312,
          5745145209,
          1882788554,
          22483771178,
          18529619249,
          24047357086,
          23172404767,
          6964278466.95,
          6155495862.849999,
          36931315172.1,
          10458128347.5,
          8289527545,
          16251705360,
          21138708465,
          20821387400,
          24929233775,
          1843338797.44,
          1464699463.36,
          13022139424,
          1954293376,
          926848832,
          9723774592,
          10468156384,
          16537544576,
          9687038816,
          26300870235.99,
          12906280105.32,
          93454303974.78,
          17470707765,
          13224365738.22,
          44255381457,
          62520271989,
          44137786980,
          53175747450,
          6388733061.64,
          4337980298.84,
          30159486802.24,
          10617717048.64,
          5126255542.48,
          16131083234.08,
          23764264144.32,
          23816560491.84,
          24387276577.16,
          2326083030.3,
          697339548.64,
          8231989324.75,
          2892613513,
          1382594561.45,
          8357387746,
          7836657030,
          11953696173,
          17387083758,
          1654550629.16,
          800085518.44,
          3020536480,
          1598455716,
          791119316,
          3067155988,
          2750344844,
          2184947492,
          2130365328,
          140178554.4,
          346601962.2,
          511444575,
          368373960,
          85590090,
          934550805,
          653715615,
          149448345,
          308167890,
          33961942972.16,
          24447178686.98,
          224338590850.99,
          33741211714,
          22321761994,
          81743634498.96,
          95250789048.94,
          86148021323,
          102210396834,
          16369751443.7,
          7806607136.8,
          36348540345,
          7034694195,
          3552869375,
          34007187295,
          35655724290,
          35746126450,
          29724191740,
          710712300,
          376859167.5,
          2353404474,
          136252500,
          398639925,
          4301545125,
          4828109025,
          5337972150,
          2974606725,
          114348429885.9,
          65512767370.65,
          472776034177.5,
          131045122140,
          117083559210,
          321366770475,
          290738314020,
          390351485145,
          432157483290,
          2394930410.02,
          1134613543.04,
          5905480052,
          1202287450,
          1021493347,
          5708285895,
          10375636930,
          4138912928,
          3053305275
         ],
         "xaxis": "x",
         "y": [
          337.690252636904,
          305.0031317613655,
          301.6398005812788,
          274.2207782128866,
          263.7858119889597,
          242.6364225275605,
          256.8782514612411,
          377.0187739546736,
          319.2597942671666,
          983.5409959329126,
          1000.924818772526,
          998.4217095108685,
          1031.55226535756,
          1067.855126266112,
          1095.302065914631,
          1061.614059798398,
          1514.588097378096,
          1247.07727020539,
          640.8898025588824,
          739.5037454066736,
          662.2805643751991,
          710.5877739318496,
          748.0119963144725,
          909.4630784288782,
          1062.709780804979,
          1471.05699504913,
          1285.23862320011,
          150.4829481743998,
          127.2596574526821,
          115.9179329214587,
          132.1677768484942,
          156.5792631823557,
          162.6456609995871,
          146.8321964820575,
          206.5439611524725,
          218.5190975588044,
          8635.935728358296,
          8916.523756636347,
          8504.379858284945,
          8298.900105138853,
          8179.112220164639,
          8238.197154597521,
          6804.319909330313,
          8961.730041740093,
          8946.818223951333,
          2604.072742107096,
          2543.925690475839,
          2456.819429379222,
          2656.163345234715,
          2860.608219387568,
          3109.843405451551,
          3184.119754663827,
          5176.533808709045,
          4194.791519981611,
          25.50972075540234,
          22.61403869715419,
          28.73622755528145,
          32.94440804950542,
          78.36591622760322,
          79.5507663995373,
          86.86680181555793,
          109.315436322946,
          106.9857498317865,
          2121.820591959412,
          2096.234594550504,
          2195.541181075399,
          2315.575060184691,
          2320.195971794692,
          2471.750834282944,
          2508.405014204583,
          3830.781824289027,
          3222.099252800296,
          3592.053948773385,
          3529.983604144909,
          3164.168721380129,
          3412.146569180253,
          3531.813049262931,
          3374.433671189666,
          3496.168407544664,
          5705.352602874816,
          4293.063284230289,
          4639.652356932163,
          4900.862092224195,
          4349.287772249409,
          4737.62044968465,
          5166.737798535906,
          4858.366884083101,
          4554.36870648203,
          5859.906424494956,
          5828.652651915619,
          16888.85841949412,
          15924.40891426863,
          15054.34838685829,
          15252.80285331482,
          15646.76644734992,
          16052.02601707516,
          15368.31478682839,
          23535.58278176244,
          21258.49585177585,
          1583.466944036448,
          1557.435664387286,
          1540.347549048235,
          1520.540868092864,
          1597.990287061913,
          1722.962239946424,
          1602.792849434376,
          2640.492631513656,
          2013.35450573957,
          2032.694323168438,
          2021.973231367101,
          2040.609184193741,
          2028.093554282425,
          2091.747169166374,
          2194.765401229839,
          2326.779930909328,
          4112.459334860078,
          2738.673583148719,
          3160.227959801975,
          2956.846322709158,
          2885.514715522447,
          3035.979679479041,
          3180.511169185435,
          3203.055563803029,
          3154.856461936664,
          3856.275513647086,
          3755.780121488213,
          1469.70528875868,
          1197.14443219125,
          1211.946900122578,
          1305.114291604086,
          1282.039699756245,
          1292.990325405593,
          1272.768417233318,
          1842.426467410012,
          1634.932530061805,
          2711.787706505661,
          2583.24628247833,
          2453.222450731836,
          2612.801086050473,
          2728.070195122154,
          2789.908177262084,
          2794.687390290702,
          4582.657852464022,
          3756.21828641334,
          2058.790430551066,
          1998.219000103304,
          2089.805732200927,
          2096.716587164572,
          2165.566835107882,
          2198.203243548275,
          2045.48452869667,
          2931.706028945028,
          2481.80345834007,
          12193.85743075285,
          12428.2525503386,
          13419.49886607603,
          14148.11442958524,
          14819.23855898532,
          15059.67576758186,
          12641.69526957186,
          16366.32322262894,
          14233.81890486624,
          3577.129444266383,
          3491.994798789378,
          3416.113471562369,
          3571.098856039236,
          3874.522495041124,
          4122.172923015006,
          4107.16755725153,
          6541.103077699597,
          5662.765233140984,
          1635.74002496198,
          1531.717501113682,
          1472.464950195896,
          1437.288534813687,
          1534.834675062797,
          1683.431032208314,
          1516.653926478203,
          2706.87616864821,
          2395.631934595836,
          898.1288590211105,
          813.6895760891558,
          825.4646308143382,
          921.0678668506794,
          967.6131542257253,
          988.597232115211,
          878.0544520733431,
          1419.14770878223,
          1283.828611015597,
          135.9787179165819,
          133.385648975102,
          158.5945695818749,
          171.843413378446,
          169.6749250434509,
          166.773027305078,
          165.6749100056135,
          162.8592168074439,
          191.1925150121851,
          12180.89906267884,
          12454.79447360792,
          11953.7958798308,
          12122.23751567997,
          12354.0389505573,
          12690.39763703699,
          12875.45459155543,
          18743.13130216928,
          15189.02403629154,
          9804.440072805559,
          10073.82129414694,
          10014.26625098014,
          10020.64457569979,
          10497.59703319719,
          10921.65423232439,
          9952.344219864075,
          13826.1452784032,
          12503.78129404661,
          454.6885552710728,
          470.7313653235748,
          451.0774949025364,
          426.9058036211674,
          450.8235583192143,
          464.2115071964936,
          485.0520396818291,
          769.7711102966676,
          649.0458005209323,
          15844.08356374957,
          15753.4228245888,
          15502.74407919235,
          15764.76155960957,
          16187.8438390919,
          16442.65064694063,
          16550.65806810732,
          24941.5464153886,
          19988.90722289886,
          1431.860629610422,
          1152.660636575939,
          984.8743250919437,
          964.1171817382277,
          894.1835511513272,
          1001.786090561589,
          1042.532604108364,
          1455.791854948776,
          1372.754633412195
         ],
         "yaxis": "y"
        },
        {
         "hovertemplate": "<b>OLS trendline</b><br>gastos_percapita = 5.6847e-08 * valor_emendas + 2812.85<br>R<sup>2</sup>=0.531116<br><br>Emendas Parlamentares=%{x}<br>Gastos per capita=%{y} <b>(trend)</b><extra></extra>",
         "legendgroup": "",
         "marker": {
          "color": "#636efa",
          "symbol": "circle"
         },
         "mode": "lines",
         "name": "",
         "showlegend": false,
         "type": "scatter",
         "x": [
          4307335,
          11290761,
          12746000,
          26487560,
          27196320,
          39523582.16,
          49600000,
          56231306.73,
          63995211.2,
          79396458,
          82527769,
          85590090,
          87425311,
          126152400,
          136252500,
          140178554.4,
          149448345,
          152023938,
          160451289,
          189608928,
          197673542,
          216010720,
          227469616,
          243692482,
          273577869,
          308167890,
          315789226.4,
          346601962.2,
          368373960,
          376859167.5,
          398639925,
          454246408,
          511062498.2399999,
          511444575,
          525101904,
          531294390,
          645341942,
          653715615,
          697339548.64,
          710712300,
          722094399.9399999,
          744157232,
          791119316,
          800085518.44,
          855566608,
          883998544,
          926848832,
          934550805,
          966961072,
          1006366812,
          1021493347,
          1079548686.75,
          1134613543.04,
          1169514432,
          1202287450,
          1238173706.3,
          1308320772.72,
          1323401470.56,
          1382594561.45,
          1420152032,
          1429939234.2,
          1464699463.36,
          1492622906,
          1550993699.16,
          1598455716,
          1654550629.16,
          1692759402,
          1843338797.44,
          1882788554,
          1954293376,
          2130365328,
          2151775292.88,
          2184947492,
          2208461104,
          2326083030.3,
          2353404474,
          2394930410.02,
          2561194506,
          2713800904.22,
          2750344844,
          2765784591.96,
          2887981176,
          2892613513,
          2952935043.03,
          2974606725,
          3020536480,
          3053305275,
          3067155988,
          3209226264,
          3249259572,
          3365231651,
          3552869375,
          3603201233.76,
          3676368435,
          3776166735.76,
          4077093995.36,
          4097907949.95,
          4110550122,
          4138912928,
          4301545125,
          4337980298.84,
          4826570175,
          4828109025,
          4882601368,
          4897829040,
          5126255542.48,
          5152346583,
          5234949978,
          5239569811,
          5282047440,
          5337972150,
          5566174372,
          5708285895,
          5745145209,
          5905480052,
          6005639961,
          6155495862.849999,
          6186053952,
          6388733061.64,
          6405641211.84,
          6471522819.3,
          6964278466.95,
          6995683919,
          7034694195,
          7806607136.8,
          7836657030,
          8019668475,
          8121631598.400001,
          8154894594,
          8231989324.75,
          8289527545,
          8311517868,
          8357387746,
          8741645838.36,
          8765753256,
          9432470232,
          9566457498,
          9687038816,
          9723774592,
          9863758320,
          10375636930,
          10458128347.5,
          10468156384,
          10617717048.64,
          10620567984,
          11394550752,
          11451442608,
          11953696173,
          12906280105.32,
          12944274161,
          13022139424,
          13224365738.22,
          13490776083,
          13499847114.88,
          13911081392.1,
          14340359312,
          15315178704,
          16097651058,
          16131083234.08,
          16251705360,
          16369751443.7,
          16435515117,
          16537544576,
          17387083758,
          17470707765,
          17741893680,
          17954616592,
          18529619249,
          18833215605,
          20603000892,
          20821387400,
          21138708465,
          22321761994,
          22483771178,
          23172404767,
          23546446954.05,
          23700892064,
          23764264144.32,
          23792869303,
          23816560491.84,
          24047357086,
          24387276577.16,
          24447178686.98,
          24884782992,
          24929233775,
          25480993968,
          25892695881,
          26300870235.99,
          26626704456,
          28042188912,
          28451573292,
          29724191740,
          29948441964,
          30159486802.24,
          30576018960,
          31127251332,
          31666128186,
          32452019064.72,
          33741211714,
          33961942972.16,
          34007187295,
          35504703558,
          35655724290,
          35746126450,
          36348540345,
          36931315172.1,
          38069906176,
          39666081666,
          40074282102.81,
          41670174075,
          41970468666,
          42557833984,
          44137786980,
          44255381457,
          46605320703,
          51803465061,
          53175747450,
          53281472125,
          60462492306.56,
          62520271989,
          65512767370.65,
          81743634498.96,
          86148021323,
          93454303974.78,
          95250789048.94,
          95831334821.22,
          98507331670,
          102210396834,
          108746538939,
          114348429885.9,
          117083559210,
          131045122140,
          224338590850.99,
          226229064332.04,
          249681782772.3,
          254999156936,
          265548194288,
          290738314020,
          318947748056,
          321366770475,
          390351485145,
          432157483290,
          472776034177.5
         ],
         "xaxis": "x",
         "y": [
          2813.0952548872306,
          2813.492241545721,
          2813.5749674839517,
          2814.356133631749,
          2814.3964244952977,
          2815.0971920860525,
          2815.670005981103,
          2816.0469757234855,
          2816.4883302237527,
          2817.3638445492024,
          2817.5418501141767,
          2817.7159338061947,
          2817.82026057251,
          2820.0217785173086,
          2820.5959386715676,
          2820.819122996469,
          2821.346082571211,
          2821.492497247718,
          2821.9715666777392,
          2823.629090316721,
          2824.0875392447797,
          2825.1299523841703,
          2825.78135598364,
          2826.7035768770065,
          2828.4024707899403,
          2830.3688089245325,
          2830.8020588609775,
          2832.553669749987,
          2833.791342012181,
          2834.2737004093374,
          2835.511870633997,
          2838.672931104399,
          2841.902754089975,
          2841.9244739988335,
          2842.7008518688954,
          2843.0528759792514,
          2849.536134565724,
          2850.012152563704,
          2852.492041324028,
          2853.2522418154813,
          2853.8992797910805,
          2855.153485101817,
          2857.8231376194935,
          2858.33283912503,
          2861.486771357409,
          2863.103040974507,
          2865.5389503187853,
          2865.9767842021906,
          2867.8192099108774,
          2870.059307113589,
          2870.919204903612,
          2874.219475477809,
          2877.3497461069846,
          2879.3337561454064,
          2881.196803151914,
          2883.236828345031,
          2887.2244770293564,
          2888.0817691153907,
          2891.446717402684,
          2893.581746074141,
          2894.138118934303,
          2896.1141328882836,
          2897.7014961949476,
          2901.019699341945,
          2903.7177715303706,
          2906.906597778934,
          2909.078651016811,
          2917.6386344738185,
          2919.881233884912,
          2923.9460668697157,
          2933.9552251078594,
          2935.17231689291,
          2937.0580561394386,
          2938.394733904324,
          2945.081184865077,
          2946.6343263517333,
          2948.9949502892205,
          2958.4465615599684,
          2967.121773997763,
          2969.199186508662,
          2970.0768895086762,
          2977.0233959336006,
          2977.28673028935,
          2980.715826930689,
          2981.947796541184,
          2984.5587642757505,
          2986.4215712174732,
          2987.208942383371,
          2995.2852081217143,
          2997.5609806682032,
          3004.1536427971355,
          3014.820280212283,
          3017.6814942388573,
          3021.840828458389,
          3027.514060184727,
          3044.6208652453506,
          3045.804075647044,
          3046.5227449131307,
          3048.135084698696,
          3057.3802334909924,
          3059.451462986982,
          3087.226320529543,
          3087.313799500383,
          3090.411524479625,
          3091.277171602379,
          3104.2625277771554,
          3105.7457245623114,
          3110.4414778732244,
          3110.7041014143706,
          3113.118826220978,
          3116.2979769343883,
          3129.2705834418352,
          3137.349193947446,
          3139.4445345294343,
          3148.559085691308,
          3154.2528737530156,
          3162.7717287864193,
          3164.508863783126,
          3176.0305585045708,
          3176.9917357332197,
          3180.736905969365,
          3208.7485750287733,
          3210.533880044923,
          3212.7514963146496,
          3256.6324137054416,
          3258.3406592985734,
          3268.7443067369595,
          3274.540602086522,
          3276.4315028384776,
          3280.8141052384544,
          3284.0849791322335,
          3285.33506252209,
          3287.942626430204,
          3309.7865374394864,
          3311.156971260041,
          3349.0578159831166,
          3356.6745870364093,
          3363.529270469611,
          3365.617588289732,
          3373.5752400815254,
          3402.6739917453406,
          3407.363379473866,
          3407.933443035985,
          3416.435514726448,
          3416.597581783812,
          3460.596162537371,
          3463.830292577377,
          3492.3818895276795,
          3546.5334065944317,
          3548.693253810813,
          3553.1196586400256,
          3564.6156133105605,
          3579.7602361019385,
          3580.275896844259,
          3603.653322418798,
          3628.056474537089,
          3683.4720102729534,
          3727.953198328159,
          3729.853716479001,
          3736.7107197191003,
          3743.4212827458937,
          3747.159748781536,
          3752.9598151094388,
          3801.2535496057853,
          3806.007321623776,
          3821.4234211464923,
          3833.5160756715404,
          3866.203238594947,
          3883.461773717724,
          3984.068717548973,
          3996.4833303866135,
          4014.5220737287755,
          4081.775090699677,
          4090.984823086176,
          4130.131561008421,
          4151.394728681629,
          4160.1744663231875,
          4163.776977527262,
          4165.403094330098,
          4166.749866801555,
          4179.869955523989,
          4199.19335108247,
          4202.598604952701,
          4227.475086895936,
          4230.001979542963,
          4261.367878645655,
          4284.77188790071,
          4307.975366146054,
          4326.498056616836,
          4406.9640691918385,
          4430.2363337013185,
          4502.580845579129,
          4515.328792946438,
          4527.326054050737,
          4551.004648119459,
          4582.340542193806,
          4612.974062418307,
          4657.649583270274,
          4730.936288390098,
          4743.484193186587,
          4746.056196174793,
          4831.185469010714,
          4839.770541117078,
          4844.9096306440115,
          4879.155039588599,
          4912.284026888354,
          4977.009483709338,
          5067.747235371551,
          5090.952196289521,
          5181.673830821259,
          5198.744670584413,
          5232.134613415625,
          5321.950165331547,
          5328.635055882569,
          5462.221998584488,
          5757.720792304557,
          5835.730897962496,
          5841.741026150041,
          6249.960316571381,
          6366.938871229421,
          6537.053187914285,
          7459.7289212391825,
          7710.104998536339,
          8125.445081744328,
          8227.569827767087,
          8260.572100038346,
          8412.694431846277,
          8623.202492736264,
          8994.762413852724,
          9313.212980700242,
          9468.696814983541,
          10262.36946432281,
          15565.82115158327,
          15673.288854428098,
          17006.505004512026,
          17308.781652276415,
          17908.46253794218,
          19340.444699617674,
          20944.065752644972,
          21081.57986490624,
          25003.152365819104,
          27379.696988535976,
          29688.738824098153
         ],
         "yaxis": "y"
        }
       ],
       "layout": {
        "annotations": [
         {
          "showarrow": false,
          "text": "R² = 0.6821",
          "x": 0.1,
          "xref": "paper",
          "y": 0.9,
          "yref": "paper"
         }
        ],
        "autosize": false,
        "height": 600,
        "legend": {
         "tracegroupgap": 0
        },
        "margin": {
         "t": 60
        },
        "template": {
         "data": {
          "bar": [
           {
            "error_x": {
             "color": "#f2f5fa"
            },
            "error_y": {
             "color": "#f2f5fa"
            },
            "marker": {
             "line": {
              "color": "rgb(17,17,17)",
              "width": 0.5
             },
             "pattern": {
              "fillmode": "overlay",
              "size": 10,
              "solidity": 0.2
             }
            },
            "type": "bar"
           }
          ],
          "barpolar": [
           {
            "marker": {
             "line": {
              "color": "rgb(17,17,17)",
              "width": 0.5
             },
             "pattern": {
              "fillmode": "overlay",
              "size": 10,
              "solidity": 0.2
             }
            },
            "type": "barpolar"
           }
          ],
          "carpet": [
           {
            "aaxis": {
             "endlinecolor": "#A2B1C6",
             "gridcolor": "#506784",
             "linecolor": "#506784",
             "minorgridcolor": "#506784",
             "startlinecolor": "#A2B1C6"
            },
            "baxis": {
             "endlinecolor": "#A2B1C6",
             "gridcolor": "#506784",
             "linecolor": "#506784",
             "minorgridcolor": "#506784",
             "startlinecolor": "#A2B1C6"
            },
            "type": "carpet"
           }
          ],
          "choropleth": [
           {
            "colorbar": {
             "outlinewidth": 0,
             "ticks": ""
            },
            "type": "choropleth"
           }
          ],
          "contour": [
           {
            "colorbar": {
             "outlinewidth": 0,
             "ticks": ""
            },
            "colorscale": [
             [
              0,
              "#0d0887"
             ],
             [
              0.1111111111111111,
              "#46039f"
             ],
             [
              0.2222222222222222,
              "#7201a8"
             ],
             [
              0.3333333333333333,
              "#9c179e"
             ],
             [
              0.4444444444444444,
              "#bd3786"
             ],
             [
              0.5555555555555556,
              "#d8576b"
             ],
             [
              0.6666666666666666,
              "#ed7953"
             ],
             [
              0.7777777777777778,
              "#fb9f3a"
             ],
             [
              0.8888888888888888,
              "#fdca26"
             ],
             [
              1,
              "#f0f921"
             ]
            ],
            "type": "contour"
           }
          ],
          "contourcarpet": [
           {
            "colorbar": {
             "outlinewidth": 0,
             "ticks": ""
            },
            "type": "contourcarpet"
           }
          ],
          "heatmap": [
           {
            "colorbar": {
             "outlinewidth": 0,
             "ticks": ""
            },
            "colorscale": [
             [
              0,
              "#0d0887"
             ],
             [
              0.1111111111111111,
              "#46039f"
             ],
             [
              0.2222222222222222,
              "#7201a8"
             ],
             [
              0.3333333333333333,
              "#9c179e"
             ],
             [
              0.4444444444444444,
              "#bd3786"
             ],
             [
              0.5555555555555556,
              "#d8576b"
             ],
             [
              0.6666666666666666,
              "#ed7953"
             ],
             [
              0.7777777777777778,
              "#fb9f3a"
             ],
             [
              0.8888888888888888,
              "#fdca26"
             ],
             [
              1,
              "#f0f921"
             ]
            ],
            "type": "heatmap"
           }
          ],
          "heatmapgl": [
           {
            "colorbar": {
             "outlinewidth": 0,
             "ticks": ""
            },
            "colorscale": [
             [
              0,
              "#0d0887"
             ],
             [
              0.1111111111111111,
              "#46039f"
             ],
             [
              0.2222222222222222,
              "#7201a8"
             ],
             [
              0.3333333333333333,
              "#9c179e"
             ],
             [
              0.4444444444444444,
              "#bd3786"
             ],
             [
              0.5555555555555556,
              "#d8576b"
             ],
             [
              0.6666666666666666,
              "#ed7953"
             ],
             [
              0.7777777777777778,
              "#fb9f3a"
             ],
             [
              0.8888888888888888,
              "#fdca26"
             ],
             [
              1,
              "#f0f921"
             ]
            ],
            "type": "heatmapgl"
           }
          ],
          "histogram": [
           {
            "marker": {
             "pattern": {
              "fillmode": "overlay",
              "size": 10,
              "solidity": 0.2
             }
            },
            "type": "histogram"
           }
          ],
          "histogram2d": [
           {
            "colorbar": {
             "outlinewidth": 0,
             "ticks": ""
            },
            "colorscale": [
             [
              0,
              "#0d0887"
             ],
             [
              0.1111111111111111,
              "#46039f"
             ],
             [
              0.2222222222222222,
              "#7201a8"
             ],
             [
              0.3333333333333333,
              "#9c179e"
             ],
             [
              0.4444444444444444,
              "#bd3786"
             ],
             [
              0.5555555555555556,
              "#d8576b"
             ],
             [
              0.6666666666666666,
              "#ed7953"
             ],
             [
              0.7777777777777778,
              "#fb9f3a"
             ],
             [
              0.8888888888888888,
              "#fdca26"
             ],
             [
              1,
              "#f0f921"
             ]
            ],
            "type": "histogram2d"
           }
          ],
          "histogram2dcontour": [
           {
            "colorbar": {
             "outlinewidth": 0,
             "ticks": ""
            },
            "colorscale": [
             [
              0,
              "#0d0887"
             ],
             [
              0.1111111111111111,
              "#46039f"
             ],
             [
              0.2222222222222222,
              "#7201a8"
             ],
             [
              0.3333333333333333,
              "#9c179e"
             ],
             [
              0.4444444444444444,
              "#bd3786"
             ],
             [
              0.5555555555555556,
              "#d8576b"
             ],
             [
              0.6666666666666666,
              "#ed7953"
             ],
             [
              0.7777777777777778,
              "#fb9f3a"
             ],
             [
              0.8888888888888888,
              "#fdca26"
             ],
             [
              1,
              "#f0f921"
             ]
            ],
            "type": "histogram2dcontour"
           }
          ],
          "mesh3d": [
           {
            "colorbar": {
             "outlinewidth": 0,
             "ticks": ""
            },
            "type": "mesh3d"
           }
          ],
          "parcoords": [
           {
            "line": {
             "colorbar": {
              "outlinewidth": 0,
              "ticks": ""
             }
            },
            "type": "parcoords"
           }
          ],
          "pie": [
           {
            "automargin": true,
            "type": "pie"
           }
          ],
          "scatter": [
           {
            "marker": {
             "line": {
              "color": "#283442"
             }
            },
            "type": "scatter"
           }
          ],
          "scatter3d": [
           {
            "line": {
             "colorbar": {
              "outlinewidth": 0,
              "ticks": ""
             }
            },
            "marker": {
             "colorbar": {
              "outlinewidth": 0,
              "ticks": ""
             }
            },
            "type": "scatter3d"
           }
          ],
          "scattercarpet": [
           {
            "marker": {
             "colorbar": {
              "outlinewidth": 0,
              "ticks": ""
             }
            },
            "type": "scattercarpet"
           }
          ],
          "scattergeo": [
           {
            "marker": {
             "colorbar": {
              "outlinewidth": 0,
              "ticks": ""
             }
            },
            "type": "scattergeo"
           }
          ],
          "scattergl": [
           {
            "marker": {
             "line": {
              "color": "#283442"
             }
            },
            "type": "scattergl"
           }
          ],
          "scattermapbox": [
           {
            "marker": {
             "colorbar": {
              "outlinewidth": 0,
              "ticks": ""
             }
            },
            "type": "scattermapbox"
           }
          ],
          "scatterpolar": [
           {
            "marker": {
             "colorbar": {
              "outlinewidth": 0,
              "ticks": ""
             }
            },
            "type": "scatterpolar"
           }
          ],
          "scatterpolargl": [
           {
            "marker": {
             "colorbar": {
              "outlinewidth": 0,
              "ticks": ""
             }
            },
            "type": "scatterpolargl"
           }
          ],
          "scatterternary": [
           {
            "marker": {
             "colorbar": {
              "outlinewidth": 0,
              "ticks": ""
             }
            },
            "type": "scatterternary"
           }
          ],
          "surface": [
           {
            "colorbar": {
             "outlinewidth": 0,
             "ticks": ""
            },
            "colorscale": [
             [
              0,
              "#0d0887"
             ],
             [
              0.1111111111111111,
              "#46039f"
             ],
             [
              0.2222222222222222,
              "#7201a8"
             ],
             [
              0.3333333333333333,
              "#9c179e"
             ],
             [
              0.4444444444444444,
              "#bd3786"
             ],
             [
              0.5555555555555556,
              "#d8576b"
             ],
             [
              0.6666666666666666,
              "#ed7953"
             ],
             [
              0.7777777777777778,
              "#fb9f3a"
             ],
             [
              0.8888888888888888,
              "#fdca26"
             ],
             [
              1,
              "#f0f921"
             ]
            ],
            "type": "surface"
           }
          ],
          "table": [
           {
            "cells": {
             "fill": {
              "color": "#506784"
             },
             "line": {
              "color": "rgb(17,17,17)"
             }
            },
            "header": {
             "fill": {
              "color": "#2a3f5f"
             },
             "line": {
              "color": "rgb(17,17,17)"
             }
            },
            "type": "table"
           }
          ]
         },
         "layout": {
          "annotationdefaults": {
           "arrowcolor": "#f2f5fa",
           "arrowhead": 0,
           "arrowwidth": 1
          },
          "autotypenumbers": "strict",
          "coloraxis": {
           "colorbar": {
            "outlinewidth": 0,
            "ticks": ""
           }
          },
          "colorscale": {
           "diverging": [
            [
             0,
             "#8e0152"
            ],
            [
             0.1,
             "#c51b7d"
            ],
            [
             0.2,
             "#de77ae"
            ],
            [
             0.3,
             "#f1b6da"
            ],
            [
             0.4,
             "#fde0ef"
            ],
            [
             0.5,
             "#f7f7f7"
            ],
            [
             0.6,
             "#e6f5d0"
            ],
            [
             0.7,
             "#b8e186"
            ],
            [
             0.8,
             "#7fbc41"
            ],
            [
             0.9,
             "#4d9221"
            ],
            [
             1,
             "#276419"
            ]
           ],
           "sequential": [
            [
             0,
             "#0d0887"
            ],
            [
             0.1111111111111111,
             "#46039f"
            ],
            [
             0.2222222222222222,
             "#7201a8"
            ],
            [
             0.3333333333333333,
             "#9c179e"
            ],
            [
             0.4444444444444444,
             "#bd3786"
            ],
            [
             0.5555555555555556,
             "#d8576b"
            ],
            [
             0.6666666666666666,
             "#ed7953"
            ],
            [
             0.7777777777777778,
             "#fb9f3a"
            ],
            [
             0.8888888888888888,
             "#fdca26"
            ],
            [
             1,
             "#f0f921"
            ]
           ],
           "sequentialminus": [
            [
             0,
             "#0d0887"
            ],
            [
             0.1111111111111111,
             "#46039f"
            ],
            [
             0.2222222222222222,
             "#7201a8"
            ],
            [
             0.3333333333333333,
             "#9c179e"
            ],
            [
             0.4444444444444444,
             "#bd3786"
            ],
            [
             0.5555555555555556,
             "#d8576b"
            ],
            [
             0.6666666666666666,
             "#ed7953"
            ],
            [
             0.7777777777777778,
             "#fb9f3a"
            ],
            [
             0.8888888888888888,
             "#fdca26"
            ],
            [
             1,
             "#f0f921"
            ]
           ]
          },
          "colorway": [
           "#636efa",
           "#EF553B",
           "#00cc96",
           "#ab63fa",
           "#FFA15A",
           "#19d3f3",
           "#FF6692",
           "#B6E880",
           "#FF97FF",
           "#FECB52"
          ],
          "font": {
           "color": "#f2f5fa"
          },
          "geo": {
           "bgcolor": "rgb(17,17,17)",
           "lakecolor": "rgb(17,17,17)",
           "landcolor": "rgb(17,17,17)",
           "showlakes": true,
           "showland": true,
           "subunitcolor": "#506784"
          },
          "hoverlabel": {
           "align": "left"
          },
          "hovermode": "closest",
          "mapbox": {
           "style": "dark"
          },
          "paper_bgcolor": "rgb(17,17,17)",
          "plot_bgcolor": "rgb(17,17,17)",
          "polar": {
           "angularaxis": {
            "gridcolor": "#506784",
            "linecolor": "#506784",
            "ticks": ""
           },
           "bgcolor": "rgb(17,17,17)",
           "radialaxis": {
            "gridcolor": "#506784",
            "linecolor": "#506784",
            "ticks": ""
           }
          },
          "scene": {
           "xaxis": {
            "backgroundcolor": "rgb(17,17,17)",
            "gridcolor": "#506784",
            "gridwidth": 2,
            "linecolor": "#506784",
            "showbackground": true,
            "ticks": "",
            "zerolinecolor": "#C8D4E3"
           },
           "yaxis": {
            "backgroundcolor": "rgb(17,17,17)",
            "gridcolor": "#506784",
            "gridwidth": 2,
            "linecolor": "#506784",
            "showbackground": true,
            "ticks": "",
            "zerolinecolor": "#C8D4E3"
           },
           "zaxis": {
            "backgroundcolor": "rgb(17,17,17)",
            "gridcolor": "#506784",
            "gridwidth": 2,
            "linecolor": "#506784",
            "showbackground": true,
            "ticks": "",
            "zerolinecolor": "#C8D4E3"
           }
          },
          "shapedefaults": {
           "line": {
            "color": "#f2f5fa"
           }
          },
          "sliderdefaults": {
           "bgcolor": "#C8D4E3",
           "bordercolor": "rgb(17,17,17)",
           "borderwidth": 1,
           "tickwidth": 0
          },
          "ternary": {
           "aaxis": {
            "gridcolor": "#506784",
            "linecolor": "#506784",
            "ticks": ""
           },
           "baxis": {
            "gridcolor": "#506784",
            "linecolor": "#506784",
            "ticks": ""
           },
           "bgcolor": "rgb(17,17,17)",
           "caxis": {
            "gridcolor": "#506784",
            "linecolor": "#506784",
            "ticks": ""
           }
          },
          "title": {
           "x": 0.05
          },
          "updatemenudefaults": {
           "bgcolor": "#506784",
           "borderwidth": 0
          },
          "xaxis": {
           "automargin": true,
           "gridcolor": "#283442",
           "linecolor": "#506784",
           "ticks": "",
           "title": {
            "standoff": 15
           },
           "zerolinecolor": "#283442",
           "zerolinewidth": 2
          },
          "yaxis": {
           "automargin": true,
           "gridcolor": "#283442",
           "linecolor": "#506784",
           "ticks": "",
           "title": {
            "standoff": 15
           },
           "zerolinecolor": "#283442",
           "zerolinewidth": 2
          }
         }
        },
        "title": {
         "font": {
          "size": 24
         },
         "text": "Regressão Linear Simples",
         "x": 0.5
        },
        "width": 800,
        "xaxis": {
         "anchor": "y",
         "domain": [
          0,
          1
         ],
         "showgrid": false,
         "title": {
          "text": "Emendas Parlamentares"
         }
        },
        "yaxis": {
         "anchor": "x",
         "domain": [
          0,
          1
         ],
         "showgrid": false,
         "showticklabels": false,
         "title": {
          "text": "Gastos per capita"
         }
        }
       }
      }
     },
     "metadata": {},
     "output_type": "display_data"
    }
   ],
   "source": [
    "# Figura da regressão 2 gastos per capita x emendas\n",
    "\n",
    "# Ajuste do modelo\n",
    "model_gastopc = sm.OLS(y, X).fit()\n",
    "\n",
    "# Calcular R²\n",
    "r2 = model_gastopc.rsquared\n",
    "\n",
    "# Use o Plotly Express para criar o gráfico\n",
    "fig_reg2 = px.scatter(variaveis_uf_ano, x='valor_emendas', y='gastos_percapita', trendline=\"ols\",template='plotly_dark',\n",
    "                labels={'valor_emendas': 'Emendas Parlamentares', 'gastos_percapita': 'Gastos per capita'},\n",
    "                hover_data=['valor_emendas', 'gastos_percapita']).update_layout(\n",
    "    title=dict(\n",
    "        text='Regressão Linear Simples',\n",
    "        font=dict(size=24)  # Tamanho do título\n",
    "    ),\n",
    "    title_x=0.5\n",
    ").update_xaxes(showgrid=False).update_yaxes(\n",
    "                showticklabels=False, showgrid=False)\n",
    "\n",
    "\n",
    "# Adicione uma anotação para R²\n",
    "fig_reg2.add_annotation(x=0.1, y=0.9, text=f\"R² = {r2:.2f}\", showarrow=False, \n",
    "                   xref=\"paper\", yref=\"paper\").update_layout(autosize=False, width=800, height=600)\n",
    "\n",
    "fig_reg2.show()"
   ]
  },
  {
   "cell_type": "code",
   "execution_count": 8,
   "id": "3d0ffa0d-3b37-4203-8c89-71bbd2b339b6",
   "metadata": {},
   "outputs": [
    {
     "data": {
      "text/html": [
       "<div>\n",
       "<style scoped>\n",
       "    .dataframe tbody tr th:only-of-type {\n",
       "        vertical-align: middle;\n",
       "    }\n",
       "\n",
       "    .dataframe tbody tr th {\n",
       "        vertical-align: top;\n",
       "    }\n",
       "\n",
       "    .dataframe thead th {\n",
       "        text-align: right;\n",
       "    }\n",
       "</style>\n",
       "<table border=\"1\" class=\"dataframe\">\n",
       "  <thead>\n",
       "    <tr style=\"text-align: right;\">\n",
       "      <th></th>\n",
       "      <th>uf</th>\n",
       "      <th>ano</th>\n",
       "      <th>gastos</th>\n",
       "      <th>gastos_percapita</th>\n",
       "      <th>mortalidade</th>\n",
       "      <th>valor_emendas</th>\n",
       "      <th>Cod_UF</th>\n",
       "      <th>regiao</th>\n",
       "      <th>ano_emenda</th>\n",
       "    </tr>\n",
       "  </thead>\n",
       "  <tbody>\n",
       "    <tr>\n",
       "      <th>0</th>\n",
       "      <td>AC</td>\n",
       "      <td>2014</td>\n",
       "      <td>3.603932e+07</td>\n",
       "      <td>337.690253</td>\n",
       "      <td>0.920833</td>\n",
       "      <td>1.261524e+08</td>\n",
       "      <td>12</td>\n",
       "      <td>Norte</td>\n",
       "      <td>0</td>\n",
       "    </tr>\n",
       "    <tr>\n",
       "      <th>1</th>\n",
       "      <td>AC</td>\n",
       "      <td>2015</td>\n",
       "      <td>3.726202e+07</td>\n",
       "      <td>305.003132</td>\n",
       "      <td>1.236364</td>\n",
       "      <td>2.648756e+07</td>\n",
       "      <td>12</td>\n",
       "      <td>Norte</td>\n",
       "      <td>0</td>\n",
       "    </tr>\n",
       "    <tr>\n",
       "      <th>2</th>\n",
       "      <td>AC</td>\n",
       "      <td>2016</td>\n",
       "      <td>4.048715e+07</td>\n",
       "      <td>301.639801</td>\n",
       "      <td>1.342000</td>\n",
       "      <td>4.542464e+08</td>\n",
       "      <td>12</td>\n",
       "      <td>Norte</td>\n",
       "      <td>0</td>\n",
       "    </tr>\n",
       "    <tr>\n",
       "      <th>3</th>\n",
       "      <td>AC</td>\n",
       "      <td>2017</td>\n",
       "      <td>3.724553e+07</td>\n",
       "      <td>274.220778</td>\n",
       "      <td>1.467500</td>\n",
       "      <td>2.436925e+08</td>\n",
       "      <td>12</td>\n",
       "      <td>Norte</td>\n",
       "      <td>0</td>\n",
       "    </tr>\n",
       "    <tr>\n",
       "      <th>4</th>\n",
       "      <td>AC</td>\n",
       "      <td>2018</td>\n",
       "      <td>3.443257e+07</td>\n",
       "      <td>263.785812</td>\n",
       "      <td>1.718000</td>\n",
       "      <td>1.976735e+08</td>\n",
       "      <td>12</td>\n",
       "      <td>Norte</td>\n",
       "      <td>1</td>\n",
       "    </tr>\n",
       "    <tr>\n",
       "      <th>...</th>\n",
       "      <td>...</td>\n",
       "      <td>...</td>\n",
       "      <td>...</td>\n",
       "      <td>...</td>\n",
       "      <td>...</td>\n",
       "      <td>...</td>\n",
       "      <td>...</td>\n",
       "      <td>...</td>\n",
       "      <td>...</td>\n",
       "    </tr>\n",
       "    <tr>\n",
       "      <th>238</th>\n",
       "      <td>TO</td>\n",
       "      <td>2018</td>\n",
       "      <td>6.298209e+07</td>\n",
       "      <td>894.183551</td>\n",
       "      <td>1.939130</td>\n",
       "      <td>1.021493e+09</td>\n",
       "      <td>17</td>\n",
       "      <td>Norte</td>\n",
       "      <td>1</td>\n",
       "    </tr>\n",
       "    <tr>\n",
       "      <th>239</th>\n",
       "      <td>TO</td>\n",
       "      <td>2019</td>\n",
       "      <td>8.231413e+07</td>\n",
       "      <td>1001.786091</td>\n",
       "      <td>2.390476</td>\n",
       "      <td>5.708286e+09</td>\n",
       "      <td>17</td>\n",
       "      <td>Norte</td>\n",
       "      <td>1</td>\n",
       "    </tr>\n",
       "    <tr>\n",
       "      <th>240</th>\n",
       "      <td>TO</td>\n",
       "      <td>2020</td>\n",
       "      <td>9.288584e+07</td>\n",
       "      <td>1042.532604</td>\n",
       "      <td>2.676364</td>\n",
       "      <td>1.037564e+10</td>\n",
       "      <td>17</td>\n",
       "      <td>Norte</td>\n",
       "      <td>1</td>\n",
       "    </tr>\n",
       "    <tr>\n",
       "      <th>241</th>\n",
       "      <td>TO</td>\n",
       "      <td>2021</td>\n",
       "      <td>1.192244e+08</td>\n",
       "      <td>1455.791855</td>\n",
       "      <td>3.041538</td>\n",
       "      <td>4.138913e+09</td>\n",
       "      <td>17</td>\n",
       "      <td>Norte</td>\n",
       "      <td>1</td>\n",
       "    </tr>\n",
       "    <tr>\n",
       "      <th>242</th>\n",
       "      <td>TO</td>\n",
       "      <td>2022</td>\n",
       "      <td>9.915602e+07</td>\n",
       "      <td>1372.754633</td>\n",
       "      <td>2.200870</td>\n",
       "      <td>3.053305e+09</td>\n",
       "      <td>17</td>\n",
       "      <td>Norte</td>\n",
       "      <td>1</td>\n",
       "    </tr>\n",
       "  </tbody>\n",
       "</table>\n",
       "<p>243 rows × 9 columns</p>\n",
       "</div>"
      ],
      "text/plain": [
       "     uf   ano        gastos  gastos_percapita  mortalidade  valor_emendas  \\\n",
       "0    AC  2014  3.603932e+07        337.690253     0.920833   1.261524e+08   \n",
       "1    AC  2015  3.726202e+07        305.003132     1.236364   2.648756e+07   \n",
       "2    AC  2016  4.048715e+07        301.639801     1.342000   4.542464e+08   \n",
       "3    AC  2017  3.724553e+07        274.220778     1.467500   2.436925e+08   \n",
       "4    AC  2018  3.443257e+07        263.785812     1.718000   1.976735e+08   \n",
       "..   ..   ...           ...               ...          ...            ...   \n",
       "238  TO  2018  6.298209e+07        894.183551     1.939130   1.021493e+09   \n",
       "239  TO  2019  8.231413e+07       1001.786091     2.390476   5.708286e+09   \n",
       "240  TO  2020  9.288584e+07       1042.532604     2.676364   1.037564e+10   \n",
       "241  TO  2021  1.192244e+08       1455.791855     3.041538   4.138913e+09   \n",
       "242  TO  2022  9.915602e+07       1372.754633     2.200870   3.053305e+09   \n",
       "\n",
       "    Cod_UF regiao  ano_emenda  \n",
       "0       12  Norte           0  \n",
       "1       12  Norte           0  \n",
       "2       12  Norte           0  \n",
       "3       12  Norte           0  \n",
       "4       12  Norte           1  \n",
       "..     ...    ...         ...  \n",
       "238     17  Norte           1  \n",
       "239     17  Norte           1  \n",
       "240     17  Norte           1  \n",
       "241     17  Norte           1  \n",
       "242     17  Norte           1  \n",
       "\n",
       "[243 rows x 9 columns]"
      ]
     },
     "execution_count": 8,
     "metadata": {},
     "output_type": "execute_result"
    }
   ],
   "source": [
    "variaveis_uf_ano['ano_emenda'] = (variaveis_uf_ano['ano'] >= 2018).astype(int)\n",
    "variaveis_uf_ano"
   ]
  },
  {
   "cell_type": "code",
   "execution_count": 42,
   "id": "3cdc0b5e-751c-467d-9200-3a510889e87a",
   "metadata": {},
   "outputs": [
    {
     "data": {
      "application/vnd.plotly.v1+json": {
       "config": {
        "plotlyServerURL": "https://plot.ly"
       },
       "data": [
        {
         "hovertemplate": "Valor das Emendas=%{x}<br>Gastos=%{y}<extra></extra>",
         "legendgroup": "",
         "marker": {
          "color": "#636efa",
          "symbol": "circle"
         },
         "mode": "markers",
         "name": "",
         "orientation": "v",
         "showlegend": false,
         "type": "scatter",
         "x": [
          126152400,
          26487560,
          454246408,
          243692482,
          197673542,
          883998544,
          1006366812,
          227469616,
          531294390,
          1429939234.2,
          1550993699.16,
          8121631598.400001,
          5234949978,
          6471522819.3,
          8741645838.36,
          4110550122,
          8154894594,
          9566457498,
          511062498.2399999,
          49600000,
          5566174372,
          152023938,
          722094399.9399999,
          1238173706.3,
          1169514432,
          1492622906,
          1692759402,
          315789226.4,
          63995211.2,
          216010720,
          27196320,
          189608928,
          525101904,
          966961072,
          855566608,
          1420152032,
          40074282102.81,
          23546446954.05,
          108746538939,
          51803465061,
          20603000892,
          35504703558,
          41670174075,
          39666081666,
          46605320703,
          13499847114.88,
          4077093995.36,
          23700892064,
          4882601368,
          2208461104,
          42557833984,
          17954616592,
          38069906176,
          32452019064.72,
          12746000,
          4307335,
          160451289,
          87425311,
          11290761,
          39523582.16,
          56231306.73,
          79396458,
          82527769,
          2561194506,
          1308320772.72,
          6405641211.84,
          10620567984,
          3249259572,
          9863758320,
          8019668475,
          4897829040,
          8765753256,
          13911081392.1,
          8311517868,
          30576018960,
          15315178704,
          11394550752,
          29948441964,
          26626704456,
          31127251332,
          28451573292,
          2952935043.03,
          744157232,
          23792869303,
          5239569811,
          645341942,
          16435515117,
          12944274161,
          41970468666,
          31666128186,
          95831334821.22,
          60462492306.56,
          318947748056,
          98507331670,
          53281472125,
          226229064332.04,
          254999156936,
          249681782772.3,
          265548194288,
          2713800904.22,
          1079548686.75,
          5152346583,
          3365231651,
          273577869,
          6005639961,
          4826570175,
          5282047440,
          6995683919,
          4097907949.95,
          2765784591.96,
          9432470232,
          3676368435,
          2887981176,
          25892695881,
          13490776083,
          16097651058,
          18833215605,
          3603201233.76,
          1323401470.56,
          25480993968,
          6186053952,
          3209226264,
          17741893680,
          11451442608,
          24884782992,
          28042188912,
          3776166735.76,
          2151775292.88,
          14340359312,
          5745145209,
          1882788554,
          22483771178,
          18529619249,
          24047357086,
          23172404767,
          6964278466.95,
          6155495862.849999,
          36931315172.1,
          10458128347.5,
          8289527545,
          16251705360,
          21138708465,
          20821387400,
          24929233775,
          1843338797.44,
          1464699463.36,
          13022139424,
          1954293376,
          926848832,
          9723774592,
          10468156384,
          16537544576,
          9687038816,
          26300870235.99,
          12906280105.32,
          93454303974.78,
          17470707765,
          13224365738.22,
          44255381457,
          62520271989,
          44137786980,
          53175747450,
          6388733061.64,
          4337980298.84,
          30159486802.24,
          10617717048.64,
          5126255542.48,
          16131083234.08,
          23764264144.32,
          23816560491.84,
          24387276577.16,
          2326083030.3,
          697339548.64,
          8231989324.75,
          2892613513,
          1382594561.45,
          8357387746,
          7836657030,
          11953696173,
          17387083758,
          1654550629.16,
          800085518.44,
          3020536480,
          1598455716,
          791119316,
          3067155988,
          2750344844,
          2184947492,
          2130365328,
          140178554.4,
          346601962.2,
          511444575,
          368373960,
          85590090,
          934550805,
          653715615,
          149448345,
          308167890,
          33961942972.16,
          24447178686.98,
          224338590850.99,
          33741211714,
          22321761994,
          81743634498.96,
          95250789048.94,
          86148021323,
          102210396834,
          16369751443.7,
          7806607136.8,
          36348540345,
          7034694195,
          3552869375,
          34007187295,
          35655724290,
          35746126450,
          29724191740,
          710712300,
          376859167.5,
          2353404474,
          136252500,
          398639925,
          4301545125,
          4828109025,
          5337972150,
          2974606725,
          114348429885.9,
          65512767370.65,
          472776034177.5,
          131045122140,
          117083559210,
          321366770475,
          290738314020,
          390351485145,
          432157483290,
          2394930410.02,
          1134613543.04,
          5905480052,
          1202287450,
          1021493347,
          5708285895,
          10375636930,
          4138912928,
          3053305275
         ],
         "xaxis": "x",
         "y": [
          36039320.36,
          37262018.93,
          40487149.58,
          37245525.42,
          34432565.80999999,
          34709598.96,
          40018213.54000001,
          50689465.28,
          43377991.73,
          163585154.39,
          177761701.66,
          177582559.02,
          191840311.18,
          201009115.55,
          204786689.31,
          205569621.04,
          276880403.49,
          211607936.57,
          121900696.54,
          151278739.11,
          147812237.68,
          160820207.38,
          175744827.42,
          189256198.86,
          210298047.43,
          270903741.19,
          237707058.01,
          23354262.75,
          22053145.67,
          21916972.06,
          22366616.97,
          25843955.47,
          29370406.98,
          27872333.42,
          45565140.13,
          35931724.12,
          757704806.95,
          785597108.51,
          810137241.0600001,
          821240562.83,
          845519121.49,
          879675393.52,
          914530938.71,
          1243933168.56,
          1076511369.9,
          510177372.21,
          527062987.33,
          540114355.34,
          551317375.85,
          573956797.74,
          607937295.28,
          636460960.1700001,
          877772133.48,
          726447120.85,
          71632316.27,
          64471697.15,
          83122612.98,
          96642322.18,
          233115326.1,
          239866880.3,
          265391022.7,
          338257487.5,
          312758824.5,
          253097937.91,
          267235078.66,
          296978830.46,
          309155832.58,
          303425629.23,
          319947622.99,
          364620052.22,
          553995355.02,
          434465436.46,
          400943736.85,
          420280242.12,
          410610981.88,
          414555691.04,
          407220316.6,
          438382657.56,
          471891376.4,
          697234869.65,
          517094229.55,
          301805294.58,
          311541016.01,
          307485045.96,
          333689604.73,
          351572006.88,
          366407811.12,
          375770394.54,
          510327392.31,
          452514283.04,
          1658840666.82,
          1674939603.09,
          1657939988.06,
          1718544163.82,
          1790290126.07,
          1889157110.43,
          1900368797.54,
          2647196263.54,
          2326241465.07,
          174087791.34,
          186415626.23,
          190977047.18,
          194544177.73,
          201939866.01,
          218562922.11,
          227384589.29,
          337069397.82,
          285832542.69,
          164696707.99,
          173915288.36,
          181948081.8,
          185882129.14,
          190680812.6,
          189645101.04,
          205331624.93,
          336549602.1,
          241225841.08,
          342851637.93,
          353977050.37,
          357148899.02,
          388952636.21,
          410173716.45,
          410805540.78,
          447222369.54,
          540354161.84,
          545720282.28,
          194470103.47,
          189634905.56,
          192764395.72,
          208882120.71,
          218267536.74,
          232234991.54,
          227946551.25,
          320676396.06,
          284045342.29,
          703527971,
          717003467.17,
          733193554.41,
          792199747.86,
          800658730.0300001,
          819736634.45,
          815500708.8299999,
          1161810395.91,
          975536343.8399999,
          164802466.16,
          174857185.87,
          188677491.59,
          186604620.01,
          195934078.94,
          206820114.49,
          216335315.92,
          301951412.54,
          246806470.4,
          1063177083.89,
          1116764284.09,
          1224621412.72,
          1333212214.36,
          1453914663.21,
          1493484390.7,
          1406028330.28,
          1868090404.45,
          1662024377.76,
          765976172.45,
          814738275.85,
          790282302.26,
          853543221.38,
          918095799.5,
          976876703.75,
          1032894622.91,
          1414089345.86,
          1285136616.87,
          193227603.04,
          210853738.03,
          212854443.29,
          218447439.6,
          240919860.5,
          266652744.11,
          283182041.93,
          365540119.42,
          323567694.09,
          79095836.74,
          86163443.56,
          91955338.88,
          95261076.71000001,
          102091843.39,
          109113101.49,
          110011617.1,
          154245547,
          124764936.01,
          19757952.27,
          24556486.66,
          29133807.87,
          31338348.9,
          33851454.13,
          34320141.86,
          36868427.83000001,
          43779114.13,
          43564927.37,
          1025980732.3,
          1076735540.96,
          1046635638.74,
          1053347905.52,
          1074036199.49,
          1131618227.23,
          1186666108.78,
          1567348049.46,
          1298261973.32,
          626008038.37,
          649716373.14,
          663853492.72,
          676676323.2900001,
          711391945.08,
          759243377.0799999,
          758021988.81,
          1086773153.73,
          939515058.72,
          83949080.41,
          96666330.17,
          102263264.46,
          99807105.64999999,
          107312506.79,
          117487663.62,
          120241590.98,
          175749163.67,
          154389988.81,
          3268008800,
          3285221793.04,
          3305056173.66,
          3361179945.29,
          3442007311.9,
          3567637040.48,
          3806208858.01,
          5067663861.29,
          4191063069.85,
          88436272.97,
          78227511.7,
          78034121.8,
          72772161.78,
          62982094.00000001,
          82314133.11,
          92885843.75999999,
          119224446.41,
          99156021.03
         ],
         "yaxis": "y"
        },
        {
         "hovertemplate": "<b>OLS trendline</b><br>gastos = 0.00942437 * valor_emendas + 3.1487e+08<br>R<sup>2</sup>=0.682102<br><br>Valor das Emendas=%{x}<br>Gastos=%{y} <b>(trend)</b><extra></extra>",
         "legendgroup": "",
         "marker": {
          "color": "#636efa",
          "symbol": "circle"
         },
         "mode": "lines",
         "name": "",
         "showlegend": false,
         "type": "scatter",
         "x": [
          4307335,
          11290761,
          12746000,
          26487560,
          27196320,
          39523582.16,
          49600000,
          56231306.73,
          63995211.2,
          79396458,
          82527769,
          85590090,
          87425311,
          126152400,
          136252500,
          140178554.4,
          149448345,
          152023938,
          160451289,
          189608928,
          197673542,
          216010720,
          227469616,
          243692482,
          273577869,
          308167890,
          315789226.4,
          346601962.2,
          368373960,
          376859167.5,
          398639925,
          454246408,
          511062498.2399999,
          511444575,
          525101904,
          531294390,
          645341942,
          653715615,
          697339548.64,
          710712300,
          722094399.9399999,
          744157232,
          791119316,
          800085518.44,
          855566608,
          883998544,
          926848832,
          934550805,
          966961072,
          1006366812,
          1021493347,
          1079548686.75,
          1134613543.04,
          1169514432,
          1202287450,
          1238173706.3,
          1308320772.72,
          1323401470.56,
          1382594561.45,
          1420152032,
          1429939234.2,
          1464699463.36,
          1492622906,
          1550993699.16,
          1598455716,
          1654550629.16,
          1692759402,
          1843338797.44,
          1882788554,
          1954293376,
          2130365328,
          2151775292.88,
          2184947492,
          2208461104,
          2326083030.3,
          2353404474,
          2394930410.02,
          2561194506,
          2713800904.22,
          2750344844,
          2765784591.96,
          2887981176,
          2892613513,
          2952935043.03,
          2974606725,
          3020536480,
          3053305275,
          3067155988,
          3209226264,
          3249259572,
          3365231651,
          3552869375,
          3603201233.76,
          3676368435,
          3776166735.76,
          4077093995.36,
          4097907949.95,
          4110550122,
          4138912928,
          4301545125,
          4337980298.84,
          4826570175,
          4828109025,
          4882601368,
          4897829040,
          5126255542.48,
          5152346583,
          5234949978,
          5239569811,
          5282047440,
          5337972150,
          5566174372,
          5708285895,
          5745145209,
          5905480052,
          6005639961,
          6155495862.849999,
          6186053952,
          6388733061.64,
          6405641211.84,
          6471522819.3,
          6964278466.95,
          6995683919,
          7034694195,
          7806607136.8,
          7836657030,
          8019668475,
          8121631598.400001,
          8154894594,
          8231989324.75,
          8289527545,
          8311517868,
          8357387746,
          8741645838.36,
          8765753256,
          9432470232,
          9566457498,
          9687038816,
          9723774592,
          9863758320,
          10375636930,
          10458128347.5,
          10468156384,
          10617717048.64,
          10620567984,
          11394550752,
          11451442608,
          11953696173,
          12906280105.32,
          12944274161,
          13022139424,
          13224365738.22,
          13490776083,
          13499847114.88,
          13911081392.1,
          14340359312,
          15315178704,
          16097651058,
          16131083234.08,
          16251705360,
          16369751443.7,
          16435515117,
          16537544576,
          17387083758,
          17470707765,
          17741893680,
          17954616592,
          18529619249,
          18833215605,
          20603000892,
          20821387400,
          21138708465,
          22321761994,
          22483771178,
          23172404767,
          23546446954.05,
          23700892064,
          23764264144.32,
          23792869303,
          23816560491.84,
          24047357086,
          24387276577.16,
          24447178686.98,
          24884782992,
          24929233775,
          25480993968,
          25892695881,
          26300870235.99,
          26626704456,
          28042188912,
          28451573292,
          29724191740,
          29948441964,
          30159486802.24,
          30576018960,
          31127251332,
          31666128186,
          32452019064.72,
          33741211714,
          33961942972.16,
          34007187295,
          35504703558,
          35655724290,
          35746126450,
          36348540345,
          36931315172.1,
          38069906176,
          39666081666,
          40074282102.81,
          41670174075,
          41970468666,
          42557833984,
          44137786980,
          44255381457,
          46605320703,
          51803465061,
          53175747450,
          53281472125,
          60462492306.56,
          62520271989,
          65512767370.65,
          81743634498.96,
          86148021323,
          93454303974.78,
          95250789048.94,
          95831334821.22,
          98507331670,
          102210396834,
          108746538939,
          114348429885.9,
          117083559210,
          131045122140,
          224338590850.99,
          226229064332.04,
          249681782772.3,
          254999156936,
          265548194288,
          290738314020,
          318947748056,
          321366770475,
          390351485145,
          432157483290,
          472776034177.5
         ],
         "xaxis": "x",
         "y": [
          314910816.2771749,
          314976630.63490933,
          314990345.3388577,
          315119850.8202174,
          315126530.433374,
          315242707.05523336,
          315337670.8979667,
          315400166.75506824,
          315473336.62702,
          315618483.60308194,
          315647994.22184294,
          315676854.6536413,
          315694150.4467686,
          316059128.6808704,
          316154315.7129309,
          316191316.2838207,
          316278678.1767758,
          316302951.5060959,
          316382373.94050956,
          316657166.1820023,
          316733170.0504168,
          316905986.3146305,
          317013979.1365758,
          317166869.3521236,
          317448520.15662146,
          317774509.1505819,
          317846335.4089605,
          318136725.88731873,
          318341913.14809924,
          318421880.84330446,
          318627150.6586977,
          319151206.4680552,
          319686662.0579232,
          319690262.8888856,
          319818974.5465309,
          319877334.79676765,
          320952160.5894472,
          321031077.1427798,
          321442205.02963185,
          321568234.72363895,
          321675503.7914605,
          321883431.9805517,
          322326019.8158538,
          322410520.5830855,
          322933394.638857,
          323201347.59017164,
          323605184.35789245,
          323677770.5650468,
          323983216.7610268,
          324354590.8500701,
          324497148.84177405,
          325044283.57173365,
          325563234.8931148,
          325892153.6202932,
          326201018.5142135,
          326539223.7031679,
          327200315.2824858,
          327342441.2880491,
          327900298.60038316,
          328254253.92293966,
          328346492.09182847,
          328674085.18966734,
          328937245.9138,
          329487353.5919335,
          329934652.9769499,
          330463311.9305632,
          330823405.3638275,
          332242520.59450775,
          332614309.5116922,
          333288197.07559675,
          334947563.4719665,
          335149338.8022549,
          335461965.7248747,
          335683566.5941039,
          336792078.59593874,
          337049565.86214507,
          337440921.45300823,
          339007855.0313444,
          340446073.4767064,
          340790476.91503423,
          340935986.7400928,
          342087611.9876345,
          342131268.8237583,
          342699760.95877695,
          342904002.8065293,
          343336861.59621596,
          343645686.6910415,
          343776220.8701478,
          345115143.0507651,
          345492431.5698969,
          346585394.808072,
          348353761.26485384,
          348828107.0885042,
          349517661.5216491,
          350458197.1652589,
          353294245.59125614,
          353490403.90284353,
          353609548.35054576,
          353876849.79548657,
          355409555.0310688,
          355752933.4194449,
          360357582.89880294,
          360372085.5833591,
          360885641.3303509,
          361029152.4740891,
          363181927.2797866,
          363427818.7769469,
          364206303.34721535,
          364249842.34107536,
          364650167.0342443,
          365177221.931101,
          367327883.03562325,
          368667193.94303644,
          369014569.5832227,
          370525623.7154641,
          371469567.2872265,
          372881864.0500156,
          373169854.64531946,
          375079976.6151307,
          375239325.19932,
          375860217.53518707,
          380504126.7668619,
          380800103.2196849,
          381167750.3115255,
          388442539.8620261,
          388725741.03304833,
          390450507.74651146,
          391411445.4695104,
          391724928.0913265,
          392451496.9973367,
          392993758.2042197,
          393201003.0414412,
          393633297.5284063,
          397254686.1638621,
          397481883.27436537,
          403765267.61410195,
          405028012.55568045,
          406164414.9459895,
          406510626.31893414,
          407829884.10896397,
          412654015.1236213,
          413431444.37702334,
          413525952.25633436,
          414935466.5958036,
          414962334.85210943,
          422256631.20084554,
          422792800.8349137,
          427526221.9093725,
          436503720.8753268,
          436861790.73563707,
          437595621.41905385,
          439501476.07941663,
          442012224.49080026,
          442097713.2089697,
          445973335.2651974,
          450019007.2015519,
          459206061.26235074,
          466580366.5708755,
          466895443.6113384,
          468032230.59039295,
          469144740.0065141,
          469764520.8877748,
          470726083.7817012,
          478732451.3774341,
          479520554.56802964,
          482076309.6977267,
          484081088.1300731,
          489500123.22345984,
          492361326.1889765,
          509040429.2526909,
          511098583.4827055,
          514089133.11960196,
          525238661.7573559,
          526765495.4908337,
          533255429.99782485,
          536780540.209674,
          538236087.3460779,
          538833328.9814241,
          539102914.4465549,
          539326188.8647947,
          541501300.2803011,
          544704825.7407446,
          545269365.1064862,
          549393507.9379175,
          549812428.355194,
          555012417.9771565,
          558892447.2038066,
          562739231.4351208,
          565810012.1547662,
          579150054.7577477,
          583008242.7067894,
          595001863.8600973,
          597115279.8917658,
          599104243.543982,
          603029794.7617837,
          608224810.0058243,
          613303382.3346472,
          620709905.0689522,
          632859727.5498327,
          634939979.5619142,
          635366378.5885303,
          649479518.9076618,
          650902793.455308,
          651754776.4358978,
          657432145.0497768,
          662924427.9134319,
          673654925.4720695,
          688697866.3875823,
          692544896.423496,
          707585165.3635957,
          710415251.2895868,
          715950796.6164327,
          730840850.8222616,
          731949104.1318657,
          754095790.0408335,
          803085001.4011081,
          816017891.9425647,
          817014279.9019718,
          884690837.3864574,
          904084104.8398297,
          932286474.5028958,
          1085252095.606817,
          1126760646.0000427,
          1195617722.763427,
          1212548454.375018,
          1218019729.811755,
          1243239301.6811962,
          1278138340.5508795,
          1339737331.461904,
          1392531598.1683567,
          1418308456.086857,
          1549887325.427974,
          2429119055.532201,
          2446935568.2251625,
          2667962554.3023562,
          2718075430.907305,
          2817493412.5740156,
          3054894303.113419,
          3320750314.6373167,
          3343548065.605362,
          3993685217.413348,
          4387680216.051795,
          4770484277.950033
         ],
         "yaxis": "y"
        }
       ],
       "layout": {
        "annotations": [
         {
          "showarrow": false,
          "text": "R² = 0.68",
          "x": 0.1,
          "xref": "paper",
          "y": 0.9,
          "yref": "paper"
         }
        ],
        "autosize": false,
        "height": 600,
        "legend": {
         "tracegroupgap": 0
        },
        "template": {
         "data": {
          "bar": [
           {
            "error_x": {
             "color": "#2a3f5f"
            },
            "error_y": {
             "color": "#2a3f5f"
            },
            "marker": {
             "line": {
              "color": "#E5ECF6",
              "width": 0.5
             },
             "pattern": {
              "fillmode": "overlay",
              "size": 10,
              "solidity": 0.2
             }
            },
            "type": "bar"
           }
          ],
          "barpolar": [
           {
            "marker": {
             "line": {
              "color": "#E5ECF6",
              "width": 0.5
             },
             "pattern": {
              "fillmode": "overlay",
              "size": 10,
              "solidity": 0.2
             }
            },
            "type": "barpolar"
           }
          ],
          "carpet": [
           {
            "aaxis": {
             "endlinecolor": "#2a3f5f",
             "gridcolor": "white",
             "linecolor": "white",
             "minorgridcolor": "white",
             "startlinecolor": "#2a3f5f"
            },
            "baxis": {
             "endlinecolor": "#2a3f5f",
             "gridcolor": "white",
             "linecolor": "white",
             "minorgridcolor": "white",
             "startlinecolor": "#2a3f5f"
            },
            "type": "carpet"
           }
          ],
          "choropleth": [
           {
            "colorbar": {
             "outlinewidth": 0,
             "ticks": ""
            },
            "type": "choropleth"
           }
          ],
          "contour": [
           {
            "colorbar": {
             "outlinewidth": 0,
             "ticks": ""
            },
            "colorscale": [
             [
              0,
              "#0d0887"
             ],
             [
              0.1111111111111111,
              "#46039f"
             ],
             [
              0.2222222222222222,
              "#7201a8"
             ],
             [
              0.3333333333333333,
              "#9c179e"
             ],
             [
              0.4444444444444444,
              "#bd3786"
             ],
             [
              0.5555555555555556,
              "#d8576b"
             ],
             [
              0.6666666666666666,
              "#ed7953"
             ],
             [
              0.7777777777777778,
              "#fb9f3a"
             ],
             [
              0.8888888888888888,
              "#fdca26"
             ],
             [
              1,
              "#f0f921"
             ]
            ],
            "type": "contour"
           }
          ],
          "contourcarpet": [
           {
            "colorbar": {
             "outlinewidth": 0,
             "ticks": ""
            },
            "type": "contourcarpet"
           }
          ],
          "heatmap": [
           {
            "colorbar": {
             "outlinewidth": 0,
             "ticks": ""
            },
            "colorscale": [
             [
              0,
              "#0d0887"
             ],
             [
              0.1111111111111111,
              "#46039f"
             ],
             [
              0.2222222222222222,
              "#7201a8"
             ],
             [
              0.3333333333333333,
              "#9c179e"
             ],
             [
              0.4444444444444444,
              "#bd3786"
             ],
             [
              0.5555555555555556,
              "#d8576b"
             ],
             [
              0.6666666666666666,
              "#ed7953"
             ],
             [
              0.7777777777777778,
              "#fb9f3a"
             ],
             [
              0.8888888888888888,
              "#fdca26"
             ],
             [
              1,
              "#f0f921"
             ]
            ],
            "type": "heatmap"
           }
          ],
          "heatmapgl": [
           {
            "colorbar": {
             "outlinewidth": 0,
             "ticks": ""
            },
            "colorscale": [
             [
              0,
              "#0d0887"
             ],
             [
              0.1111111111111111,
              "#46039f"
             ],
             [
              0.2222222222222222,
              "#7201a8"
             ],
             [
              0.3333333333333333,
              "#9c179e"
             ],
             [
              0.4444444444444444,
              "#bd3786"
             ],
             [
              0.5555555555555556,
              "#d8576b"
             ],
             [
              0.6666666666666666,
              "#ed7953"
             ],
             [
              0.7777777777777778,
              "#fb9f3a"
             ],
             [
              0.8888888888888888,
              "#fdca26"
             ],
             [
              1,
              "#f0f921"
             ]
            ],
            "type": "heatmapgl"
           }
          ],
          "histogram": [
           {
            "marker": {
             "pattern": {
              "fillmode": "overlay",
              "size": 10,
              "solidity": 0.2
             }
            },
            "type": "histogram"
           }
          ],
          "histogram2d": [
           {
            "colorbar": {
             "outlinewidth": 0,
             "ticks": ""
            },
            "colorscale": [
             [
              0,
              "#0d0887"
             ],
             [
              0.1111111111111111,
              "#46039f"
             ],
             [
              0.2222222222222222,
              "#7201a8"
             ],
             [
              0.3333333333333333,
              "#9c179e"
             ],
             [
              0.4444444444444444,
              "#bd3786"
             ],
             [
              0.5555555555555556,
              "#d8576b"
             ],
             [
              0.6666666666666666,
              "#ed7953"
             ],
             [
              0.7777777777777778,
              "#fb9f3a"
             ],
             [
              0.8888888888888888,
              "#fdca26"
             ],
             [
              1,
              "#f0f921"
             ]
            ],
            "type": "histogram2d"
           }
          ],
          "histogram2dcontour": [
           {
            "colorbar": {
             "outlinewidth": 0,
             "ticks": ""
            },
            "colorscale": [
             [
              0,
              "#0d0887"
             ],
             [
              0.1111111111111111,
              "#46039f"
             ],
             [
              0.2222222222222222,
              "#7201a8"
             ],
             [
              0.3333333333333333,
              "#9c179e"
             ],
             [
              0.4444444444444444,
              "#bd3786"
             ],
             [
              0.5555555555555556,
              "#d8576b"
             ],
             [
              0.6666666666666666,
              "#ed7953"
             ],
             [
              0.7777777777777778,
              "#fb9f3a"
             ],
             [
              0.8888888888888888,
              "#fdca26"
             ],
             [
              1,
              "#f0f921"
             ]
            ],
            "type": "histogram2dcontour"
           }
          ],
          "mesh3d": [
           {
            "colorbar": {
             "outlinewidth": 0,
             "ticks": ""
            },
            "type": "mesh3d"
           }
          ],
          "parcoords": [
           {
            "line": {
             "colorbar": {
              "outlinewidth": 0,
              "ticks": ""
             }
            },
            "type": "parcoords"
           }
          ],
          "pie": [
           {
            "automargin": true,
            "type": "pie"
           }
          ],
          "scatter": [
           {
            "fillpattern": {
             "fillmode": "overlay",
             "size": 10,
             "solidity": 0.2
            },
            "type": "scatter"
           }
          ],
          "scatter3d": [
           {
            "line": {
             "colorbar": {
              "outlinewidth": 0,
              "ticks": ""
             }
            },
            "marker": {
             "colorbar": {
              "outlinewidth": 0,
              "ticks": ""
             }
            },
            "type": "scatter3d"
           }
          ],
          "scattercarpet": [
           {
            "marker": {
             "colorbar": {
              "outlinewidth": 0,
              "ticks": ""
             }
            },
            "type": "scattercarpet"
           }
          ],
          "scattergeo": [
           {
            "marker": {
             "colorbar": {
              "outlinewidth": 0,
              "ticks": ""
             }
            },
            "type": "scattergeo"
           }
          ],
          "scattergl": [
           {
            "marker": {
             "colorbar": {
              "outlinewidth": 0,
              "ticks": ""
             }
            },
            "type": "scattergl"
           }
          ],
          "scattermapbox": [
           {
            "marker": {
             "colorbar": {
              "outlinewidth": 0,
              "ticks": ""
             }
            },
            "type": "scattermapbox"
           }
          ],
          "scatterpolar": [
           {
            "marker": {
             "colorbar": {
              "outlinewidth": 0,
              "ticks": ""
             }
            },
            "type": "scatterpolar"
           }
          ],
          "scatterpolargl": [
           {
            "marker": {
             "colorbar": {
              "outlinewidth": 0,
              "ticks": ""
             }
            },
            "type": "scatterpolargl"
           }
          ],
          "scatterternary": [
           {
            "marker": {
             "colorbar": {
              "outlinewidth": 0,
              "ticks": ""
             }
            },
            "type": "scatterternary"
           }
          ],
          "surface": [
           {
            "colorbar": {
             "outlinewidth": 0,
             "ticks": ""
            },
            "colorscale": [
             [
              0,
              "#0d0887"
             ],
             [
              0.1111111111111111,
              "#46039f"
             ],
             [
              0.2222222222222222,
              "#7201a8"
             ],
             [
              0.3333333333333333,
              "#9c179e"
             ],
             [
              0.4444444444444444,
              "#bd3786"
             ],
             [
              0.5555555555555556,
              "#d8576b"
             ],
             [
              0.6666666666666666,
              "#ed7953"
             ],
             [
              0.7777777777777778,
              "#fb9f3a"
             ],
             [
              0.8888888888888888,
              "#fdca26"
             ],
             [
              1,
              "#f0f921"
             ]
            ],
            "type": "surface"
           }
          ],
          "table": [
           {
            "cells": {
             "fill": {
              "color": "#EBF0F8"
             },
             "line": {
              "color": "white"
             }
            },
            "header": {
             "fill": {
              "color": "#C8D4E3"
             },
             "line": {
              "color": "white"
             }
            },
            "type": "table"
           }
          ]
         },
         "layout": {
          "annotationdefaults": {
           "arrowcolor": "#2a3f5f",
           "arrowhead": 0,
           "arrowwidth": 1
          },
          "autotypenumbers": "strict",
          "coloraxis": {
           "colorbar": {
            "outlinewidth": 0,
            "ticks": ""
           }
          },
          "colorscale": {
           "diverging": [
            [
             0,
             "#8e0152"
            ],
            [
             0.1,
             "#c51b7d"
            ],
            [
             0.2,
             "#de77ae"
            ],
            [
             0.3,
             "#f1b6da"
            ],
            [
             0.4,
             "#fde0ef"
            ],
            [
             0.5,
             "#f7f7f7"
            ],
            [
             0.6,
             "#e6f5d0"
            ],
            [
             0.7,
             "#b8e186"
            ],
            [
             0.8,
             "#7fbc41"
            ],
            [
             0.9,
             "#4d9221"
            ],
            [
             1,
             "#276419"
            ]
           ],
           "sequential": [
            [
             0,
             "#0d0887"
            ],
            [
             0.1111111111111111,
             "#46039f"
            ],
            [
             0.2222222222222222,
             "#7201a8"
            ],
            [
             0.3333333333333333,
             "#9c179e"
            ],
            [
             0.4444444444444444,
             "#bd3786"
            ],
            [
             0.5555555555555556,
             "#d8576b"
            ],
            [
             0.6666666666666666,
             "#ed7953"
            ],
            [
             0.7777777777777778,
             "#fb9f3a"
            ],
            [
             0.8888888888888888,
             "#fdca26"
            ],
            [
             1,
             "#f0f921"
            ]
           ],
           "sequentialminus": [
            [
             0,
             "#0d0887"
            ],
            [
             0.1111111111111111,
             "#46039f"
            ],
            [
             0.2222222222222222,
             "#7201a8"
            ],
            [
             0.3333333333333333,
             "#9c179e"
            ],
            [
             0.4444444444444444,
             "#bd3786"
            ],
            [
             0.5555555555555556,
             "#d8576b"
            ],
            [
             0.6666666666666666,
             "#ed7953"
            ],
            [
             0.7777777777777778,
             "#fb9f3a"
            ],
            [
             0.8888888888888888,
             "#fdca26"
            ],
            [
             1,
             "#f0f921"
            ]
           ]
          },
          "colorway": [
           "#636efa",
           "#EF553B",
           "#00cc96",
           "#ab63fa",
           "#FFA15A",
           "#19d3f3",
           "#FF6692",
           "#B6E880",
           "#FF97FF",
           "#FECB52"
          ],
          "font": {
           "color": "#2a3f5f"
          },
          "geo": {
           "bgcolor": "white",
           "lakecolor": "white",
           "landcolor": "#E5ECF6",
           "showlakes": true,
           "showland": true,
           "subunitcolor": "white"
          },
          "hoverlabel": {
           "align": "left"
          },
          "hovermode": "closest",
          "mapbox": {
           "style": "light"
          },
          "paper_bgcolor": "white",
          "plot_bgcolor": "#E5ECF6",
          "polar": {
           "angularaxis": {
            "gridcolor": "white",
            "linecolor": "white",
            "ticks": ""
           },
           "bgcolor": "#E5ECF6",
           "radialaxis": {
            "gridcolor": "white",
            "linecolor": "white",
            "ticks": ""
           }
          },
          "scene": {
           "xaxis": {
            "backgroundcolor": "#E5ECF6",
            "gridcolor": "white",
            "gridwidth": 2,
            "linecolor": "white",
            "showbackground": true,
            "ticks": "",
            "zerolinecolor": "white"
           },
           "yaxis": {
            "backgroundcolor": "#E5ECF6",
            "gridcolor": "white",
            "gridwidth": 2,
            "linecolor": "white",
            "showbackground": true,
            "ticks": "",
            "zerolinecolor": "white"
           },
           "zaxis": {
            "backgroundcolor": "#E5ECF6",
            "gridcolor": "white",
            "gridwidth": 2,
            "linecolor": "white",
            "showbackground": true,
            "ticks": "",
            "zerolinecolor": "white"
           }
          },
          "shapedefaults": {
           "line": {
            "color": "#2a3f5f"
           }
          },
          "ternary": {
           "aaxis": {
            "gridcolor": "white",
            "linecolor": "white",
            "ticks": ""
           },
           "baxis": {
            "gridcolor": "white",
            "linecolor": "white",
            "ticks": ""
           },
           "bgcolor": "#E5ECF6",
           "caxis": {
            "gridcolor": "white",
            "linecolor": "white",
            "ticks": ""
           }
          },
          "title": {
           "x": 0.05
          },
          "xaxis": {
           "automargin": true,
           "gridcolor": "white",
           "linecolor": "white",
           "ticks": "",
           "title": {
            "standoff": 15
           },
           "zerolinecolor": "white",
           "zerolinewidth": 2
          },
          "yaxis": {
           "automargin": true,
           "gridcolor": "white",
           "linecolor": "white",
           "ticks": "",
           "title": {
            "standoff": 15
           },
           "zerolinecolor": "white",
           "zerolinewidth": 2
          }
         }
        },
        "title": {
         "font": {
          "size": 24
         },
         "text": "Regressão Linear Simples",
         "x": 0.5
        },
        "width": 800,
        "xaxis": {
         "anchor": "y",
         "domain": [
          0,
          1
         ],
         "showgrid": false,
         "title": {
          "text": "Valor das Emendas"
         }
        },
        "yaxis": {
         "anchor": "x",
         "domain": [
          0,
          1
         ],
         "showgrid": false,
         "showticklabels": false,
         "title": {
          "text": "Gastos"
         }
        }
       }
      }
     },
     "metadata": {},
     "output_type": "display_data"
    }
   ],
   "source": [
    "# controlando por ano antes e depois de 2018.\n",
    "X = variaveis_uf_ano[['valor_emendas', 'ano_emenda']]\n",
    "X = sm.add_constant(X)  \n",
    "y = variaveis_uf_ano['gastos']  \n",
    "\n",
    "# Ajuste do modelo\n",
    "model = sm.OLS(y, X).fit()\n",
    "\n",
    "# Calcular R²\n",
    "r2 = model.rsquared\n",
    "\n",
    "# Use o Plotly Express para criar o gráfico\n",
    "fig3 = px.scatter(variaveis_uf_ano, x='valor_emendas', y='gastos', trendline=\"ols\", title='Regressão Linear Simples',\n",
    "                labels={'valor_emendas': 'Valor das Emendas', 'gastos': 'Gastos'},\n",
    "                hover_data=['valor_emendas', 'gastos'])\n",
    "\n",
    "fig3.update_layout(title=dict(\n",
    "        text='Regressão Linear Simples',\n",
    "        font=dict(size=24)  # Tamanho do título\n",
    "    ),\n",
    "    title_x=0.5\n",
    ").update_xaxes(showgrid=False).update_yaxes(\n",
    "                showticklabels=False, showgrid=False)\n",
    "\n",
    "# Adicione uma anotação para R²\n",
    "fig3.add_annotation(x=0.1, y=0.9, text=f\"R² = {r2:.2f}\", showarrow=False, \n",
    "                   xref=\"paper\", yref=\"paper\")\n",
    "\n",
    "fig3.update_layout(autosize=False, width=800, height=600)\n",
    "\n",
    "# Mostrar a figura\n",
    "fig3.show()"
   ]
  },
  {
   "cell_type": "code",
   "execution_count": 10,
   "id": "db13f2dc-3def-49ff-b758-050e5453413a",
   "metadata": {},
   "outputs": [
    {
     "data": {
      "text/html": [
       "<div>\n",
       "<style scoped>\n",
       "    .dataframe tbody tr th:only-of-type {\n",
       "        vertical-align: middle;\n",
       "    }\n",
       "\n",
       "    .dataframe tbody tr th {\n",
       "        vertical-align: top;\n",
       "    }\n",
       "\n",
       "    .dataframe thead th {\n",
       "        text-align: right;\n",
       "    }\n",
       "</style>\n",
       "<table border=\"1\" class=\"dataframe\">\n",
       "  <thead>\n",
       "    <tr style=\"text-align: right;\">\n",
       "      <th></th>\n",
       "      <th>uf</th>\n",
       "      <th>ano</th>\n",
       "      <th>gastos</th>\n",
       "      <th>gastos_percapita</th>\n",
       "      <th>mortalidade</th>\n",
       "      <th>valor_emendas</th>\n",
       "      <th>Cod_UF</th>\n",
       "      <th>ano_emenda</th>\n",
       "      <th>regiao_Centro-Oeste</th>\n",
       "      <th>regiao_Nordeste</th>\n",
       "      <th>regiao_Norte</th>\n",
       "      <th>regiao_Sudeste</th>\n",
       "      <th>regiao_Sul</th>\n",
       "    </tr>\n",
       "  </thead>\n",
       "  <tbody>\n",
       "    <tr>\n",
       "      <th>0</th>\n",
       "      <td>AC</td>\n",
       "      <td>2014</td>\n",
       "      <td>3.603932e+07</td>\n",
       "      <td>337.690253</td>\n",
       "      <td>0.920833</td>\n",
       "      <td>1.261524e+08</td>\n",
       "      <td>12</td>\n",
       "      <td>0</td>\n",
       "      <td>0</td>\n",
       "      <td>0</td>\n",
       "      <td>1</td>\n",
       "      <td>0</td>\n",
       "      <td>0</td>\n",
       "    </tr>\n",
       "    <tr>\n",
       "      <th>1</th>\n",
       "      <td>AC</td>\n",
       "      <td>2015</td>\n",
       "      <td>3.726202e+07</td>\n",
       "      <td>305.003132</td>\n",
       "      <td>1.236364</td>\n",
       "      <td>2.648756e+07</td>\n",
       "      <td>12</td>\n",
       "      <td>0</td>\n",
       "      <td>0</td>\n",
       "      <td>0</td>\n",
       "      <td>1</td>\n",
       "      <td>0</td>\n",
       "      <td>0</td>\n",
       "    </tr>\n",
       "    <tr>\n",
       "      <th>2</th>\n",
       "      <td>AC</td>\n",
       "      <td>2016</td>\n",
       "      <td>4.048715e+07</td>\n",
       "      <td>301.639801</td>\n",
       "      <td>1.342000</td>\n",
       "      <td>4.542464e+08</td>\n",
       "      <td>12</td>\n",
       "      <td>0</td>\n",
       "      <td>0</td>\n",
       "      <td>0</td>\n",
       "      <td>1</td>\n",
       "      <td>0</td>\n",
       "      <td>0</td>\n",
       "    </tr>\n",
       "    <tr>\n",
       "      <th>3</th>\n",
       "      <td>AC</td>\n",
       "      <td>2017</td>\n",
       "      <td>3.724553e+07</td>\n",
       "      <td>274.220778</td>\n",
       "      <td>1.467500</td>\n",
       "      <td>2.436925e+08</td>\n",
       "      <td>12</td>\n",
       "      <td>0</td>\n",
       "      <td>0</td>\n",
       "      <td>0</td>\n",
       "      <td>1</td>\n",
       "      <td>0</td>\n",
       "      <td>0</td>\n",
       "    </tr>\n",
       "    <tr>\n",
       "      <th>4</th>\n",
       "      <td>AC</td>\n",
       "      <td>2018</td>\n",
       "      <td>3.443257e+07</td>\n",
       "      <td>263.785812</td>\n",
       "      <td>1.718000</td>\n",
       "      <td>1.976735e+08</td>\n",
       "      <td>12</td>\n",
       "      <td>1</td>\n",
       "      <td>0</td>\n",
       "      <td>0</td>\n",
       "      <td>1</td>\n",
       "      <td>0</td>\n",
       "      <td>0</td>\n",
       "    </tr>\n",
       "    <tr>\n",
       "      <th>...</th>\n",
       "      <td>...</td>\n",
       "      <td>...</td>\n",
       "      <td>...</td>\n",
       "      <td>...</td>\n",
       "      <td>...</td>\n",
       "      <td>...</td>\n",
       "      <td>...</td>\n",
       "      <td>...</td>\n",
       "      <td>...</td>\n",
       "      <td>...</td>\n",
       "      <td>...</td>\n",
       "      <td>...</td>\n",
       "      <td>...</td>\n",
       "    </tr>\n",
       "    <tr>\n",
       "      <th>238</th>\n",
       "      <td>TO</td>\n",
       "      <td>2018</td>\n",
       "      <td>6.298209e+07</td>\n",
       "      <td>894.183551</td>\n",
       "      <td>1.939130</td>\n",
       "      <td>1.021493e+09</td>\n",
       "      <td>17</td>\n",
       "      <td>1</td>\n",
       "      <td>0</td>\n",
       "      <td>0</td>\n",
       "      <td>1</td>\n",
       "      <td>0</td>\n",
       "      <td>0</td>\n",
       "    </tr>\n",
       "    <tr>\n",
       "      <th>239</th>\n",
       "      <td>TO</td>\n",
       "      <td>2019</td>\n",
       "      <td>8.231413e+07</td>\n",
       "      <td>1001.786091</td>\n",
       "      <td>2.390476</td>\n",
       "      <td>5.708286e+09</td>\n",
       "      <td>17</td>\n",
       "      <td>1</td>\n",
       "      <td>0</td>\n",
       "      <td>0</td>\n",
       "      <td>1</td>\n",
       "      <td>0</td>\n",
       "      <td>0</td>\n",
       "    </tr>\n",
       "    <tr>\n",
       "      <th>240</th>\n",
       "      <td>TO</td>\n",
       "      <td>2020</td>\n",
       "      <td>9.288584e+07</td>\n",
       "      <td>1042.532604</td>\n",
       "      <td>2.676364</td>\n",
       "      <td>1.037564e+10</td>\n",
       "      <td>17</td>\n",
       "      <td>1</td>\n",
       "      <td>0</td>\n",
       "      <td>0</td>\n",
       "      <td>1</td>\n",
       "      <td>0</td>\n",
       "      <td>0</td>\n",
       "    </tr>\n",
       "    <tr>\n",
       "      <th>241</th>\n",
       "      <td>TO</td>\n",
       "      <td>2021</td>\n",
       "      <td>1.192244e+08</td>\n",
       "      <td>1455.791855</td>\n",
       "      <td>3.041538</td>\n",
       "      <td>4.138913e+09</td>\n",
       "      <td>17</td>\n",
       "      <td>1</td>\n",
       "      <td>0</td>\n",
       "      <td>0</td>\n",
       "      <td>1</td>\n",
       "      <td>0</td>\n",
       "      <td>0</td>\n",
       "    </tr>\n",
       "    <tr>\n",
       "      <th>242</th>\n",
       "      <td>TO</td>\n",
       "      <td>2022</td>\n",
       "      <td>9.915602e+07</td>\n",
       "      <td>1372.754633</td>\n",
       "      <td>2.200870</td>\n",
       "      <td>3.053305e+09</td>\n",
       "      <td>17</td>\n",
       "      <td>1</td>\n",
       "      <td>0</td>\n",
       "      <td>0</td>\n",
       "      <td>1</td>\n",
       "      <td>0</td>\n",
       "      <td>0</td>\n",
       "    </tr>\n",
       "  </tbody>\n",
       "</table>\n",
       "<p>243 rows × 13 columns</p>\n",
       "</div>"
      ],
      "text/plain": [
       "     uf   ano        gastos  gastos_percapita  mortalidade  valor_emendas  \\\n",
       "0    AC  2014  3.603932e+07        337.690253     0.920833   1.261524e+08   \n",
       "1    AC  2015  3.726202e+07        305.003132     1.236364   2.648756e+07   \n",
       "2    AC  2016  4.048715e+07        301.639801     1.342000   4.542464e+08   \n",
       "3    AC  2017  3.724553e+07        274.220778     1.467500   2.436925e+08   \n",
       "4    AC  2018  3.443257e+07        263.785812     1.718000   1.976735e+08   \n",
       "..   ..   ...           ...               ...          ...            ...   \n",
       "238  TO  2018  6.298209e+07        894.183551     1.939130   1.021493e+09   \n",
       "239  TO  2019  8.231413e+07       1001.786091     2.390476   5.708286e+09   \n",
       "240  TO  2020  9.288584e+07       1042.532604     2.676364   1.037564e+10   \n",
       "241  TO  2021  1.192244e+08       1455.791855     3.041538   4.138913e+09   \n",
       "242  TO  2022  9.915602e+07       1372.754633     2.200870   3.053305e+09   \n",
       "\n",
       "    Cod_UF  ano_emenda  regiao_Centro-Oeste  regiao_Nordeste  regiao_Norte  \\\n",
       "0       12           0                    0                0             1   \n",
       "1       12           0                    0                0             1   \n",
       "2       12           0                    0                0             1   \n",
       "3       12           0                    0                0             1   \n",
       "4       12           1                    0                0             1   \n",
       "..     ...         ...                  ...              ...           ...   \n",
       "238     17           1                    0                0             1   \n",
       "239     17           1                    0                0             1   \n",
       "240     17           1                    0                0             1   \n",
       "241     17           1                    0                0             1   \n",
       "242     17           1                    0                0             1   \n",
       "\n",
       "     regiao_Sudeste  regiao_Sul  \n",
       "0                 0           0  \n",
       "1                 0           0  \n",
       "2                 0           0  \n",
       "3                 0           0  \n",
       "4                 0           0  \n",
       "..              ...         ...  \n",
       "238               0           0  \n",
       "239               0           0  \n",
       "240               0           0  \n",
       "241               0           0  \n",
       "242               0           0  \n",
       "\n",
       "[243 rows x 13 columns]"
      ]
     },
     "execution_count": 10,
     "metadata": {},
     "output_type": "execute_result"
    }
   ],
   "source": [
    "variaveis_uf_ano_dum = pd.get_dummies(variaveis_uf_ano, columns=['regiao'], dtype=int)\n",
    "variaveis_uf_ano_dum"
   ]
  },
  {
   "cell_type": "code",
   "execution_count": 11,
   "id": "ea26ff5e-3222-4b2c-819d-5c2b2cfefcaf",
   "metadata": {},
   "outputs": [
    {
     "data": {
      "application/vnd.plotly.v1+json": {
       "config": {
        "plotlyServerURL": "https://plot.ly"
       },
       "data": [
        {
         "hovertemplate": "Valor das Emendas=%{x}<br>Gastos=%{y}<extra></extra>",
         "legendgroup": "",
         "marker": {
          "color": "#636efa",
          "symbol": "circle"
         },
         "mode": "markers",
         "name": "",
         "orientation": "v",
         "showlegend": false,
         "type": "scatter",
         "x": [
          126152400,
          26487560,
          454246408,
          243692482,
          197673542,
          883998544,
          1006366812,
          227469616,
          531294390,
          1429939234.2,
          1550993699.16,
          8121631598.400001,
          5234949978,
          6471522819.3,
          8741645838.36,
          4110550122,
          8154894594,
          9566457498,
          511062498.2399999,
          49600000,
          5566174372,
          152023938,
          722094399.9399999,
          1238173706.3,
          1169514432,
          1492622906,
          1692759402,
          315789226.4,
          63995211.2,
          216010720,
          27196320,
          189608928,
          525101904,
          966961072,
          855566608,
          1420152032,
          40074282102.81,
          23546446954.05,
          108746538939,
          51803465061,
          20603000892,
          35504703558,
          41670174075,
          39666081666,
          46605320703,
          13499847114.88,
          4077093995.36,
          23700892064,
          4882601368,
          2208461104,
          42557833984,
          17954616592,
          38069906176,
          32452019064.72,
          12746000,
          4307335,
          160451289,
          87425311,
          11290761,
          39523582.16,
          56231306.73,
          79396458,
          82527769,
          2561194506,
          1308320772.72,
          6405641211.84,
          10620567984,
          3249259572,
          9863758320,
          8019668475,
          4897829040,
          8765753256,
          13911081392.1,
          8311517868,
          30576018960,
          15315178704,
          11394550752,
          29948441964,
          26626704456,
          31127251332,
          28451573292,
          2952935043.03,
          744157232,
          23792869303,
          5239569811,
          645341942,
          16435515117,
          12944274161,
          41970468666,
          31666128186,
          95831334821.22,
          60462492306.56,
          318947748056,
          98507331670,
          53281472125,
          226229064332.04,
          254999156936,
          249681782772.3,
          265548194288,
          2713800904.22,
          1079548686.75,
          5152346583,
          3365231651,
          273577869,
          6005639961,
          4826570175,
          5282047440,
          6995683919,
          4097907949.95,
          2765784591.96,
          9432470232,
          3676368435,
          2887981176,
          25892695881,
          13490776083,
          16097651058,
          18833215605,
          3603201233.76,
          1323401470.56,
          25480993968,
          6186053952,
          3209226264,
          17741893680,
          11451442608,
          24884782992,
          28042188912,
          3776166735.76,
          2151775292.88,
          14340359312,
          5745145209,
          1882788554,
          22483771178,
          18529619249,
          24047357086,
          23172404767,
          6964278466.95,
          6155495862.849999,
          36931315172.1,
          10458128347.5,
          8289527545,
          16251705360,
          21138708465,
          20821387400,
          24929233775,
          1843338797.44,
          1464699463.36,
          13022139424,
          1954293376,
          926848832,
          9723774592,
          10468156384,
          16537544576,
          9687038816,
          26300870235.99,
          12906280105.32,
          93454303974.78,
          17470707765,
          13224365738.22,
          44255381457,
          62520271989,
          44137786980,
          53175747450,
          6388733061.64,
          4337980298.84,
          30159486802.24,
          10617717048.64,
          5126255542.48,
          16131083234.08,
          23764264144.32,
          23816560491.84,
          24387276577.16,
          2326083030.3,
          697339548.64,
          8231989324.75,
          2892613513,
          1382594561.45,
          8357387746,
          7836657030,
          11953696173,
          17387083758,
          1654550629.16,
          800085518.44,
          3020536480,
          1598455716,
          791119316,
          3067155988,
          2750344844,
          2184947492,
          2130365328,
          140178554.4,
          346601962.2,
          511444575,
          368373960,
          85590090,
          934550805,
          653715615,
          149448345,
          308167890,
          33961942972.16,
          24447178686.98,
          224338590850.99,
          33741211714,
          22321761994,
          81743634498.96,
          95250789048.94,
          86148021323,
          102210396834,
          16369751443.7,
          7806607136.8,
          36348540345,
          7034694195,
          3552869375,
          34007187295,
          35655724290,
          35746126450,
          29724191740,
          710712300,
          376859167.5,
          2353404474,
          136252500,
          398639925,
          4301545125,
          4828109025,
          5337972150,
          2974606725,
          114348429885.9,
          65512767370.65,
          472776034177.5,
          131045122140,
          117083559210,
          321366770475,
          290738314020,
          390351485145,
          432157483290,
          2394930410.02,
          1134613543.04,
          5905480052,
          1202287450,
          1021493347,
          5708285895,
          10375636930,
          4138912928,
          3053305275
         ],
         "xaxis": "x",
         "y": [
          36039320.36,
          37262018.93,
          40487149.58,
          37245525.42,
          34432565.80999999,
          34709598.96,
          40018213.54000001,
          50689465.28,
          43377991.73,
          163585154.39,
          177761701.66,
          177582559.02,
          191840311.18,
          201009115.55,
          204786689.31,
          205569621.04,
          276880403.49,
          211607936.57,
          121900696.54,
          151278739.11,
          147812237.68,
          160820207.38,
          175744827.42,
          189256198.86,
          210298047.43,
          270903741.19,
          237707058.01,
          23354262.75,
          22053145.67,
          21916972.06,
          22366616.97,
          25843955.47,
          29370406.98,
          27872333.42,
          45565140.13,
          35931724.12,
          757704806.95,
          785597108.51,
          810137241.0600001,
          821240562.83,
          845519121.49,
          879675393.52,
          914530938.71,
          1243933168.56,
          1076511369.9,
          510177372.21,
          527062987.33,
          540114355.34,
          551317375.85,
          573956797.74,
          607937295.28,
          636460960.1700001,
          877772133.48,
          726447120.85,
          71632316.27,
          64471697.15,
          83122612.98,
          96642322.18,
          233115326.1,
          239866880.3,
          265391022.7,
          338257487.5,
          312758824.5,
          253097937.91,
          267235078.66,
          296978830.46,
          309155832.58,
          303425629.23,
          319947622.99,
          364620052.22,
          553995355.02,
          434465436.46,
          400943736.85,
          420280242.12,
          410610981.88,
          414555691.04,
          407220316.6,
          438382657.56,
          471891376.4,
          697234869.65,
          517094229.55,
          301805294.58,
          311541016.01,
          307485045.96,
          333689604.73,
          351572006.88,
          366407811.12,
          375770394.54,
          510327392.31,
          452514283.04,
          1658840666.82,
          1674939603.09,
          1657939988.06,
          1718544163.82,
          1790290126.07,
          1889157110.43,
          1900368797.54,
          2647196263.54,
          2326241465.07,
          174087791.34,
          186415626.23,
          190977047.18,
          194544177.73,
          201939866.01,
          218562922.11,
          227384589.29,
          337069397.82,
          285832542.69,
          164696707.99,
          173915288.36,
          181948081.8,
          185882129.14,
          190680812.6,
          189645101.04,
          205331624.93,
          336549602.1,
          241225841.08,
          342851637.93,
          353977050.37,
          357148899.02,
          388952636.21,
          410173716.45,
          410805540.78,
          447222369.54,
          540354161.84,
          545720282.28,
          194470103.47,
          189634905.56,
          192764395.72,
          208882120.71,
          218267536.74,
          232234991.54,
          227946551.25,
          320676396.06,
          284045342.29,
          703527971,
          717003467.17,
          733193554.41,
          792199747.86,
          800658730.0300001,
          819736634.45,
          815500708.8299999,
          1161810395.91,
          975536343.8399999,
          164802466.16,
          174857185.87,
          188677491.59,
          186604620.01,
          195934078.94,
          206820114.49,
          216335315.92,
          301951412.54,
          246806470.4,
          1063177083.89,
          1116764284.09,
          1224621412.72,
          1333212214.36,
          1453914663.21,
          1493484390.7,
          1406028330.28,
          1868090404.45,
          1662024377.76,
          765976172.45,
          814738275.85,
          790282302.26,
          853543221.38,
          918095799.5,
          976876703.75,
          1032894622.91,
          1414089345.86,
          1285136616.87,
          193227603.04,
          210853738.03,
          212854443.29,
          218447439.6,
          240919860.5,
          266652744.11,
          283182041.93,
          365540119.42,
          323567694.09,
          79095836.74,
          86163443.56,
          91955338.88,
          95261076.71000001,
          102091843.39,
          109113101.49,
          110011617.1,
          154245547,
          124764936.01,
          19757952.27,
          24556486.66,
          29133807.87,
          31338348.9,
          33851454.13,
          34320141.86,
          36868427.83000001,
          43779114.13,
          43564927.37,
          1025980732.3,
          1076735540.96,
          1046635638.74,
          1053347905.52,
          1074036199.49,
          1131618227.23,
          1186666108.78,
          1567348049.46,
          1298261973.32,
          626008038.37,
          649716373.14,
          663853492.72,
          676676323.2900001,
          711391945.08,
          759243377.0799999,
          758021988.81,
          1086773153.73,
          939515058.72,
          83949080.41,
          96666330.17,
          102263264.46,
          99807105.64999999,
          107312506.79,
          117487663.62,
          120241590.98,
          175749163.67,
          154389988.81,
          3268008800,
          3285221793.04,
          3305056173.66,
          3361179945.29,
          3442007311.9,
          3567637040.48,
          3806208858.01,
          5067663861.29,
          4191063069.85,
          88436272.97,
          78227511.7,
          78034121.8,
          72772161.78,
          62982094.00000001,
          82314133.11,
          92885843.75999999,
          119224446.41,
          99156021.03
         ],
         "yaxis": "y"
        },
        {
         "hovertemplate": "<b>OLS trendline</b><br>gastos = 0.00942437 * valor_emendas + 3.1487e+08<br>R<sup>2</sup>=0.682102<br><br>Valor das Emendas=%{x}<br>Gastos=%{y} <b>(trend)</b><extra></extra>",
         "legendgroup": "",
         "marker": {
          "color": "#636efa",
          "symbol": "circle"
         },
         "mode": "lines",
         "name": "",
         "showlegend": false,
         "type": "scatter",
         "x": [
          4307335,
          11290761,
          12746000,
          26487560,
          27196320,
          39523582.16,
          49600000,
          56231306.73,
          63995211.2,
          79396458,
          82527769,
          85590090,
          87425311,
          126152400,
          136252500,
          140178554.4,
          149448345,
          152023938,
          160451289,
          189608928,
          197673542,
          216010720,
          227469616,
          243692482,
          273577869,
          308167890,
          315789226.4,
          346601962.2,
          368373960,
          376859167.5,
          398639925,
          454246408,
          511062498.2399999,
          511444575,
          525101904,
          531294390,
          645341942,
          653715615,
          697339548.64,
          710712300,
          722094399.9399999,
          744157232,
          791119316,
          800085518.44,
          855566608,
          883998544,
          926848832,
          934550805,
          966961072,
          1006366812,
          1021493347,
          1079548686.75,
          1134613543.04,
          1169514432,
          1202287450,
          1238173706.3,
          1308320772.72,
          1323401470.56,
          1382594561.45,
          1420152032,
          1429939234.2,
          1464699463.36,
          1492622906,
          1550993699.16,
          1598455716,
          1654550629.16,
          1692759402,
          1843338797.44,
          1882788554,
          1954293376,
          2130365328,
          2151775292.88,
          2184947492,
          2208461104,
          2326083030.3,
          2353404474,
          2394930410.02,
          2561194506,
          2713800904.22,
          2750344844,
          2765784591.96,
          2887981176,
          2892613513,
          2952935043.03,
          2974606725,
          3020536480,
          3053305275,
          3067155988,
          3209226264,
          3249259572,
          3365231651,
          3552869375,
          3603201233.76,
          3676368435,
          3776166735.76,
          4077093995.36,
          4097907949.95,
          4110550122,
          4138912928,
          4301545125,
          4337980298.84,
          4826570175,
          4828109025,
          4882601368,
          4897829040,
          5126255542.48,
          5152346583,
          5234949978,
          5239569811,
          5282047440,
          5337972150,
          5566174372,
          5708285895,
          5745145209,
          5905480052,
          6005639961,
          6155495862.849999,
          6186053952,
          6388733061.64,
          6405641211.84,
          6471522819.3,
          6964278466.95,
          6995683919,
          7034694195,
          7806607136.8,
          7836657030,
          8019668475,
          8121631598.400001,
          8154894594,
          8231989324.75,
          8289527545,
          8311517868,
          8357387746,
          8741645838.36,
          8765753256,
          9432470232,
          9566457498,
          9687038816,
          9723774592,
          9863758320,
          10375636930,
          10458128347.5,
          10468156384,
          10617717048.64,
          10620567984,
          11394550752,
          11451442608,
          11953696173,
          12906280105.32,
          12944274161,
          13022139424,
          13224365738.22,
          13490776083,
          13499847114.88,
          13911081392.1,
          14340359312,
          15315178704,
          16097651058,
          16131083234.08,
          16251705360,
          16369751443.7,
          16435515117,
          16537544576,
          17387083758,
          17470707765,
          17741893680,
          17954616592,
          18529619249,
          18833215605,
          20603000892,
          20821387400,
          21138708465,
          22321761994,
          22483771178,
          23172404767,
          23546446954.05,
          23700892064,
          23764264144.32,
          23792869303,
          23816560491.84,
          24047357086,
          24387276577.16,
          24447178686.98,
          24884782992,
          24929233775,
          25480993968,
          25892695881,
          26300870235.99,
          26626704456,
          28042188912,
          28451573292,
          29724191740,
          29948441964,
          30159486802.24,
          30576018960,
          31127251332,
          31666128186,
          32452019064.72,
          33741211714,
          33961942972.16,
          34007187295,
          35504703558,
          35655724290,
          35746126450,
          36348540345,
          36931315172.1,
          38069906176,
          39666081666,
          40074282102.81,
          41670174075,
          41970468666,
          42557833984,
          44137786980,
          44255381457,
          46605320703,
          51803465061,
          53175747450,
          53281472125,
          60462492306.56,
          62520271989,
          65512767370.65,
          81743634498.96,
          86148021323,
          93454303974.78,
          95250789048.94,
          95831334821.22,
          98507331670,
          102210396834,
          108746538939,
          114348429885.9,
          117083559210,
          131045122140,
          224338590850.99,
          226229064332.04,
          249681782772.3,
          254999156936,
          265548194288,
          290738314020,
          318947748056,
          321366770475,
          390351485145,
          432157483290,
          472776034177.5
         ],
         "xaxis": "x",
         "y": [
          314910816.2771749,
          314976630.63490933,
          314990345.3388577,
          315119850.8202174,
          315126530.433374,
          315242707.05523336,
          315337670.8979667,
          315400166.75506824,
          315473336.62702,
          315618483.60308194,
          315647994.22184294,
          315676854.6536413,
          315694150.4467686,
          316059128.6808704,
          316154315.7129309,
          316191316.2838207,
          316278678.1767758,
          316302951.5060959,
          316382373.94050956,
          316657166.1820023,
          316733170.0504168,
          316905986.3146305,
          317013979.1365758,
          317166869.3521236,
          317448520.15662146,
          317774509.1505819,
          317846335.4089605,
          318136725.88731873,
          318341913.14809924,
          318421880.84330446,
          318627150.6586977,
          319151206.4680552,
          319686662.0579232,
          319690262.8888856,
          319818974.5465309,
          319877334.79676765,
          320952160.5894472,
          321031077.1427798,
          321442205.02963185,
          321568234.72363895,
          321675503.7914605,
          321883431.9805517,
          322326019.8158538,
          322410520.5830855,
          322933394.638857,
          323201347.59017164,
          323605184.35789245,
          323677770.5650468,
          323983216.7610268,
          324354590.8500701,
          324497148.84177405,
          325044283.57173365,
          325563234.8931148,
          325892153.6202932,
          326201018.5142135,
          326539223.7031679,
          327200315.2824858,
          327342441.2880491,
          327900298.60038316,
          328254253.92293966,
          328346492.09182847,
          328674085.18966734,
          328937245.9138,
          329487353.5919335,
          329934652.9769499,
          330463311.9305632,
          330823405.3638275,
          332242520.59450775,
          332614309.5116922,
          333288197.07559675,
          334947563.4719665,
          335149338.8022549,
          335461965.7248747,
          335683566.5941039,
          336792078.59593874,
          337049565.86214507,
          337440921.45300823,
          339007855.0313444,
          340446073.4767064,
          340790476.91503423,
          340935986.7400928,
          342087611.9876345,
          342131268.8237583,
          342699760.95877695,
          342904002.8065293,
          343336861.59621596,
          343645686.6910415,
          343776220.8701478,
          345115143.0507651,
          345492431.5698969,
          346585394.808072,
          348353761.26485384,
          348828107.0885042,
          349517661.5216491,
          350458197.1652589,
          353294245.59125614,
          353490403.90284353,
          353609548.35054576,
          353876849.79548657,
          355409555.0310688,
          355752933.4194449,
          360357582.89880294,
          360372085.5833591,
          360885641.3303509,
          361029152.4740891,
          363181927.2797866,
          363427818.7769469,
          364206303.34721535,
          364249842.34107536,
          364650167.0342443,
          365177221.931101,
          367327883.03562325,
          368667193.94303644,
          369014569.5832227,
          370525623.7154641,
          371469567.2872265,
          372881864.0500156,
          373169854.64531946,
          375079976.6151307,
          375239325.19932,
          375860217.53518707,
          380504126.7668619,
          380800103.2196849,
          381167750.3115255,
          388442539.8620261,
          388725741.03304833,
          390450507.74651146,
          391411445.4695104,
          391724928.0913265,
          392451496.9973367,
          392993758.2042197,
          393201003.0414412,
          393633297.5284063,
          397254686.1638621,
          397481883.27436537,
          403765267.61410195,
          405028012.55568045,
          406164414.9459895,
          406510626.31893414,
          407829884.10896397,
          412654015.1236213,
          413431444.37702334,
          413525952.25633436,
          414935466.5958036,
          414962334.85210943,
          422256631.20084554,
          422792800.8349137,
          427526221.9093725,
          436503720.8753268,
          436861790.73563707,
          437595621.41905385,
          439501476.07941663,
          442012224.49080026,
          442097713.2089697,
          445973335.2651974,
          450019007.2015519,
          459206061.26235074,
          466580366.5708755,
          466895443.6113384,
          468032230.59039295,
          469144740.0065141,
          469764520.8877748,
          470726083.7817012,
          478732451.3774341,
          479520554.56802964,
          482076309.6977267,
          484081088.1300731,
          489500123.22345984,
          492361326.1889765,
          509040429.2526909,
          511098583.4827055,
          514089133.11960196,
          525238661.7573559,
          526765495.4908337,
          533255429.99782485,
          536780540.209674,
          538236087.3460779,
          538833328.9814241,
          539102914.4465549,
          539326188.8647947,
          541501300.2803011,
          544704825.7407446,
          545269365.1064862,
          549393507.9379175,
          549812428.355194,
          555012417.9771565,
          558892447.2038066,
          562739231.4351208,
          565810012.1547662,
          579150054.7577477,
          583008242.7067894,
          595001863.8600973,
          597115279.8917658,
          599104243.543982,
          603029794.7617837,
          608224810.0058243,
          613303382.3346472,
          620709905.0689522,
          632859727.5498327,
          634939979.5619142,
          635366378.5885303,
          649479518.9076618,
          650902793.455308,
          651754776.4358978,
          657432145.0497768,
          662924427.9134319,
          673654925.4720695,
          688697866.3875823,
          692544896.423496,
          707585165.3635957,
          710415251.2895868,
          715950796.6164327,
          730840850.8222616,
          731949104.1318657,
          754095790.0408335,
          803085001.4011081,
          816017891.9425647,
          817014279.9019718,
          884690837.3864574,
          904084104.8398297,
          932286474.5028958,
          1085252095.606817,
          1126760646.0000427,
          1195617722.763427,
          1212548454.375018,
          1218019729.811755,
          1243239301.6811962,
          1278138340.5508795,
          1339737331.461904,
          1392531598.1683567,
          1418308456.086857,
          1549887325.427974,
          2429119055.532201,
          2446935568.2251625,
          2667962554.3023562,
          2718075430.907305,
          2817493412.5740156,
          3054894303.113419,
          3320750314.6373167,
          3343548065.605362,
          3993685217.413348,
          4387680216.051795,
          4770484277.950033
         ],
         "yaxis": "y"
        }
       ],
       "layout": {
        "annotations": [
         {
          "showarrow": false,
          "text": "R² = 0.78",
          "x": 0.1,
          "xref": "paper",
          "y": 0.9,
          "yref": "paper"
         }
        ],
        "autosize": false,
        "height": 600,
        "legend": {
         "tracegroupgap": 0
        },
        "template": {
         "data": {
          "bar": [
           {
            "error_x": {
             "color": "#2a3f5f"
            },
            "error_y": {
             "color": "#2a3f5f"
            },
            "marker": {
             "line": {
              "color": "#E5ECF6",
              "width": 0.5
             },
             "pattern": {
              "fillmode": "overlay",
              "size": 10,
              "solidity": 0.2
             }
            },
            "type": "bar"
           }
          ],
          "barpolar": [
           {
            "marker": {
             "line": {
              "color": "#E5ECF6",
              "width": 0.5
             },
             "pattern": {
              "fillmode": "overlay",
              "size": 10,
              "solidity": 0.2
             }
            },
            "type": "barpolar"
           }
          ],
          "carpet": [
           {
            "aaxis": {
             "endlinecolor": "#2a3f5f",
             "gridcolor": "white",
             "linecolor": "white",
             "minorgridcolor": "white",
             "startlinecolor": "#2a3f5f"
            },
            "baxis": {
             "endlinecolor": "#2a3f5f",
             "gridcolor": "white",
             "linecolor": "white",
             "minorgridcolor": "white",
             "startlinecolor": "#2a3f5f"
            },
            "type": "carpet"
           }
          ],
          "choropleth": [
           {
            "colorbar": {
             "outlinewidth": 0,
             "ticks": ""
            },
            "type": "choropleth"
           }
          ],
          "contour": [
           {
            "colorbar": {
             "outlinewidth": 0,
             "ticks": ""
            },
            "colorscale": [
             [
              0,
              "#0d0887"
             ],
             [
              0.1111111111111111,
              "#46039f"
             ],
             [
              0.2222222222222222,
              "#7201a8"
             ],
             [
              0.3333333333333333,
              "#9c179e"
             ],
             [
              0.4444444444444444,
              "#bd3786"
             ],
             [
              0.5555555555555556,
              "#d8576b"
             ],
             [
              0.6666666666666666,
              "#ed7953"
             ],
             [
              0.7777777777777778,
              "#fb9f3a"
             ],
             [
              0.8888888888888888,
              "#fdca26"
             ],
             [
              1,
              "#f0f921"
             ]
            ],
            "type": "contour"
           }
          ],
          "contourcarpet": [
           {
            "colorbar": {
             "outlinewidth": 0,
             "ticks": ""
            },
            "type": "contourcarpet"
           }
          ],
          "heatmap": [
           {
            "colorbar": {
             "outlinewidth": 0,
             "ticks": ""
            },
            "colorscale": [
             [
              0,
              "#0d0887"
             ],
             [
              0.1111111111111111,
              "#46039f"
             ],
             [
              0.2222222222222222,
              "#7201a8"
             ],
             [
              0.3333333333333333,
              "#9c179e"
             ],
             [
              0.4444444444444444,
              "#bd3786"
             ],
             [
              0.5555555555555556,
              "#d8576b"
             ],
             [
              0.6666666666666666,
              "#ed7953"
             ],
             [
              0.7777777777777778,
              "#fb9f3a"
             ],
             [
              0.8888888888888888,
              "#fdca26"
             ],
             [
              1,
              "#f0f921"
             ]
            ],
            "type": "heatmap"
           }
          ],
          "heatmapgl": [
           {
            "colorbar": {
             "outlinewidth": 0,
             "ticks": ""
            },
            "colorscale": [
             [
              0,
              "#0d0887"
             ],
             [
              0.1111111111111111,
              "#46039f"
             ],
             [
              0.2222222222222222,
              "#7201a8"
             ],
             [
              0.3333333333333333,
              "#9c179e"
             ],
             [
              0.4444444444444444,
              "#bd3786"
             ],
             [
              0.5555555555555556,
              "#d8576b"
             ],
             [
              0.6666666666666666,
              "#ed7953"
             ],
             [
              0.7777777777777778,
              "#fb9f3a"
             ],
             [
              0.8888888888888888,
              "#fdca26"
             ],
             [
              1,
              "#f0f921"
             ]
            ],
            "type": "heatmapgl"
           }
          ],
          "histogram": [
           {
            "marker": {
             "pattern": {
              "fillmode": "overlay",
              "size": 10,
              "solidity": 0.2
             }
            },
            "type": "histogram"
           }
          ],
          "histogram2d": [
           {
            "colorbar": {
             "outlinewidth": 0,
             "ticks": ""
            },
            "colorscale": [
             [
              0,
              "#0d0887"
             ],
             [
              0.1111111111111111,
              "#46039f"
             ],
             [
              0.2222222222222222,
              "#7201a8"
             ],
             [
              0.3333333333333333,
              "#9c179e"
             ],
             [
              0.4444444444444444,
              "#bd3786"
             ],
             [
              0.5555555555555556,
              "#d8576b"
             ],
             [
              0.6666666666666666,
              "#ed7953"
             ],
             [
              0.7777777777777778,
              "#fb9f3a"
             ],
             [
              0.8888888888888888,
              "#fdca26"
             ],
             [
              1,
              "#f0f921"
             ]
            ],
            "type": "histogram2d"
           }
          ],
          "histogram2dcontour": [
           {
            "colorbar": {
             "outlinewidth": 0,
             "ticks": ""
            },
            "colorscale": [
             [
              0,
              "#0d0887"
             ],
             [
              0.1111111111111111,
              "#46039f"
             ],
             [
              0.2222222222222222,
              "#7201a8"
             ],
             [
              0.3333333333333333,
              "#9c179e"
             ],
             [
              0.4444444444444444,
              "#bd3786"
             ],
             [
              0.5555555555555556,
              "#d8576b"
             ],
             [
              0.6666666666666666,
              "#ed7953"
             ],
             [
              0.7777777777777778,
              "#fb9f3a"
             ],
             [
              0.8888888888888888,
              "#fdca26"
             ],
             [
              1,
              "#f0f921"
             ]
            ],
            "type": "histogram2dcontour"
           }
          ],
          "mesh3d": [
           {
            "colorbar": {
             "outlinewidth": 0,
             "ticks": ""
            },
            "type": "mesh3d"
           }
          ],
          "parcoords": [
           {
            "line": {
             "colorbar": {
              "outlinewidth": 0,
              "ticks": ""
             }
            },
            "type": "parcoords"
           }
          ],
          "pie": [
           {
            "automargin": true,
            "type": "pie"
           }
          ],
          "scatter": [
           {
            "fillpattern": {
             "fillmode": "overlay",
             "size": 10,
             "solidity": 0.2
            },
            "type": "scatter"
           }
          ],
          "scatter3d": [
           {
            "line": {
             "colorbar": {
              "outlinewidth": 0,
              "ticks": ""
             }
            },
            "marker": {
             "colorbar": {
              "outlinewidth": 0,
              "ticks": ""
             }
            },
            "type": "scatter3d"
           }
          ],
          "scattercarpet": [
           {
            "marker": {
             "colorbar": {
              "outlinewidth": 0,
              "ticks": ""
             }
            },
            "type": "scattercarpet"
           }
          ],
          "scattergeo": [
           {
            "marker": {
             "colorbar": {
              "outlinewidth": 0,
              "ticks": ""
             }
            },
            "type": "scattergeo"
           }
          ],
          "scattergl": [
           {
            "marker": {
             "colorbar": {
              "outlinewidth": 0,
              "ticks": ""
             }
            },
            "type": "scattergl"
           }
          ],
          "scattermapbox": [
           {
            "marker": {
             "colorbar": {
              "outlinewidth": 0,
              "ticks": ""
             }
            },
            "type": "scattermapbox"
           }
          ],
          "scatterpolar": [
           {
            "marker": {
             "colorbar": {
              "outlinewidth": 0,
              "ticks": ""
             }
            },
            "type": "scatterpolar"
           }
          ],
          "scatterpolargl": [
           {
            "marker": {
             "colorbar": {
              "outlinewidth": 0,
              "ticks": ""
             }
            },
            "type": "scatterpolargl"
           }
          ],
          "scatterternary": [
           {
            "marker": {
             "colorbar": {
              "outlinewidth": 0,
              "ticks": ""
             }
            },
            "type": "scatterternary"
           }
          ],
          "surface": [
           {
            "colorbar": {
             "outlinewidth": 0,
             "ticks": ""
            },
            "colorscale": [
             [
              0,
              "#0d0887"
             ],
             [
              0.1111111111111111,
              "#46039f"
             ],
             [
              0.2222222222222222,
              "#7201a8"
             ],
             [
              0.3333333333333333,
              "#9c179e"
             ],
             [
              0.4444444444444444,
              "#bd3786"
             ],
             [
              0.5555555555555556,
              "#d8576b"
             ],
             [
              0.6666666666666666,
              "#ed7953"
             ],
             [
              0.7777777777777778,
              "#fb9f3a"
             ],
             [
              0.8888888888888888,
              "#fdca26"
             ],
             [
              1,
              "#f0f921"
             ]
            ],
            "type": "surface"
           }
          ],
          "table": [
           {
            "cells": {
             "fill": {
              "color": "#EBF0F8"
             },
             "line": {
              "color": "white"
             }
            },
            "header": {
             "fill": {
              "color": "#C8D4E3"
             },
             "line": {
              "color": "white"
             }
            },
            "type": "table"
           }
          ]
         },
         "layout": {
          "annotationdefaults": {
           "arrowcolor": "#2a3f5f",
           "arrowhead": 0,
           "arrowwidth": 1
          },
          "autotypenumbers": "strict",
          "coloraxis": {
           "colorbar": {
            "outlinewidth": 0,
            "ticks": ""
           }
          },
          "colorscale": {
           "diverging": [
            [
             0,
             "#8e0152"
            ],
            [
             0.1,
             "#c51b7d"
            ],
            [
             0.2,
             "#de77ae"
            ],
            [
             0.3,
             "#f1b6da"
            ],
            [
             0.4,
             "#fde0ef"
            ],
            [
             0.5,
             "#f7f7f7"
            ],
            [
             0.6,
             "#e6f5d0"
            ],
            [
             0.7,
             "#b8e186"
            ],
            [
             0.8,
             "#7fbc41"
            ],
            [
             0.9,
             "#4d9221"
            ],
            [
             1,
             "#276419"
            ]
           ],
           "sequential": [
            [
             0,
             "#0d0887"
            ],
            [
             0.1111111111111111,
             "#46039f"
            ],
            [
             0.2222222222222222,
             "#7201a8"
            ],
            [
             0.3333333333333333,
             "#9c179e"
            ],
            [
             0.4444444444444444,
             "#bd3786"
            ],
            [
             0.5555555555555556,
             "#d8576b"
            ],
            [
             0.6666666666666666,
             "#ed7953"
            ],
            [
             0.7777777777777778,
             "#fb9f3a"
            ],
            [
             0.8888888888888888,
             "#fdca26"
            ],
            [
             1,
             "#f0f921"
            ]
           ],
           "sequentialminus": [
            [
             0,
             "#0d0887"
            ],
            [
             0.1111111111111111,
             "#46039f"
            ],
            [
             0.2222222222222222,
             "#7201a8"
            ],
            [
             0.3333333333333333,
             "#9c179e"
            ],
            [
             0.4444444444444444,
             "#bd3786"
            ],
            [
             0.5555555555555556,
             "#d8576b"
            ],
            [
             0.6666666666666666,
             "#ed7953"
            ],
            [
             0.7777777777777778,
             "#fb9f3a"
            ],
            [
             0.8888888888888888,
             "#fdca26"
            ],
            [
             1,
             "#f0f921"
            ]
           ]
          },
          "colorway": [
           "#636efa",
           "#EF553B",
           "#00cc96",
           "#ab63fa",
           "#FFA15A",
           "#19d3f3",
           "#FF6692",
           "#B6E880",
           "#FF97FF",
           "#FECB52"
          ],
          "font": {
           "color": "#2a3f5f"
          },
          "geo": {
           "bgcolor": "white",
           "lakecolor": "white",
           "landcolor": "#E5ECF6",
           "showlakes": true,
           "showland": true,
           "subunitcolor": "white"
          },
          "hoverlabel": {
           "align": "left"
          },
          "hovermode": "closest",
          "mapbox": {
           "style": "light"
          },
          "paper_bgcolor": "white",
          "plot_bgcolor": "#E5ECF6",
          "polar": {
           "angularaxis": {
            "gridcolor": "white",
            "linecolor": "white",
            "ticks": ""
           },
           "bgcolor": "#E5ECF6",
           "radialaxis": {
            "gridcolor": "white",
            "linecolor": "white",
            "ticks": ""
           }
          },
          "scene": {
           "xaxis": {
            "backgroundcolor": "#E5ECF6",
            "gridcolor": "white",
            "gridwidth": 2,
            "linecolor": "white",
            "showbackground": true,
            "ticks": "",
            "zerolinecolor": "white"
           },
           "yaxis": {
            "backgroundcolor": "#E5ECF6",
            "gridcolor": "white",
            "gridwidth": 2,
            "linecolor": "white",
            "showbackground": true,
            "ticks": "",
            "zerolinecolor": "white"
           },
           "zaxis": {
            "backgroundcolor": "#E5ECF6",
            "gridcolor": "white",
            "gridwidth": 2,
            "linecolor": "white",
            "showbackground": true,
            "ticks": "",
            "zerolinecolor": "white"
           }
          },
          "shapedefaults": {
           "line": {
            "color": "#2a3f5f"
           }
          },
          "ternary": {
           "aaxis": {
            "gridcolor": "white",
            "linecolor": "white",
            "ticks": ""
           },
           "baxis": {
            "gridcolor": "white",
            "linecolor": "white",
            "ticks": ""
           },
           "bgcolor": "#E5ECF6",
           "caxis": {
            "gridcolor": "white",
            "linecolor": "white",
            "ticks": ""
           }
          },
          "title": {
           "x": 0.05
          },
          "xaxis": {
           "automargin": true,
           "gridcolor": "white",
           "linecolor": "white",
           "ticks": "",
           "title": {
            "standoff": 15
           },
           "zerolinecolor": "white",
           "zerolinewidth": 2
          },
          "yaxis": {
           "automargin": true,
           "gridcolor": "white",
           "linecolor": "white",
           "ticks": "",
           "title": {
            "standoff": 15
           },
           "zerolinecolor": "white",
           "zerolinewidth": 2
          }
         }
        },
        "title": {
         "text": "Regressão Linear Simples"
        },
        "width": 800,
        "xaxis": {
         "anchor": "y",
         "domain": [
          0,
          1
         ],
         "title": {
          "text": "Valor das Emendas"
         }
        },
        "yaxis": {
         "anchor": "x",
         "domain": [
          0,
          1
         ],
         "title": {
          "text": "Gastos"
         }
        }
       }
      }
     },
     "metadata": {},
     "output_type": "display_data"
    }
   ],
   "source": [
    "# controlando por ano antes e depois de 2018 e por região. Quando controla aumenta o R2.\n",
    "\n",
    "X = variaveis_uf_ano_dum[['valor_emendas', 'ano_emenda'] +  [col for col in variaveis_uf_ano_dum.columns if 'regiao_' in col]]\n",
    "X = sm.add_constant(X)  \n",
    "y = variaveis_uf_ano_dum['gastos']  \n",
    "\n",
    "# Ajuste do modelo\n",
    "model = sm.OLS(y, X).fit()\n",
    "\n",
    "# Calcular R²\n",
    "r2 = model.rsquared\n",
    "\n",
    "# Use o Plotly Express para criar o gráfico\n",
    "fig = px.scatter(variaveis_uf_ano_dum, x='valor_emendas', y='gastos', trendline=\"ols\", title='Regressão Linear Simples',\n",
    "                labels={'valor_emendas': 'Valor das Emendas', 'gastos': 'Gastos'},\n",
    "                hover_data=['valor_emendas', 'gastos'])\n",
    "\n",
    "\n",
    "# Adicione uma anotação para R²\n",
    "fig.add_annotation(x=0.1, y=0.9, text=f\"R² = {r2:.2f}\", showarrow=False, \n",
    "                   xref=\"paper\", yref=\"paper\")\n",
    "\n",
    "fig.update_layout(autosize=False, width=800, height=600)\n",
    "\n",
    "# Mostrar a figura\n",
    "fig.show()"
   ]
  },
  {
   "cell_type": "code",
   "execution_count": 12,
   "id": "78c42407-01dd-4c15-a69f-5378e2438f48",
   "metadata": {},
   "outputs": [
    {
     "name": "stdout",
     "output_type": "stream",
     "text": [
      "                            OLS Regression Results                            \n",
      "==============================================================================\n",
      "Dep. Variable:                 gastos   R-squared:                       0.683\n",
      "Model:                            OLS   Adj. R-squared:                  0.680\n",
      "Method:                 Least Squares   F-statistic:                     258.7\n",
      "Date:                Tue, 31 Oct 2023   Prob (F-statistic):           1.28e-60\n",
      "Time:                        10:19:42   Log-Likelihood:                -5180.2\n",
      "No. Observations:                 243   AIC:                         1.037e+04\n",
      "Df Residuals:                     240   BIC:                         1.038e+04\n",
      "Df Model:                           2                                         \n",
      "Covariance Type:            nonrobust                                         \n",
      "=================================================================================\n",
      "                    coef    std err          t      P>|t|      [0.025      0.975]\n",
      "---------------------------------------------------------------------------------\n",
      "const          2.877e+08   4.36e+07      6.601      0.000    2.02e+08    3.74e+08\n",
      "valor_emendas     0.0094      0.000     22.601      0.000       0.009       0.010\n",
      "ano_emenda      5.03e+07   5.71e+07      0.881      0.379   -6.22e+07    1.63e+08\n",
      "==============================================================================\n",
      "Omnibus:                      109.675   Durbin-Watson:                   1.406\n",
      "Prob(Omnibus):                  0.000   Jarque-Bera (JB):              737.794\n",
      "Skew:                           1.644   Prob(JB):                    6.17e-161\n",
      "Kurtosis:                      10.877   Cond. No.                     1.76e+11\n",
      "==============================================================================\n",
      "\n",
      "Notes:\n",
      "[1] Standard Errors assume that the covariance matrix of the errors is correctly specified.\n",
      "[2] The condition number is large, 1.76e+11. This might indicate that there are\n",
      "strong multicollinearity or other numerical problems.\n"
     ]
    }
   ],
   "source": [
    "# Ajuste o modelo de regressão logística, controlando por antes e depois de 2018. \n",
    "X = variaveis_uf_ano_dum[['valor_emendas', 'ano_emenda']]  # Variáveis independentes (características)\n",
    "X = sm.add_constant(X)  # Adiciona uma constante para o termo de intercepção\n",
    "y = variaveis_uf_ano_dum['gastos']  # Variável dependente (alvo)\n",
    "\n",
    "# Ajuste do modelo\n",
    "model = sm.OLS(y, X).fit()\n",
    "\n",
    "# Imprima o resumo do modelo\n",
    "print(model.summary())"
   ]
  },
  {
   "cell_type": "code",
   "execution_count": 13,
   "id": "eed693d7-5407-461b-8322-24e9802696e1",
   "metadata": {},
   "outputs": [
    {
     "name": "stdout",
     "output_type": "stream",
     "text": [
      "                            OLS Regression Results                            \n",
      "==============================================================================\n",
      "Dep. Variable:                 gastos   R-squared:                       0.783\n",
      "Model:                            OLS   Adj. R-squared:                  0.778\n",
      "Method:                 Least Squares   F-statistic:                     142.3\n",
      "Date:                Tue, 31 Oct 2023   Prob (F-statistic):           1.74e-75\n",
      "Time:                        10:19:42   Log-Likelihood:                -5133.9\n",
      "No. Observations:                 243   AIC:                         1.028e+04\n",
      "Df Residuals:                     236   BIC:                         1.031e+04\n",
      "Df Model:                           6                                         \n",
      "Covariance Type:            nonrobust                                         \n",
      "=======================================================================================\n",
      "                          coef    std err          t      P>|t|      [0.025      0.975]\n",
      "---------------------------------------------------------------------------------------\n",
      "const                3.489e+08   3.26e+07     10.696      0.000    2.85e+08    4.13e+08\n",
      "valor_emendas           0.0072      0.000     17.211      0.000       0.006       0.008\n",
      "ano_emenda           7.277e+07   4.77e+07      1.527      0.128   -2.11e+07    1.67e+08\n",
      "regiao_Centro-Oeste -1.836e+08   5.54e+07     -3.312      0.001   -2.93e+08   -7.44e+07\n",
      "regiao_Nordeste     -7.982e+07   4.05e+07     -1.970      0.050    -1.6e+08     1.7e+04\n",
      "regiao_Norte        -2.835e+08   4.53e+07     -6.253      0.000   -3.73e+08   -1.94e+08\n",
      "regiao_Sudeste       5.162e+08   6.46e+07      7.984      0.000    3.89e+08    6.44e+08\n",
      "regiao_Sul           3.797e+08   6.21e+07      6.118      0.000    2.57e+08    5.02e+08\n",
      "==============================================================================\n",
      "Omnibus:                       96.169   Durbin-Watson:                   1.304\n",
      "Prob(Omnibus):                  0.000   Jarque-Bera (JB):              867.289\n",
      "Skew:                           1.287   Prob(JB):                    4.68e-189\n",
      "Kurtosis:                      11.890   Cond. No.                     9.75e+26\n",
      "==============================================================================\n",
      "\n",
      "Notes:\n",
      "[1] Standard Errors assume that the covariance matrix of the errors is correctly specified.\n",
      "[2] The smallest eigenvalue is 1.41e-30. This might indicate that there are\n",
      "strong multicollinearity problems or that the design matrix is singular.\n"
     ]
    }
   ],
   "source": [
    "# # Ajuste o modelo de regressão logística, controlando por antes e depois de 2018 e por região\n",
    "X = variaveis_uf_ano_dum[['valor_emendas', 'ano_emenda'] + [col for col in variaveis_uf_ano_dum.columns if 'regiao_' in col]]  # Variáveis independentes (características)\n",
    "X = sm.add_constant(X)  # Adiciona uma constante para o termo de intercepção\n",
    "y = variaveis_uf_ano_dum['gastos']  # Variável dependente (alvo)\n",
    "\n",
    "# Ajuste do modelo\n",
    "model = sm.OLS(y, X).fit()\n",
    "\n",
    "# Imprima o resumo do modelo\n",
    "print(model.summary())"
   ]
  },
  {
   "cell_type": "code",
   "execution_count": 14,
   "id": "aadcf6f6-839a-4d70-9c66-44a2d53c863a",
   "metadata": {},
   "outputs": [
    {
     "name": "stdout",
     "output_type": "stream",
     "text": [
      "                            OLS Regression Results                            \n",
      "==============================================================================\n",
      "Dep. Variable:                 gastos   R-squared:                       0.783\n",
      "Model:                            OLS   Adj. R-squared:                  0.778\n",
      "Method:                 Least Squares   F-statistic:                     142.3\n",
      "Date:                Tue, 31 Oct 2023   Prob (F-statistic):           1.74e-75\n",
      "Time:                        10:19:42   Log-Likelihood:                -5133.9\n",
      "No. Observations:                 243   AIC:                         1.028e+04\n",
      "Df Residuals:                     236   BIC:                         1.031e+04\n",
      "Df Model:                           6                                         \n",
      "Covariance Type:            nonrobust                                         \n",
      "=======================================================================================\n",
      "                          coef    std err          t      P>|t|      [0.025      0.975]\n",
      "---------------------------------------------------------------------------------------\n",
      "const                3.489e+08   3.26e+07     10.696      0.000    2.85e+08    4.13e+08\n",
      "valor_emendas           0.0072      0.000     17.211      0.000       0.006       0.008\n",
      "ano_emenda           7.277e+07   4.77e+07      1.527      0.128   -2.11e+07    1.67e+08\n",
      "regiao_Centro-Oeste -1.836e+08   5.54e+07     -3.312      0.001   -2.93e+08   -7.44e+07\n",
      "regiao_Nordeste     -7.982e+07   4.05e+07     -1.970      0.050    -1.6e+08     1.7e+04\n",
      "regiao_Norte        -2.835e+08   4.53e+07     -6.253      0.000   -3.73e+08   -1.94e+08\n",
      "regiao_Sudeste       5.162e+08   6.46e+07      7.984      0.000    3.89e+08    6.44e+08\n",
      "regiao_Sul           3.797e+08   6.21e+07      6.118      0.000    2.57e+08    5.02e+08\n",
      "==============================================================================\n",
      "Omnibus:                       96.169   Durbin-Watson:                   1.304\n",
      "Prob(Omnibus):                  0.000   Jarque-Bera (JB):              867.289\n",
      "Skew:                           1.287   Prob(JB):                    4.68e-189\n",
      "Kurtosis:                      11.890   Cond. No.                     9.75e+26\n",
      "==============================================================================\n",
      "\n",
      "Notes:\n",
      "[1] Standard Errors assume that the covariance matrix of the errors is correctly specified.\n",
      "[2] The smallest eigenvalue is 1.41e-30. This might indicate that there are\n",
      "strong multicollinearity problems or that the design matrix is singular.\n"
     ]
    }
   ],
   "source": [
    "X = variaveis_uf_ano_dum[['valor_emendas', 'ano_emenda'] + [col for col in variaveis_uf_ano_dum.columns if 'regiao_' in col]]  \n",
    "X = sm.add_constant(X)  \n",
    "y = variaveis_uf_ano_dum['gastos']  \n",
    "\n",
    "model = sm.OLS(y, X).fit()\n",
    "\n",
    "# Obtenha o resumo do modelo completo\n",
    "summary = model.summary()\n",
    "\n",
    "# Imprima o resumo do modelo\n",
    "print(summary)"
   ]
  },
  {
   "cell_type": "code",
   "execution_count": null,
   "id": "096f92d8-57a7-4f13-a9fd-6624907e5406",
   "metadata": {},
   "outputs": [],
   "source": []
  },
  {
   "cell_type": "code",
   "execution_count": 56,
   "id": "2dc468b2-d4e3-4678-9e49-daee4aa5fea6",
   "metadata": {},
   "outputs": [
    {
     "data": {
      "text/plain": [
       "<matplotlib.legend.Legend at 0x1acdad6c350>"
      ]
     },
     "execution_count": 56,
     "metadata": {},
     "output_type": "execute_result"
    },
    {
     "data": {
      "image/png": "[encoded data removed]",
      "text/plain": [
       "<Figure size 640x480 with 1 Axes>"
      ]
     },
     "metadata": {},
     "output_type": "display_data"
    }
   ],
   "source": [
    "# Ver se tem outliers.\n",
    "import seaborn as sns\n",
    "from sklearn.preprocessing import MinMaxScaler\n",
    "\n",
    "cluster_df = variaveis_uf_ano[['gastos','valor_emendas']].copy()\n",
    "\n",
    "cluster_df['gastos'] = MinMaxScaler().\\\n",
    "    fit_transform(cluster_df[['gastos']])\n",
    "cluster_df['valor_emendas'] = MinMaxScaler().\\\n",
    "    fit_transform(cluster_df[['valor_emendas']])\n",
    "\n",
    "from sklearn.cluster import DBSCAN\n",
    "cluster = DBSCAN().fit(cluster_df[['valor_emendas', 'gastos']])\n",
    "ax = sns.scatterplot(data=cluster_df, x='valor_emendas', y='gastos', \n",
    "                     c=cluster.labels_)\n",
    "ax.legend(['Não é outlier'])\n",
    "#for state, idh, letalidade in zip(df.nome, df['valor_emendas'], \n",
    "#                                 df['gastos']):\n",
    "#  ax.annotate(state, xy=(gastos, letalidade))"
   ]
  },
  {
   "cell_type": "code",
   "execution_count": null,
   "id": "3b361bab",
   "metadata": {},
   "outputs": [],
   "source": [
    "\n"
   ]
  },
  {
   "cell_type": "code",
   "execution_count": 61,
   "id": "d920fa41",
   "metadata": {},
   "outputs": [
    {
     "data": {
      "application/vnd.plotly.v1+json": {
       "config": {
        "plotlyServerURL": "https://plot.ly"
       },
       "data": [
        {
         "hovertemplate": "Emendas Parlamentares=%{x}<br>Gastos Hospitalares=%{y}<br>cluster=%{marker.color}<extra></extra>",
         "legendgroup": "",
         "marker": {
          "color": [
           -1,
           -1,
           -1,
           -1,
           -1,
           -1,
           -1,
           -1,
           -1,
           -1,
           -1,
           -1,
           -1,
           -1,
           -1,
           -1,
           -1,
           -1,
           -1,
           -1,
           -1,
           -1,
           -1,
           -1,
           -1,
           -1,
           -1,
           -1,
           -1,
           -1,
           -1,
           -1,
           -1,
           -1,
           -1,
           -1,
           -1,
           -1,
           -1,
           -1,
           -1,
           -1,
           -1,
           -1,
           -1,
           -1,
           -1,
           -1,
           -1,
           -1,
           -1,
           -1,
           -1,
           -1,
           -1,
           -1,
           -1,
           -1,
           -1,
           -1,
           -1,
           -1,
           -1,
           -1,
           -1,
           -1,
           -1,
           -1,
           -1,
           -1,
           -1,
           -1,
           -1,
           -1,
           -1,
           -1,
           -1,
           -1,
           -1,
           -1,
           -1,
           -1,
           -1,
           -1,
           -1,
           -1,
           -1,
           -1,
           -1,
           -1,
           -1,
           -1,
           -1,
           -1,
           -1,
           -1,
           -1,
           -1,
           -1,
           -1,
           -1,
           -1,
           -1,
           -1,
           -1,
           -1,
           -1,
           -1,
           -1,
           -1,
           -1,
           -1,
           -1,
           -1,
           -1,
           -1,
           -1,
           -1,
           -1,
           -1,
           -1,
           -1,
           -1,
           -1,
           -1,
           -1,
           -1,
           -1,
           -1,
           -1,
           -1,
           -1,
           -1,
           -1,
           -1,
           -1,
           -1,
           -1,
           -1,
           -1,
           -1,
           -1,
           -1,
           -1,
           -1,
           -1,
           -1,
           -1,
           -1,
           -1,
           -1,
           -1,
           -1,
           -1,
           -1,
           -1,
           -1,
           -1,
           -1,
           -1,
           -1,
           -1,
           -1,
           -1,
           -1,
           -1,
           -1,
           -1,
           -1,
           -1,
           -1,
           -1,
           -1,
           -1,
           -1,
           -1,
           -1,
           -1,
           -1,
           -1,
           -1,
           -1,
           -1,
           -1,
           -1,
           -1,
           -1,
           -1,
           -1,
           -1,
           -1,
           -1,
           -1,
           -1,
           -1,
           -1,
           -1,
           -1,
           -1,
           -1,
           -1,
           -1,
           -1,
           -1,
           -1,
           -1,
           -1,
           -1,
           -1,
           -1,
           -1,
           -1,
           -1,
           -1,
           -1,
           -1,
           -1,
           -1,
           -1,
           -1,
           -1,
           -1,
           -1,
           -1,
           -1,
           -1,
           -1,
           -1,
           -1,
           -1,
           -1,
           -1,
           -1,
           -1,
           -1,
           -1,
           -1,
           -1,
           -1,
           -1,
           -1,
           -1,
           -1
          ],
          "coloraxis": "coloraxis",
          "size": 5,
          "symbol": "circle"
         },
         "mode": "markers",
         "name": "",
         "orientation": "v",
         "showlegend": false,
         "type": "scatter",
         "x": [
          126152400,
          26487560,
          454246408,
          243692482,
          197673542,
          883998544,
          1006366812,
          227469616,
          531294390,
          1429939234.2,
          1550993699.16,
          8121631598.400001,
          5234949978,
          6471522819.3,
          8741645838.36,
          4110550122,
          8154894594,
          9566457498,
          511062498.2399999,
          49600000,
          5566174372,
          152023938,
          722094399.9399999,
          1238173706.3,
          1169514432,
          1492622906,
          1692759402,
          315789226.4,
          63995211.2,
          216010720,
          27196320,
          189608928,
          525101904,
          966961072,
          855566608,
          1420152032,
          40074282102.81,
          23546446954.05,
          108746538939,
          51803465061,
          20603000892,
          35504703558,
          41670174075,
          39666081666,
          46605320703,
          13499847114.88,
          4077093995.36,
          23700892064,
          4882601368,
          2208461104,
          42557833984,
          17954616592,
          38069906176,
          32452019064.72,
          12746000,
          4307335,
          160451289,
          87425311,
          11290761,
          39523582.16,
          56231306.73,
          79396458,
          82527769,
          2561194506,
          1308320772.72,
          6405641211.84,
          10620567984,
          3249259572,
          9863758320,
          8019668475,
          4897829040,
          8765753256,
          13911081392.1,
          8311517868,
          30576018960,
          15315178704,
          11394550752,
          29948441964,
          26626704456,
          31127251332,
          28451573292,
          2952935043.03,
          744157232,
          23792869303,
          5239569811,
          645341942,
          16435515117,
          12944274161,
          41970468666,
          31666128186,
          95831334821.22,
          60462492306.56,
          318947748056,
          98507331670,
          53281472125,
          226229064332.04,
          254999156936,
          249681782772.3,
          265548194288,
          2713800904.22,
          1079548686.75,
          5152346583,
          3365231651,
          273577869,
          6005639961,
          4826570175,
          5282047440,
          6995683919,
          4097907949.95,
          2765784591.96,
          9432470232,
          3676368435,
          2887981176,
          25892695881,
          13490776083,
          16097651058,
          18833215605,
          3603201233.76,
          1323401470.56,
          25480993968,
          6186053952,
          3209226264,
          17741893680,
          11451442608,
          24884782992,
          28042188912,
          3776166735.76,
          2151775292.88,
          14340359312,
          5745145209,
          1882788554,
          22483771178,
          18529619249,
          24047357086,
          23172404767,
          6964278466.95,
          6155495862.849999,
          36931315172.1,
          10458128347.5,
          8289527545,
          16251705360,
          21138708465,
          20821387400,
          24929233775,
          1843338797.44,
          1464699463.36,
          13022139424,
          1954293376,
          926848832,
          9723774592,
          10468156384,
          16537544576,
          9687038816,
          26300870235.99,
          12906280105.32,
          93454303974.78,
          17470707765,
          13224365738.22,
          44255381457,
          62520271989,
          44137786980,
          53175747450,
          6388733061.64,
          4337980298.84,
          30159486802.24,
          10617717048.64,
          5126255542.48,
          16131083234.08,
          23764264144.32,
          23816560491.84,
          24387276577.16,
          2326083030.3,
          697339548.64,
          8231989324.75,
          2892613513,
          1382594561.45,
          8357387746,
          7836657030,
          11953696173,
          17387083758,
          1654550629.16,
          800085518.44,
          3020536480,
          1598455716,
          791119316,
          3067155988,
          2750344844,
          2184947492,
          2130365328,
          140178554.4,
          346601962.2,
          511444575,
          368373960,
          85590090,
          934550805,
          653715615,
          149448345,
          308167890,
          33961942972.16,
          24447178686.98,
          224338590850.99,
          33741211714,
          22321761994,
          81743634498.96,
          95250789048.94,
          86148021323,
          102210396834,
          16369751443.7,
          7806607136.8,
          36348540345,
          7034694195,
          3552869375,
          34007187295,
          35655724290,
          35746126450,
          29724191740,
          710712300,
          376859167.5,
          2353404474,
          136252500,
          398639925,
          4301545125,
          4828109025,
          5337972150,
          2974606725,
          114348429885.9,
          65512767370.65,
          472776034177.5,
          131045122140,
          117083559210,
          321366770475,
          290738314020,
          390351485145,
          432157483290,
          2394930410.02,
          1134613543.04,
          5905480052,
          1202287450,
          1021493347,
          5708285895,
          10375636930,
          4138912928,
          3053305275
         ],
         "xaxis": "x",
         "y": [
          36039320.36,
          37262018.93,
          40487149.58,
          37245525.42,
          34432565.80999999,
          34709598.96,
          40018213.54000001,
          50689465.28,
          43377991.73,
          163585154.39,
          177761701.66,
          177582559.02,
          191840311.18,
          201009115.55,
          204786689.31,
          205569621.04,
          276880403.49,
          211607936.57,
          121900696.54,
          151278739.11,
          147812237.68,
          160820207.38,
          175744827.42,
          189256198.86,
          210298047.43,
          270903741.19,
          237707058.01,
          23354262.75,
          22053145.67,
          21916972.06,
          22366616.97,
          25843955.47,
          29370406.98,
          27872333.42,
          45565140.13,
          35931724.12,
          757704806.95,
          785597108.51,
          810137241.0600001,
          821240562.83,
          845519121.49,
          879675393.52,
          914530938.71,
          1243933168.56,
          1076511369.9,
          510177372.21,
          527062987.33,
          540114355.34,
          551317375.85,
          573956797.74,
          607937295.28,
          636460960.1700001,
          877772133.48,
          726447120.85,
          71632316.27,
          64471697.15,
          83122612.98,
          96642322.18,
          233115326.1,
          239866880.3,
          265391022.7,
          338257487.5,
          312758824.5,
          253097937.91,
          267235078.66,
          296978830.46,
          309155832.58,
          303425629.23,
          319947622.99,
          364620052.22,
          553995355.02,
          434465436.46,
          400943736.85,
          420280242.12,
          410610981.88,
          414555691.04,
          407220316.6,
          438382657.56,
          471891376.4,
          697234869.65,
          517094229.55,
          301805294.58,
          311541016.01,
          307485045.96,
          333689604.73,
          351572006.88,
          366407811.12,
          375770394.54,
          510327392.31,
          452514283.04,
          1658840666.82,
          1674939603.09,
          1657939988.06,
          1718544163.82,
          1790290126.07,
          1889157110.43,
          1900368797.54,
          2647196263.54,
          2326241465.07,
          174087791.34,
          186415626.23,
          190977047.18,
          194544177.73,
          201939866.01,
          218562922.11,
          227384589.29,
          337069397.82,
          285832542.69,
          164696707.99,
          173915288.36,
          181948081.8,
          185882129.14,
          190680812.6,
          189645101.04,
          205331624.93,
          336549602.1,
          241225841.08,
          342851637.93,
          353977050.37,
          357148899.02,
          388952636.21,
          410173716.45,
          410805540.78,
          447222369.54,
          540354161.84,
          545720282.28,
          194470103.47,
          189634905.56,
          192764395.72,
          208882120.71,
          218267536.74,
          232234991.54,
          227946551.25,
          320676396.06,
          284045342.29,
          703527971,
          717003467.17,
          733193554.41,
          792199747.86,
          800658730.0300001,
          819736634.45,
          815500708.8299999,
          1161810395.91,
          975536343.8399999,
          164802466.16,
          174857185.87,
          188677491.59,
          186604620.01,
          195934078.94,
          206820114.49,
          216335315.92,
          301951412.54,
          246806470.4,
          1063177083.89,
          1116764284.09,
          1224621412.72,
          1333212214.36,
          1453914663.21,
          1493484390.7,
          1406028330.28,
          1868090404.45,
          1662024377.76,
          765976172.45,
          814738275.85,
          790282302.26,
          853543221.38,
          918095799.5,
          976876703.75,
          1032894622.91,
          1414089345.86,
          1285136616.87,
          193227603.04,
          210853738.03,
          212854443.29,
          218447439.6,
          240919860.5,
          266652744.11,
          283182041.93,
          365540119.42,
          323567694.09,
          79095836.74,
          86163443.56,
          91955338.88,
          95261076.71000001,
          102091843.39,
          109113101.49,
          110011617.1,
          154245547,
          124764936.01,
          19757952.27,
          24556486.66,
          29133807.87,
          31338348.9,
          33851454.13,
          34320141.86,
          36868427.83000001,
          43779114.13,
          43564927.37,
          1025980732.3,
          1076735540.96,
          1046635638.74,
          1053347905.52,
          1074036199.49,
          1131618227.23,
          1186666108.78,
          1567348049.46,
          1298261973.32,
          626008038.37,
          649716373.14,
          663853492.72,
          676676323.2900001,
          711391945.08,
          759243377.0799999,
          758021988.81,
          1086773153.73,
          939515058.72,
          83949080.41,
          96666330.17,
          102263264.46,
          99807105.64999999,
          107312506.79,
          117487663.62,
          120241590.98,
          175749163.67,
          154389988.81,
          3268008800,
          3285221793.04,
          3305056173.66,
          3361179945.29,
          3442007311.9,
          3567637040.48,
          3806208858.01,
          5067663861.29,
          4191063069.85,
          88436272.97,
          78227511.7,
          78034121.8,
          72772161.78,
          62982094.00000001,
          82314133.11,
          92885843.75999999,
          119224446.41,
          99156021.03
         ],
         "yaxis": "y"
        }
       ],
       "layout": {
        "coloraxis": {
         "colorbar": {
          "title": {
           "text": "cluster"
          }
         },
         "colorscale": [
          [
           0,
           "#0d0887"
          ],
          [
           0.1111111111111111,
           "#46039f"
          ],
          [
           0.2222222222222222,
           "#7201a8"
          ],
          [
           0.3333333333333333,
           "#9c179e"
          ],
          [
           0.4444444444444444,
           "#bd3786"
          ],
          [
           0.5555555555555556,
           "#d8576b"
          ],
          [
           0.6666666666666666,
           "#ed7953"
          ],
          [
           0.7777777777777778,
           "#fb9f3a"
          ],
          [
           0.8888888888888888,
           "#fdca26"
          ],
          [
           1,
           "#f0f921"
          ]
         ]
        },
        "legend": {
         "title": {
          "text": "Cluster"
         },
         "tracegroupgap": 0,
         "traceorder": "reversed"
        },
        "margin": {
         "t": 60
        },
        "showlegend": true,
        "template": {
         "data": {
          "bar": [
           {
            "error_x": {
             "color": "#f2f5fa"
            },
            "error_y": {
             "color": "#f2f5fa"
            },
            "marker": {
             "line": {
              "color": "rgb(17,17,17)",
              "width": 0.5
             },
             "pattern": {
              "fillmode": "overlay",
              "size": 10,
              "solidity": 0.2
             }
            },
            "type": "bar"
           }
          ],
          "barpolar": [
           {
            "marker": {
             "line": {
              "color": "rgb(17,17,17)",
              "width": 0.5
             },
             "pattern": {
              "fillmode": "overlay",
              "size": 10,
              "solidity": 0.2
             }
            },
            "type": "barpolar"
           }
          ],
          "carpet": [
           {
            "aaxis": {
             "endlinecolor": "#A2B1C6",
             "gridcolor": "#506784",
             "linecolor": "#506784",
             "minorgridcolor": "#506784",
             "startlinecolor": "#A2B1C6"
            },
            "baxis": {
             "endlinecolor": "#A2B1C6",
             "gridcolor": "#506784",
             "linecolor": "#506784",
             "minorgridcolor": "#506784",
             "startlinecolor": "#A2B1C6"
            },
            "type": "carpet"
           }
          ],
          "choropleth": [
           {
            "colorbar": {
             "outlinewidth": 0,
             "ticks": ""
            },
            "type": "choropleth"
           }
          ],
          "contour": [
           {
            "colorbar": {
             "outlinewidth": 0,
             "ticks": ""
            },
            "colorscale": [
             [
              0,
              "#0d0887"
             ],
             [
              0.1111111111111111,
              "#46039f"
             ],
             [
              0.2222222222222222,
              "#7201a8"
             ],
             [
              0.3333333333333333,
              "#9c179e"
             ],
             [
              0.4444444444444444,
              "#bd3786"
             ],
             [
              0.5555555555555556,
              "#d8576b"
             ],
             [
              0.6666666666666666,
              "#ed7953"
             ],
             [
              0.7777777777777778,
              "#fb9f3a"
             ],
             [
              0.8888888888888888,
              "#fdca26"
             ],
             [
              1,
              "#f0f921"
             ]
            ],
            "type": "contour"
           }
          ],
          "contourcarpet": [
           {
            "colorbar": {
             "outlinewidth": 0,
             "ticks": ""
            },
            "type": "contourcarpet"
           }
          ],
          "heatmap": [
           {
            "colorbar": {
             "outlinewidth": 0,
             "ticks": ""
            },
            "colorscale": [
             [
              0,
              "#0d0887"
             ],
             [
              0.1111111111111111,
              "#46039f"
             ],
             [
              0.2222222222222222,
              "#7201a8"
             ],
             [
              0.3333333333333333,
              "#9c179e"
             ],
             [
              0.4444444444444444,
              "#bd3786"
             ],
             [
              0.5555555555555556,
              "#d8576b"
             ],
             [
              0.6666666666666666,
              "#ed7953"
             ],
             [
              0.7777777777777778,
              "#fb9f3a"
             ],
             [
              0.8888888888888888,
              "#fdca26"
             ],
             [
              1,
              "#f0f921"
             ]
            ],
            "type": "heatmap"
           }
          ],
          "heatmapgl": [
           {
            "colorbar": {
             "outlinewidth": 0,
             "ticks": ""
            },
            "colorscale": [
             [
              0,
              "#0d0887"
             ],
             [
              0.1111111111111111,
              "#46039f"
             ],
             [
              0.2222222222222222,
              "#7201a8"
             ],
             [
              0.3333333333333333,
              "#9c179e"
             ],
             [
              0.4444444444444444,
              "#bd3786"
             ],
             [
              0.5555555555555556,
              "#d8576b"
             ],
             [
              0.6666666666666666,
              "#ed7953"
             ],
             [
              0.7777777777777778,
              "#fb9f3a"
             ],
             [
              0.8888888888888888,
              "#fdca26"
             ],
             [
              1,
              "#f0f921"
             ]
            ],
            "type": "heatmapgl"
           }
          ],
          "histogram": [
           {
            "marker": {
             "pattern": {
              "fillmode": "overlay",
              "size": 10,
              "solidity": 0.2
             }
            },
            "type": "histogram"
           }
          ],
          "histogram2d": [
           {
            "colorbar": {
             "outlinewidth": 0,
             "ticks": ""
            },
            "colorscale": [
             [
              0,
              "#0d0887"
             ],
             [
              0.1111111111111111,
              "#46039f"
             ],
             [
              0.2222222222222222,
              "#7201a8"
             ],
             [
              0.3333333333333333,
              "#9c179e"
             ],
             [
              0.4444444444444444,
              "#bd3786"
             ],
             [
              0.5555555555555556,
              "#d8576b"
             ],
             [
              0.6666666666666666,
              "#ed7953"
             ],
             [
              0.7777777777777778,
              "#fb9f3a"
             ],
             [
              0.8888888888888888,
              "#fdca26"
             ],
             [
              1,
              "#f0f921"
             ]
            ],
            "type": "histogram2d"
           }
          ],
          "histogram2dcontour": [
           {
            "colorbar": {
             "outlinewidth": 0,
             "ticks": ""
            },
            "colorscale": [
             [
              0,
              "#0d0887"
             ],
             [
              0.1111111111111111,
              "#46039f"
             ],
             [
              0.2222222222222222,
              "#7201a8"
             ],
             [
              0.3333333333333333,
              "#9c179e"
             ],
             [
              0.4444444444444444,
              "#bd3786"
             ],
             [
              0.5555555555555556,
              "#d8576b"
             ],
             [
              0.6666666666666666,
              "#ed7953"
             ],
             [
              0.7777777777777778,
              "#fb9f3a"
             ],
             [
              0.8888888888888888,
              "#fdca26"
             ],
             [
              1,
              "#f0f921"
             ]
            ],
            "type": "histogram2dcontour"
           }
          ],
          "mesh3d": [
           {
            "colorbar": {
             "outlinewidth": 0,
             "ticks": ""
            },
            "type": "mesh3d"
           }
          ],
          "parcoords": [
           {
            "line": {
             "colorbar": {
              "outlinewidth": 0,
              "ticks": ""
             }
            },
            "type": "parcoords"
           }
          ],
          "pie": [
           {
            "automargin": true,
            "type": "pie"
           }
          ],
          "scatter": [
           {
            "marker": {
             "line": {
              "color": "#283442"
             }
            },
            "type": "scatter"
           }
          ],
          "scatter3d": [
           {
            "line": {
             "colorbar": {
              "outlinewidth": 0,
              "ticks": ""
             }
            },
            "marker": {
             "colorbar": {
              "outlinewidth": 0,
              "ticks": ""
             }
            },
            "type": "scatter3d"
           }
          ],
          "scattercarpet": [
           {
            "marker": {
             "colorbar": {
              "outlinewidth": 0,
              "ticks": ""
             }
            },
            "type": "scattercarpet"
           }
          ],
          "scattergeo": [
           {
            "marker": {
             "colorbar": {
              "outlinewidth": 0,
              "ticks": ""
             }
            },
            "type": "scattergeo"
           }
          ],
          "scattergl": [
           {
            "marker": {
             "line": {
              "color": "#283442"
             }
            },
            "type": "scattergl"
           }
          ],
          "scattermapbox": [
           {
            "marker": {
             "colorbar": {
              "outlinewidth": 0,
              "ticks": ""
             }
            },
            "type": "scattermapbox"
           }
          ],
          "scatterpolar": [
           {
            "marker": {
             "colorbar": {
              "outlinewidth": 0,
              "ticks": ""
             }
            },
            "type": "scatterpolar"
           }
          ],
          "scatterpolargl": [
           {
            "marker": {
             "colorbar": {
              "outlinewidth": 0,
              "ticks": ""
             }
            },
            "type": "scatterpolargl"
           }
          ],
          "scatterternary": [
           {
            "marker": {
             "colorbar": {
              "outlinewidth": 0,
              "ticks": ""
             }
            },
            "type": "scatterternary"
           }
          ],
          "surface": [
           {
            "colorbar": {
             "outlinewidth": 0,
             "ticks": ""
            },
            "colorscale": [
             [
              0,
              "#0d0887"
             ],
             [
              0.1111111111111111,
              "#46039f"
             ],
             [
              0.2222222222222222,
              "#7201a8"
             ],
             [
              0.3333333333333333,
              "#9c179e"
             ],
             [
              0.4444444444444444,
              "#bd3786"
             ],
             [
              0.5555555555555556,
              "#d8576b"
             ],
             [
              0.6666666666666666,
              "#ed7953"
             ],
             [
              0.7777777777777778,
              "#fb9f3a"
             ],
             [
              0.8888888888888888,
              "#fdca26"
             ],
             [
              1,
              "#f0f921"
             ]
            ],
            "type": "surface"
           }
          ],
          "table": [
           {
            "cells": {
             "fill": {
              "color": "#506784"
             },
             "line": {
              "color": "rgb(17,17,17)"
             }
            },
            "header": {
             "fill": {
              "color": "#2a3f5f"
             },
             "line": {
              "color": "rgb(17,17,17)"
             }
            },
            "type": "table"
           }
          ]
         },
         "layout": {
          "annotationdefaults": {
           "arrowcolor": "#f2f5fa",
           "arrowhead": 0,
           "arrowwidth": 1
          },
          "autotypenumbers": "strict",
          "coloraxis": {
           "colorbar": {
            "outlinewidth": 0,
            "ticks": ""
           }
          },
          "colorscale": {
           "diverging": [
            [
             0,
             "#8e0152"
            ],
            [
             0.1,
             "#c51b7d"
            ],
            [
             0.2,
             "#de77ae"
            ],
            [
             0.3,
             "#f1b6da"
            ],
            [
             0.4,
             "#fde0ef"
            ],
            [
             0.5,
             "#f7f7f7"
            ],
            [
             0.6,
             "#e6f5d0"
            ],
            [
             0.7,
             "#b8e186"
            ],
            [
             0.8,
             "#7fbc41"
            ],
            [
             0.9,
             "#4d9221"
            ],
            [
             1,
             "#276419"
            ]
           ],
           "sequential": [
            [
             0,
             "#0d0887"
            ],
            [
             0.1111111111111111,
             "#46039f"
            ],
            [
             0.2222222222222222,
             "#7201a8"
            ],
            [
             0.3333333333333333,
             "#9c179e"
            ],
            [
             0.4444444444444444,
             "#bd3786"
            ],
            [
             0.5555555555555556,
             "#d8576b"
            ],
            [
             0.6666666666666666,
             "#ed7953"
            ],
            [
             0.7777777777777778,
             "#fb9f3a"
            ],
            [
             0.8888888888888888,
             "#fdca26"
            ],
            [
             1,
             "#f0f921"
            ]
           ],
           "sequentialminus": [
            [
             0,
             "#0d0887"
            ],
            [
             0.1111111111111111,
             "#46039f"
            ],
            [
             0.2222222222222222,
             "#7201a8"
            ],
            [
             0.3333333333333333,
             "#9c179e"
            ],
            [
             0.4444444444444444,
             "#bd3786"
            ],
            [
             0.5555555555555556,
             "#d8576b"
            ],
            [
             0.6666666666666666,
             "#ed7953"
            ],
            [
             0.7777777777777778,
             "#fb9f3a"
            ],
            [
             0.8888888888888888,
             "#fdca26"
            ],
            [
             1,
             "#f0f921"
            ]
           ]
          },
          "colorway": [
           "#636efa",
           "#EF553B",
           "#00cc96",
           "#ab63fa",
           "#FFA15A",
           "#19d3f3",
           "#FF6692",
           "#B6E880",
           "#FF97FF",
           "#FECB52"
          ],
          "font": {
           "color": "#f2f5fa"
          },
          "geo": {
           "bgcolor": "rgb(17,17,17)",
           "lakecolor": "rgb(17,17,17)",
           "landcolor": "rgb(17,17,17)",
           "showlakes": true,
           "showland": true,
           "subunitcolor": "#506784"
          },
          "hoverlabel": {
           "align": "left"
          },
          "hovermode": "closest",
          "mapbox": {
           "style": "dark"
          },
          "paper_bgcolor": "rgb(17,17,17)",
          "plot_bgcolor": "rgb(17,17,17)",
          "polar": {
           "angularaxis": {
            "gridcolor": "#506784",
            "linecolor": "#506784",
            "ticks": ""
           },
           "bgcolor": "rgb(17,17,17)",
           "radialaxis": {
            "gridcolor": "#506784",
            "linecolor": "#506784",
            "ticks": ""
           }
          },
          "scene": {
           "xaxis": {
            "backgroundcolor": "rgb(17,17,17)",
            "gridcolor": "#506784",
            "gridwidth": 2,
            "linecolor": "#506784",
            "showbackground": true,
            "ticks": "",
            "zerolinecolor": "#C8D4E3"
           },
           "yaxis": {
            "backgroundcolor": "rgb(17,17,17)",
            "gridcolor": "#506784",
            "gridwidth": 2,
            "linecolor": "#506784",
            "showbackground": true,
            "ticks": "",
            "zerolinecolor": "#C8D4E3"
           },
           "zaxis": {
            "backgroundcolor": "rgb(17,17,17)",
            "gridcolor": "#506784",
            "gridwidth": 2,
            "linecolor": "#506784",
            "showbackground": true,
            "ticks": "",
            "zerolinecolor": "#C8D4E3"
           }
          },
          "shapedefaults": {
           "line": {
            "color": "#f2f5fa"
           }
          },
          "sliderdefaults": {
           "bgcolor": "#C8D4E3",
           "bordercolor": "rgb(17,17,17)",
           "borderwidth": 1,
           "tickwidth": 0
          },
          "ternary": {
           "aaxis": {
            "gridcolor": "#506784",
            "linecolor": "#506784",
            "ticks": ""
           },
           "baxis": {
            "gridcolor": "#506784",
            "linecolor": "#506784",
            "ticks": ""
           },
           "bgcolor": "rgb(17,17,17)",
           "caxis": {
            "gridcolor": "#506784",
            "linecolor": "#506784",
            "ticks": ""
           }
          },
          "title": {
           "x": 0.05
          },
          "updatemenudefaults": {
           "bgcolor": "#506784",
           "borderwidth": 0
          },
          "xaxis": {
           "automargin": true,
           "gridcolor": "#283442",
           "linecolor": "#506784",
           "ticks": "",
           "title": {
            "standoff": 15
           },
           "zerolinecolor": "#283442",
           "zerolinewidth": 2
          },
          "yaxis": {
           "automargin": true,
           "gridcolor": "#283442",
           "linecolor": "#506784",
           "ticks": "",
           "title": {
            "standoff": 15
           },
           "zerolinecolor": "#283442",
           "zerolinewidth": 2
          }
         }
        },
        "title": {
         "font": {
          "size": 24
         },
         "text": "Verificando Existência de Outliers",
         "x": 0.5
        },
        "xaxis": {
         "anchor": "y",
         "domain": [
          0,
          1
         ],
         "showgrid": false,
         "title": {
          "text": "Emendas Parlamentares"
         }
        },
        "yaxis": {
         "anchor": "x",
         "domain": [
          0,
          1
         ],
         "showgrid": false,
         "showticklabels": false,
         "title": {
          "text": "Gastos Hospitalares"
         }
        }
       }
      }
     },
     "metadata": {},
     "output_type": "display_data"
    }
   ],
   "source": [
    "from sklearn.preprocessing import MinMaxScaler\n",
    "from sklearn.cluster import DBSCAN\n",
    "\n",
    "# fazendo o mesmo gráfico anterior no plotly\n",
    "\n",
    "cluster_df = variaveis_uf_ano[['gastos','valor_emendas']].copy()\n",
    "\n",
    "# No need to normalize the data since Plotly Express handles that automatically\n",
    "\n",
    "# Perform DBSCAN clustering\n",
    "dbscan = DBSCAN(eps=0.1, min_samples=5)  # You can adjust eps and min_samples\n",
    "cluster_df['cluster'] = dbscan.fit_predict(cluster_df[['valor_emendas', 'gastos']])\n",
    "\n",
    "fig = px.scatter(cluster_df, x='valor_emendas', y='gastos', color='cluster', template='plotly_dark',\n",
    "                 labels={'valor_emendas': 'Emendas Parlamentares',\n",
    "                                  'gastos': 'Gastos Hospitalares'},\n",
    "                          hover_data=['valor_emendas', 'gastos'])\n",
    "\n",
    "fig.update_layout(title=dict(text='Verificando Existência de Outliers', font=dict(size=24)),\n",
    "        title_x=0.5)\n",
    "\n",
    "# Customize the color scale, if needed\n",
    "fig.update_traces(marker=dict(size=5))\n",
    "\n",
    "# Add legend labels\n",
    "fig.update_layout(legend_title='Legend', showlegend=True)\n",
    "fig.update_layout(legend=dict(title=dict(text='Cluster')))\n",
    "fig.update_layout(legend_traceorder='reversed')\n",
    "fig.update_xaxes(showgrid=False)\n",
    "fig.update_yaxes(showticklabels=False, showgrid=False)\n",
    "\n",
    "\n",
    "fig.show()\n",
    "\n"
   ]
  },
  {
   "cell_type": "code",
   "execution_count": 64,
   "id": "8b32e592",
   "metadata": {},
   "outputs": [
    {
     "data": {
      "text/html": [
       "<div>\n",
       "<style scoped>\n",
       "    .dataframe tbody tr th:only-of-type {\n",
       "        vertical-align: middle;\n",
       "    }\n",
       "\n",
       "    .dataframe tbody tr th {\n",
       "        vertical-align: top;\n",
       "    }\n",
       "\n",
       "    .dataframe thead th {\n",
       "        text-align: right;\n",
       "    }\n",
       "</style>\n",
       "<table border=\"1\" class=\"dataframe\">\n",
       "  <thead>\n",
       "    <tr style=\"text-align: right;\">\n",
       "      <th></th>\n",
       "      <th>uf</th>\n",
       "      <th>ano</th>\n",
       "      <th>gastos</th>\n",
       "      <th>gastos_percapita</th>\n",
       "      <th>mortalidade</th>\n",
       "      <th>valor_emendas</th>\n",
       "    </tr>\n",
       "  </thead>\n",
       "  <tbody>\n",
       "    <tr>\n",
       "      <th>0</th>\n",
       "      <td>AC</td>\n",
       "      <td>2014</td>\n",
       "      <td>3.603932e+07</td>\n",
       "      <td>337.690253</td>\n",
       "      <td>0.920833</td>\n",
       "      <td>1.261524e+08</td>\n",
       "    </tr>\n",
       "    <tr>\n",
       "      <th>1</th>\n",
       "      <td>AC</td>\n",
       "      <td>2015</td>\n",
       "      <td>3.726202e+07</td>\n",
       "      <td>305.003132</td>\n",
       "      <td>1.236364</td>\n",
       "      <td>2.648756e+07</td>\n",
       "    </tr>\n",
       "    <tr>\n",
       "      <th>2</th>\n",
       "      <td>AC</td>\n",
       "      <td>2016</td>\n",
       "      <td>4.048715e+07</td>\n",
       "      <td>301.639801</td>\n",
       "      <td>1.342000</td>\n",
       "      <td>4.542464e+08</td>\n",
       "    </tr>\n",
       "    <tr>\n",
       "      <th>3</th>\n",
       "      <td>AC</td>\n",
       "      <td>2017</td>\n",
       "      <td>3.724553e+07</td>\n",
       "      <td>274.220778</td>\n",
       "      <td>1.467500</td>\n",
       "      <td>2.436925e+08</td>\n",
       "    </tr>\n",
       "    <tr>\n",
       "      <th>4</th>\n",
       "      <td>AC</td>\n",
       "      <td>2018</td>\n",
       "      <td>3.443257e+07</td>\n",
       "      <td>263.785812</td>\n",
       "      <td>1.718000</td>\n",
       "      <td>1.976735e+08</td>\n",
       "    </tr>\n",
       "    <tr>\n",
       "      <th>...</th>\n",
       "      <td>...</td>\n",
       "      <td>...</td>\n",
       "      <td>...</td>\n",
       "      <td>...</td>\n",
       "      <td>...</td>\n",
       "      <td>...</td>\n",
       "    </tr>\n",
       "    <tr>\n",
       "      <th>238</th>\n",
       "      <td>TO</td>\n",
       "      <td>2018</td>\n",
       "      <td>6.298209e+07</td>\n",
       "      <td>894.183551</td>\n",
       "      <td>1.939130</td>\n",
       "      <td>1.021493e+09</td>\n",
       "    </tr>\n",
       "    <tr>\n",
       "      <th>239</th>\n",
       "      <td>TO</td>\n",
       "      <td>2019</td>\n",
       "      <td>8.231413e+07</td>\n",
       "      <td>1001.786091</td>\n",
       "      <td>2.390476</td>\n",
       "      <td>5.708286e+09</td>\n",
       "    </tr>\n",
       "    <tr>\n",
       "      <th>240</th>\n",
       "      <td>TO</td>\n",
       "      <td>2020</td>\n",
       "      <td>9.288584e+07</td>\n",
       "      <td>1042.532604</td>\n",
       "      <td>2.676364</td>\n",
       "      <td>1.037564e+10</td>\n",
       "    </tr>\n",
       "    <tr>\n",
       "      <th>241</th>\n",
       "      <td>TO</td>\n",
       "      <td>2021</td>\n",
       "      <td>1.192244e+08</td>\n",
       "      <td>1455.791855</td>\n",
       "      <td>3.041538</td>\n",
       "      <td>4.138913e+09</td>\n",
       "    </tr>\n",
       "    <tr>\n",
       "      <th>242</th>\n",
       "      <td>TO</td>\n",
       "      <td>2022</td>\n",
       "      <td>9.915602e+07</td>\n",
       "      <td>1372.754633</td>\n",
       "      <td>2.200870</td>\n",
       "      <td>3.053305e+09</td>\n",
       "    </tr>\n",
       "  </tbody>\n",
       "</table>\n",
       "<p>243 rows × 6 columns</p>\n",
       "</div>"
      ],
      "text/plain": [
       "     uf   ano        gastos  gastos_percapita  mortalidade  valor_emendas\n",
       "0    AC  2014  3.603932e+07        337.690253     0.920833   1.261524e+08\n",
       "1    AC  2015  3.726202e+07        305.003132     1.236364   2.648756e+07\n",
       "2    AC  2016  4.048715e+07        301.639801     1.342000   4.542464e+08\n",
       "3    AC  2017  3.724553e+07        274.220778     1.467500   2.436925e+08\n",
       "4    AC  2018  3.443257e+07        263.785812     1.718000   1.976735e+08\n",
       "..   ..   ...           ...               ...          ...            ...\n",
       "238  TO  2018  6.298209e+07        894.183551     1.939130   1.021493e+09\n",
       "239  TO  2019  8.231413e+07       1001.786091     2.390476   5.708286e+09\n",
       "240  TO  2020  9.288584e+07       1042.532604     2.676364   1.037564e+10\n",
       "241  TO  2021  1.192244e+08       1455.791855     3.041538   4.138913e+09\n",
       "242  TO  2022  9.915602e+07       1372.754633     2.200870   3.053305e+09\n",
       "\n",
       "[243 rows x 6 columns]"
      ]
     },
     "execution_count": 64,
     "metadata": {},
     "output_type": "execute_result"
    }
   ],
   "source": [
    "variaveis_uf_ano"
   ]
  },
  {
   "cell_type": "code",
   "execution_count": 65,
   "id": "5d6d8f7c",
   "metadata": {},
   "outputs": [
    {
     "data": {
      "application/vnd.plotly.v1+json": {
       "config": {
        "plotlyServerURL": "https://plot.ly"
       },
       "data": [
        {
         "hovertemplate": "Emendas Parlamentares=%{x}<br>Gastos Hospitalares per capita=%{y}<br>cluster=%{marker.color}<extra></extra>",
         "legendgroup": "",
         "marker": {
          "color": [
           -1,
           -1,
           -1,
           -1,
           -1,
           -1,
           -1,
           -1,
           -1,
           -1,
           -1,
           -1,
           -1,
           -1,
           -1,
           -1,
           -1,
           -1,
           -1,
           -1,
           -1,
           -1,
           -1,
           -1,
           -1,
           -1,
           -1,
           -1,
           -1,
           -1,
           -1,
           -1,
           -1,
           -1,
           -1,
           -1,
           -1,
           -1,
           -1,
           -1,
           -1,
           -1,
           -1,
           -1,
           -1,
           -1,
           -1,
           -1,
           -1,
           -1,
           -1,
           -1,
           -1,
           -1,
           -1,
           -1,
           -1,
           -1,
           -1,
           -1,
           -1,
           -1,
           -1,
           -1,
           -1,
           -1,
           -1,
           -1,
           -1,
           -1,
           -1,
           -1,
           -1,
           -1,
           -1,
           -1,
           -1,
           -1,
           -1,
           -1,
           -1,
           -1,
           -1,
           -1,
           -1,
           -1,
           -1,
           -1,
           -1,
           -1,
           -1,
           -1,
           -1,
           -1,
           -1,
           -1,
           -1,
           -1,
           -1,
           -1,
           -1,
           -1,
           -1,
           -1,
           -1,
           -1,
           -1,
           -1,
           -1,
           -1,
           -1,
           -1,
           -1,
           -1,
           -1,
           -1,
           -1,
           -1,
           -1,
           -1,
           -1,
           -1,
           -1,
           -1,
           -1,
           -1,
           -1,
           -1,
           -1,
           -1,
           -1,
           -1,
           -1,
           -1,
           -1,
           -1,
           -1,
           -1,
           -1,
           -1,
           -1,
           -1,
           -1,
           -1,
           -1,
           -1,
           -1,
           -1,
           -1,
           -1,
           -1,
           -1,
           -1,
           -1,
           -1,
           -1,
           -1,
           -1,
           -1,
           -1,
           -1,
           -1,
           -1,
           -1,
           -1,
           -1,
           -1,
           -1,
           -1,
           -1,
           -1,
           -1,
           -1,
           -1,
           -1,
           -1,
           -1,
           -1,
           -1,
           -1,
           -1,
           -1,
           -1,
           -1,
           -1,
           -1,
           -1,
           -1,
           -1,
           -1,
           -1,
           -1,
           -1,
           -1,
           -1,
           -1,
           -1,
           -1,
           -1,
           -1,
           -1,
           -1,
           -1,
           -1,
           -1,
           -1,
           -1,
           -1,
           -1,
           -1,
           -1,
           -1,
           -1,
           -1,
           -1,
           -1,
           -1,
           -1,
           -1,
           -1,
           -1,
           -1,
           -1,
           -1,
           -1,
           -1,
           -1,
           -1,
           -1,
           -1,
           -1,
           -1,
           -1,
           -1,
           -1,
           -1,
           -1,
           -1,
           -1,
           -1,
           -1,
           -1,
           -1
          ],
          "coloraxis": "coloraxis",
          "size": 5,
          "symbol": "circle"
         },
         "mode": "markers",
         "name": "",
         "orientation": "v",
         "showlegend": false,
         "type": "scatter",
         "x": [
          126152400,
          26487560,
          454246408,
          243692482,
          197673542,
          883998544,
          1006366812,
          227469616,
          531294390,
          1429939234.2,
          1550993699.16,
          8121631598.400001,
          5234949978,
          6471522819.3,
          8741645838.36,
          4110550122,
          8154894594,
          9566457498,
          511062498.2399999,
          49600000,
          5566174372,
          152023938,
          722094399.9399999,
          1238173706.3,
          1169514432,
          1492622906,
          1692759402,
          315789226.4,
          63995211.2,
          216010720,
          27196320,
          189608928,
          525101904,
          966961072,
          855566608,
          1420152032,
          40074282102.81,
          23546446954.05,
          108746538939,
          51803465061,
          20603000892,
          35504703558,
          41670174075,
          39666081666,
          46605320703,
          13499847114.88,
          4077093995.36,
          23700892064,
          4882601368,
          2208461104,
          42557833984,
          17954616592,
          38069906176,
          32452019064.72,
          12746000,
          4307335,
          160451289,
          87425311,
          11290761,
          39523582.16,
          56231306.73,
          79396458,
          82527769,
          2561194506,
          1308320772.72,
          6405641211.84,
          10620567984,
          3249259572,
          9863758320,
          8019668475,
          4897829040,
          8765753256,
          13911081392.1,
          8311517868,
          30576018960,
          15315178704,
          11394550752,
          29948441964,
          26626704456,
          31127251332,
          28451573292,
          2952935043.03,
          744157232,
          23792869303,
          5239569811,
          645341942,
          16435515117,
          12944274161,
          41970468666,
          31666128186,
          95831334821.22,
          60462492306.56,
          318947748056,
          98507331670,
          53281472125,
          226229064332.04,
          254999156936,
          249681782772.3,
          265548194288,
          2713800904.22,
          1079548686.75,
          5152346583,
          3365231651,
          273577869,
          6005639961,
          4826570175,
          5282047440,
          6995683919,
          4097907949.95,
          2765784591.96,
          9432470232,
          3676368435,
          2887981176,
          25892695881,
          13490776083,
          16097651058,
          18833215605,
          3603201233.76,
          1323401470.56,
          25480993968,
          6186053952,
          3209226264,
          17741893680,
          11451442608,
          24884782992,
          28042188912,
          3776166735.76,
          2151775292.88,
          14340359312,
          5745145209,
          1882788554,
          22483771178,
          18529619249,
          24047357086,
          23172404767,
          6964278466.95,
          6155495862.849999,
          36931315172.1,
          10458128347.5,
          8289527545,
          16251705360,
          21138708465,
          20821387400,
          24929233775,
          1843338797.44,
          1464699463.36,
          13022139424,
          1954293376,
          926848832,
          9723774592,
          10468156384,
          16537544576,
          9687038816,
          26300870235.99,
          12906280105.32,
          93454303974.78,
          17470707765,
          13224365738.22,
          44255381457,
          62520271989,
          44137786980,
          53175747450,
          6388733061.64,
          4337980298.84,
          30159486802.24,
          10617717048.64,
          5126255542.48,
          16131083234.08,
          23764264144.32,
          23816560491.84,
          24387276577.16,
          2326083030.3,
          697339548.64,
          8231989324.75,
          2892613513,
          1382594561.45,
          8357387746,
          7836657030,
          11953696173,
          17387083758,
          1654550629.16,
          800085518.44,
          3020536480,
          1598455716,
          791119316,
          3067155988,
          2750344844,
          2184947492,
          2130365328,
          140178554.4,
          346601962.2,
          511444575,
          368373960,
          85590090,
          934550805,
          653715615,
          149448345,
          308167890,
          33961942972.16,
          24447178686.98,
          224338590850.99,
          33741211714,
          22321761994,
          81743634498.96,
          95250789048.94,
          86148021323,
          102210396834,
          16369751443.7,
          7806607136.8,
          36348540345,
          7034694195,
          3552869375,
          34007187295,
          35655724290,
          35746126450,
          29724191740,
          710712300,
          376859167.5,
          2353404474,
          136252500,
          398639925,
          4301545125,
          4828109025,
          5337972150,
          2974606725,
          114348429885.9,
          65512767370.65,
          472776034177.5,
          131045122140,
          117083559210,
          321366770475,
          290738314020,
          390351485145,
          432157483290,
          2394930410.02,
          1134613543.04,
          5905480052,
          1202287450,
          1021493347,
          5708285895,
          10375636930,
          4138912928,
          3053305275
         ],
         "xaxis": "x",
         "y": [
          337.690252636904,
          305.0031317613655,
          301.6398005812788,
          274.2207782128866,
          263.7858119889597,
          242.6364225275605,
          256.8782514612411,
          377.0187739546736,
          319.2597942671666,
          983.5409959329126,
          1000.924818772526,
          998.4217095108685,
          1031.55226535756,
          1067.855126266112,
          1095.302065914631,
          1061.614059798398,
          1514.588097378096,
          1247.07727020539,
          640.8898025588824,
          739.5037454066736,
          662.2805643751991,
          710.5877739318496,
          748.0119963144725,
          909.4630784288782,
          1062.709780804979,
          1471.05699504913,
          1285.23862320011,
          150.4829481743998,
          127.2596574526821,
          115.9179329214587,
          132.1677768484942,
          156.5792631823557,
          162.6456609995871,
          146.8321964820575,
          206.5439611524725,
          218.5190975588044,
          8635.935728358296,
          8916.523756636347,
          8504.379858284945,
          8298.900105138853,
          8179.112220164639,
          8238.197154597521,
          6804.319909330313,
          8961.730041740093,
          8946.818223951333,
          2604.072742107096,
          2543.925690475839,
          2456.819429379222,
          2656.163345234715,
          2860.608219387568,
          3109.843405451551,
          3184.119754663827,
          5176.533808709045,
          4194.791519981611,
          25.50972075540234,
          22.61403869715419,
          28.73622755528145,
          32.94440804950542,
          78.36591622760322,
          79.5507663995373,
          86.86680181555793,
          109.315436322946,
          106.9857498317865,
          2121.820591959412,
          2096.234594550504,
          2195.541181075399,
          2315.575060184691,
          2320.195971794692,
          2471.750834282944,
          2508.405014204583,
          3830.781824289027,
          3222.099252800296,
          3592.053948773385,
          3529.983604144909,
          3164.168721380129,
          3412.146569180253,
          3531.813049262931,
          3374.433671189666,
          3496.168407544664,
          5705.352602874816,
          4293.063284230289,
          4639.652356932163,
          4900.862092224195,
          4349.287772249409,
          4737.62044968465,
          5166.737798535906,
          4858.366884083101,
          4554.36870648203,
          5859.906424494956,
          5828.652651915619,
          16888.85841949412,
          15924.40891426863,
          15054.34838685829,
          15252.80285331482,
          15646.76644734992,
          16052.02601707516,
          15368.31478682839,
          23535.58278176244,
          21258.49585177585,
          1583.466944036448,
          1557.435664387286,
          1540.347549048235,
          1520.540868092864,
          1597.990287061913,
          1722.962239946424,
          1602.792849434376,
          2640.492631513656,
          2013.35450573957,
          2032.694323168438,
          2021.973231367101,
          2040.609184193741,
          2028.093554282425,
          2091.747169166374,
          2194.765401229839,
          2326.779930909328,
          4112.459334860078,
          2738.673583148719,
          3160.227959801975,
          2956.846322709158,
          2885.514715522447,
          3035.979679479041,
          3180.511169185435,
          3203.055563803029,
          3154.856461936664,
          3856.275513647086,
          3755.780121488213,
          1469.70528875868,
          1197.14443219125,
          1211.946900122578,
          1305.114291604086,
          1282.039699756245,
          1292.990325405593,
          1272.768417233318,
          1842.426467410012,
          1634.932530061805,
          2711.787706505661,
          2583.24628247833,
          2453.222450731836,
          2612.801086050473,
          2728.070195122154,
          2789.908177262084,
          2794.687390290702,
          4582.657852464022,
          3756.21828641334,
          2058.790430551066,
          1998.219000103304,
          2089.805732200927,
          2096.716587164572,
          2165.566835107882,
          2198.203243548275,
          2045.48452869667,
          2931.706028945028,
          2481.80345834007,
          12193.85743075285,
          12428.2525503386,
          13419.49886607603,
          14148.11442958524,
          14819.23855898532,
          15059.67576758186,
          12641.69526957186,
          16366.32322262894,
          14233.81890486624,
          3577.129444266383,
          3491.994798789378,
          3416.113471562369,
          3571.098856039236,
          3874.522495041124,
          4122.172923015006,
          4107.16755725153,
          6541.103077699597,
          5662.765233140984,
          1635.74002496198,
          1531.717501113682,
          1472.464950195896,
          1437.288534813687,
          1534.834675062797,
          1683.431032208314,
          1516.653926478203,
          2706.87616864821,
          2395.631934595836,
          898.1288590211105,
          813.6895760891558,
          825.4646308143382,
          921.0678668506794,
          967.6131542257253,
          988.597232115211,
          878.0544520733431,
          1419.14770878223,
          1283.828611015597,
          135.9787179165819,
          133.385648975102,
          158.5945695818749,
          171.843413378446,
          169.6749250434509,
          166.773027305078,
          165.6749100056135,
          162.8592168074439,
          191.1925150121851,
          12180.89906267884,
          12454.79447360792,
          11953.7958798308,
          12122.23751567997,
          12354.0389505573,
          12690.39763703699,
          12875.45459155543,
          18743.13130216928,
          15189.02403629154,
          9804.440072805559,
          10073.82129414694,
          10014.26625098014,
          10020.64457569979,
          10497.59703319719,
          10921.65423232439,
          9952.344219864075,
          13826.1452784032,
          12503.78129404661,
          454.6885552710728,
          470.7313653235748,
          451.0774949025364,
          426.9058036211674,
          450.8235583192143,
          464.2115071964936,
          485.0520396818291,
          769.7711102966676,
          649.0458005209323,
          15844.08356374957,
          15753.4228245888,
          15502.74407919235,
          15764.76155960957,
          16187.8438390919,
          16442.65064694063,
          16550.65806810732,
          24941.5464153886,
          19988.90722289886,
          1431.860629610422,
          1152.660636575939,
          984.8743250919437,
          964.1171817382277,
          894.1835511513272,
          1001.786090561589,
          1042.532604108364,
          1455.791854948776,
          1372.754633412195
         ],
         "yaxis": "y"
        }
       ],
       "layout": {
        "coloraxis": {
         "colorbar": {
          "title": {
           "text": "cluster"
          }
         },
         "colorscale": [
          [
           0,
           "#0d0887"
          ],
          [
           0.1111111111111111,
           "#46039f"
          ],
          [
           0.2222222222222222,
           "#7201a8"
          ],
          [
           0.3333333333333333,
           "#9c179e"
          ],
          [
           0.4444444444444444,
           "#bd3786"
          ],
          [
           0.5555555555555556,
           "#d8576b"
          ],
          [
           0.6666666666666666,
           "#ed7953"
          ],
          [
           0.7777777777777778,
           "#fb9f3a"
          ],
          [
           0.8888888888888888,
           "#fdca26"
          ],
          [
           1,
           "#f0f921"
          ]
         ]
        },
        "legend": {
         "title": {
          "text": "Cluster"
         },
         "tracegroupgap": 0,
         "traceorder": "reversed"
        },
        "margin": {
         "t": 60
        },
        "showlegend": true,
        "template": {
         "data": {
          "bar": [
           {
            "error_x": {
             "color": "#f2f5fa"
            },
            "error_y": {
             "color": "#f2f5fa"
            },
            "marker": {
             "line": {
              "color": "rgb(17,17,17)",
              "width": 0.5
             },
             "pattern": {
              "fillmode": "overlay",
              "size": 10,
              "solidity": 0.2
             }
            },
            "type": "bar"
           }
          ],
          "barpolar": [
           {
            "marker": {
             "line": {
              "color": "rgb(17,17,17)",
              "width": 0.5
             },
             "pattern": {
              "fillmode": "overlay",
              "size": 10,
              "solidity": 0.2
             }
            },
            "type": "barpolar"
           }
          ],
          "carpet": [
           {
            "aaxis": {
             "endlinecolor": "#A2B1C6",
             "gridcolor": "#506784",
             "linecolor": "#506784",
             "minorgridcolor": "#506784",
             "startlinecolor": "#A2B1C6"
            },
            "baxis": {
             "endlinecolor": "#A2B1C6",
             "gridcolor": "#506784",
             "linecolor": "#506784",
             "minorgridcolor": "#506784",
             "startlinecolor": "#A2B1C6"
            },
            "type": "carpet"
           }
          ],
          "choropleth": [
           {
            "colorbar": {
             "outlinewidth": 0,
             "ticks": ""
            },
            "type": "choropleth"
           }
          ],
          "contour": [
           {
            "colorbar": {
             "outlinewidth": 0,
             "ticks": ""
            },
            "colorscale": [
             [
              0,
              "#0d0887"
             ],
             [
              0.1111111111111111,
              "#46039f"
             ],
             [
              0.2222222222222222,
              "#7201a8"
             ],
             [
              0.3333333333333333,
              "#9c179e"
             ],
             [
              0.4444444444444444,
              "#bd3786"
             ],
             [
              0.5555555555555556,
              "#d8576b"
             ],
             [
              0.6666666666666666,
              "#ed7953"
             ],
             [
              0.7777777777777778,
              "#fb9f3a"
             ],
             [
              0.8888888888888888,
              "#fdca26"
             ],
             [
              1,
              "#f0f921"
             ]
            ],
            "type": "contour"
           }
          ],
          "contourcarpet": [
           {
            "colorbar": {
             "outlinewidth": 0,
             "ticks": ""
            },
            "type": "contourcarpet"
           }
          ],
          "heatmap": [
           {
            "colorbar": {
             "outlinewidth": 0,
             "ticks": ""
            },
            "colorscale": [
             [
              0,
              "#0d0887"
             ],
             [
              0.1111111111111111,
              "#46039f"
             ],
             [
              0.2222222222222222,
              "#7201a8"
             ],
             [
              0.3333333333333333,
              "#9c179e"
             ],
             [
              0.4444444444444444,
              "#bd3786"
             ],
             [
              0.5555555555555556,
              "#d8576b"
             ],
             [
              0.6666666666666666,
              "#ed7953"
             ],
             [
              0.7777777777777778,
              "#fb9f3a"
             ],
             [
              0.8888888888888888,
              "#fdca26"
             ],
             [
              1,
              "#f0f921"
             ]
            ],
            "type": "heatmap"
           }
          ],
          "heatmapgl": [
           {
            "colorbar": {
             "outlinewidth": 0,
             "ticks": ""
            },
            "colorscale": [
             [
              0,
              "#0d0887"
             ],
             [
              0.1111111111111111,
              "#46039f"
             ],
             [
              0.2222222222222222,
              "#7201a8"
             ],
             [
              0.3333333333333333,
              "#9c179e"
             ],
             [
              0.4444444444444444,
              "#bd3786"
             ],
             [
              0.5555555555555556,
              "#d8576b"
             ],
             [
              0.6666666666666666,
              "#ed7953"
             ],
             [
              0.7777777777777778,
              "#fb9f3a"
             ],
             [
              0.8888888888888888,
              "#fdca26"
             ],
             [
              1,
              "#f0f921"
             ]
            ],
            "type": "heatmapgl"
           }
          ],
          "histogram": [
           {
            "marker": {
             "pattern": {
              "fillmode": "overlay",
              "size": 10,
              "solidity": 0.2
             }
            },
            "type": "histogram"
           }
          ],
          "histogram2d": [
           {
            "colorbar": {
             "outlinewidth": 0,
             "ticks": ""
            },
            "colorscale": [
             [
              0,
              "#0d0887"
             ],
             [
              0.1111111111111111,
              "#46039f"
             ],
             [
              0.2222222222222222,
              "#7201a8"
             ],
             [
              0.3333333333333333,
              "#9c179e"
             ],
             [
              0.4444444444444444,
              "#bd3786"
             ],
             [
              0.5555555555555556,
              "#d8576b"
             ],
             [
              0.6666666666666666,
              "#ed7953"
             ],
             [
              0.7777777777777778,
              "#fb9f3a"
             ],
             [
              0.8888888888888888,
              "#fdca26"
             ],
             [
              1,
              "#f0f921"
             ]
            ],
            "type": "histogram2d"
           }
          ],
          "histogram2dcontour": [
           {
            "colorbar": {
             "outlinewidth": 0,
             "ticks": ""
            },
            "colorscale": [
             [
              0,
              "#0d0887"
             ],
             [
              0.1111111111111111,
              "#46039f"
             ],
             [
              0.2222222222222222,
              "#7201a8"
             ],
             [
              0.3333333333333333,
              "#9c179e"
             ],
             [
              0.4444444444444444,
              "#bd3786"
             ],
             [
              0.5555555555555556,
              "#d8576b"
             ],
             [
              0.6666666666666666,
              "#ed7953"
             ],
             [
              0.7777777777777778,
              "#fb9f3a"
             ],
             [
              0.8888888888888888,
              "#fdca26"
             ],
             [
              1,
              "#f0f921"
             ]
            ],
            "type": "histogram2dcontour"
           }
          ],
          "mesh3d": [
           {
            "colorbar": {
             "outlinewidth": 0,
             "ticks": ""
            },
            "type": "mesh3d"
           }
          ],
          "parcoords": [
           {
            "line": {
             "colorbar": {
              "outlinewidth": 0,
              "ticks": ""
             }
            },
            "type": "parcoords"
           }
          ],
          "pie": [
           {
            "automargin": true,
            "type": "pie"
           }
          ],
          "scatter": [
           {
            "marker": {
             "line": {
              "color": "#283442"
             }
            },
            "type": "scatter"
           }
          ],
          "scatter3d": [
           {
            "line": {
             "colorbar": {
              "outlinewidth": 0,
              "ticks": ""
             }
            },
            "marker": {
             "colorbar": {
              "outlinewidth": 0,
              "ticks": ""
             }
            },
            "type": "scatter3d"
           }
          ],
          "scattercarpet": [
           {
            "marker": {
             "colorbar": {
              "outlinewidth": 0,
              "ticks": ""
             }
            },
            "type": "scattercarpet"
           }
          ],
          "scattergeo": [
           {
            "marker": {
             "colorbar": {
              "outlinewidth": 0,
              "ticks": ""
             }
            },
            "type": "scattergeo"
           }
          ],
          "scattergl": [
           {
            "marker": {
             "line": {
              "color": "#283442"
             }
            },
            "type": "scattergl"
           }
          ],
          "scattermapbox": [
           {
            "marker": {
             "colorbar": {
              "outlinewidth": 0,
              "ticks": ""
             }
            },
            "type": "scattermapbox"
           }
          ],
          "scatterpolar": [
           {
            "marker": {
             "colorbar": {
              "outlinewidth": 0,
              "ticks": ""
             }
            },
            "type": "scatterpolar"
           }
          ],
          "scatterpolargl": [
           {
            "marker": {
             "colorbar": {
              "outlinewidth": 0,
              "ticks": ""
             }
            },
            "type": "scatterpolargl"
           }
          ],
          "scatterternary": [
           {
            "marker": {
             "colorbar": {
              "outlinewidth": 0,
              "ticks": ""
             }
            },
            "type": "scatterternary"
           }
          ],
          "surface": [
           {
            "colorbar": {
             "outlinewidth": 0,
             "ticks": ""
            },
            "colorscale": [
             [
              0,
              "#0d0887"
             ],
             [
              0.1111111111111111,
              "#46039f"
             ],
             [
              0.2222222222222222,
              "#7201a8"
             ],
             [
              0.3333333333333333,
              "#9c179e"
             ],
             [
              0.4444444444444444,
              "#bd3786"
             ],
             [
              0.5555555555555556,
              "#d8576b"
             ],
             [
              0.6666666666666666,
              "#ed7953"
             ],
             [
              0.7777777777777778,
              "#fb9f3a"
             ],
             [
              0.8888888888888888,
              "#fdca26"
             ],
             [
              1,
              "#f0f921"
             ]
            ],
            "type": "surface"
           }
          ],
          "table": [
           {
            "cells": {
             "fill": {
              "color": "#506784"
             },
             "line": {
              "color": "rgb(17,17,17)"
             }
            },
            "header": {
             "fill": {
              "color": "#2a3f5f"
             },
             "line": {
              "color": "rgb(17,17,17)"
             }
            },
            "type": "table"
           }
          ]
         },
         "layout": {
          "annotationdefaults": {
           "arrowcolor": "#f2f5fa",
           "arrowhead": 0,
           "arrowwidth": 1
          },
          "autotypenumbers": "strict",
          "coloraxis": {
           "colorbar": {
            "outlinewidth": 0,
            "ticks": ""
           }
          },
          "colorscale": {
           "diverging": [
            [
             0,
             "#8e0152"
            ],
            [
             0.1,
             "#c51b7d"
            ],
            [
             0.2,
             "#de77ae"
            ],
            [
             0.3,
             "#f1b6da"
            ],
            [
             0.4,
             "#fde0ef"
            ],
            [
             0.5,
             "#f7f7f7"
            ],
            [
             0.6,
             "#e6f5d0"
            ],
            [
             0.7,
             "#b8e186"
            ],
            [
             0.8,
             "#7fbc41"
            ],
            [
             0.9,
             "#4d9221"
            ],
            [
             1,
             "#276419"
            ]
           ],
           "sequential": [
            [
             0,
             "#0d0887"
            ],
            [
             0.1111111111111111,
             "#46039f"
            ],
            [
             0.2222222222222222,
             "#7201a8"
            ],
            [
             0.3333333333333333,
             "#9c179e"
            ],
            [
             0.4444444444444444,
             "#bd3786"
            ],
            [
             0.5555555555555556,
             "#d8576b"
            ],
            [
             0.6666666666666666,
             "#ed7953"
            ],
            [
             0.7777777777777778,
             "#fb9f3a"
            ],
            [
             0.8888888888888888,
             "#fdca26"
            ],
            [
             1,
             "#f0f921"
            ]
           ],
           "sequentialminus": [
            [
             0,
             "#0d0887"
            ],
            [
             0.1111111111111111,
             "#46039f"
            ],
            [
             0.2222222222222222,
             "#7201a8"
            ],
            [
             0.3333333333333333,
             "#9c179e"
            ],
            [
             0.4444444444444444,
             "#bd3786"
            ],
            [
             0.5555555555555556,
             "#d8576b"
            ],
            [
             0.6666666666666666,
             "#ed7953"
            ],
            [
             0.7777777777777778,
             "#fb9f3a"
            ],
            [
             0.8888888888888888,
             "#fdca26"
            ],
            [
             1,
             "#f0f921"
            ]
           ]
          },
          "colorway": [
           "#636efa",
           "#EF553B",
           "#00cc96",
           "#ab63fa",
           "#FFA15A",
           "#19d3f3",
           "#FF6692",
           "#B6E880",
           "#FF97FF",
           "#FECB52"
          ],
          "font": {
           "color": "#f2f5fa"
          },
          "geo": {
           "bgcolor": "rgb(17,17,17)",
           "lakecolor": "rgb(17,17,17)",
           "landcolor": "rgb(17,17,17)",
           "showlakes": true,
           "showland": true,
           "subunitcolor": "#506784"
          },
          "hoverlabel": {
           "align": "left"
          },
          "hovermode": "closest",
          "mapbox": {
           "style": "dark"
          },
          "paper_bgcolor": "rgb(17,17,17)",
          "plot_bgcolor": "rgb(17,17,17)",
          "polar": {
           "angularaxis": {
            "gridcolor": "#506784",
            "linecolor": "#506784",
            "ticks": ""
           },
           "bgcolor": "rgb(17,17,17)",
           "radialaxis": {
            "gridcolor": "#506784",
            "linecolor": "#506784",
            "ticks": ""
           }
          },
          "scene": {
           "xaxis": {
            "backgroundcolor": "rgb(17,17,17)",
            "gridcolor": "#506784",
            "gridwidth": 2,
            "linecolor": "#506784",
            "showbackground": true,
            "ticks": "",
            "zerolinecolor": "#C8D4E3"
           },
           "yaxis": {
            "backgroundcolor": "rgb(17,17,17)",
            "gridcolor": "#506784",
            "gridwidth": 2,
            "linecolor": "#506784",
            "showbackground": true,
            "ticks": "",
            "zerolinecolor": "#C8D4E3"
           },
           "zaxis": {
            "backgroundcolor": "rgb(17,17,17)",
            "gridcolor": "#506784",
            "gridwidth": 2,
            "linecolor": "#506784",
            "showbackground": true,
            "ticks": "",
            "zerolinecolor": "#C8D4E3"
           }
          },
          "shapedefaults": {
           "line": {
            "color": "#f2f5fa"
           }
          },
          "sliderdefaults": {
           "bgcolor": "#C8D4E3",
           "bordercolor": "rgb(17,17,17)",
           "borderwidth": 1,
           "tickwidth": 0
          },
          "ternary": {
           "aaxis": {
            "gridcolor": "#506784",
            "linecolor": "#506784",
            "ticks": ""
           },
           "baxis": {
            "gridcolor": "#506784",
            "linecolor": "#506784",
            "ticks": ""
           },
           "bgcolor": "rgb(17,17,17)",
           "caxis": {
            "gridcolor": "#506784",
            "linecolor": "#506784",
            "ticks": ""
           }
          },
          "title": {
           "x": 0.05
          },
          "updatemenudefaults": {
           "bgcolor": "#506784",
           "borderwidth": 0
          },
          "xaxis": {
           "automargin": true,
           "gridcolor": "#283442",
           "linecolor": "#506784",
           "ticks": "",
           "title": {
            "standoff": 15
           },
           "zerolinecolor": "#283442",
           "zerolinewidth": 2
          },
          "yaxis": {
           "automargin": true,
           "gridcolor": "#283442",
           "linecolor": "#506784",
           "ticks": "",
           "title": {
            "standoff": 15
           },
           "zerolinecolor": "#283442",
           "zerolinewidth": 2
          }
         }
        },
        "title": {
         "font": {
          "size": 24
         },
         "text": "Verificando Existência de Outliers",
         "x": 0.5
        },
        "xaxis": {
         "anchor": "y",
         "domain": [
          0,
          1
         ],
         "showgrid": false,
         "title": {
          "text": "Emendas Parlamentares"
         }
        },
        "yaxis": {
         "anchor": "x",
         "domain": [
          0,
          1
         ],
         "showgrid": false,
         "showticklabels": false,
         "title": {
          "text": "Gastos Hospitalares per capita"
         }
        }
       }
      }
     },
     "metadata": {},
     "output_type": "display_data"
    }
   ],
   "source": [
    "from sklearn.preprocessing import MinMaxScaler\n",
    "from sklearn.cluster import DBSCAN\n",
    "\n",
    "\n",
    "clusterpc_df = variaveis_uf_ano[['gastos_percapita','valor_emendas']].copy()\n",
    "\n",
    "# No need to normalize the data since Plotly Express handles that automatically\n",
    "\n",
    "# Perform DBSCAN clustering\n",
    "dbscan = DBSCAN(eps=0.1, min_samples=5)  # You can adjust eps and min_samples\n",
    "clusterpc_df['cluster'] = dbscan.fit_predict(clusterpc_df[['gastos_percapita', 'valor_emendas']])\n",
    "\n",
    "fig = px.scatter(clusterpc_df, x='valor_emendas', y='gastos_percapita', color='cluster', template='plotly_dark',\n",
    "                 labels={'valor_emendas': 'Emendas Parlamentares',\n",
    "                                  'gastos_percapita': 'Gastos Hospitalares per capita'},\n",
    "                          hover_data=['valor_emendas', 'gastos_percapita'])\n",
    "\n",
    "fig.update_layout(title=dict(text='Verificando Existência de Outliers', font=dict(size=24)),\n",
    "        title_x=0.5)\n",
    "\n",
    "# Customize the color scale, if needed\n",
    "fig.update_traces(marker=dict(size=5))\n",
    "\n",
    "# Add legend labels\n",
    "fig.update_layout(legend_title='Legend', showlegend=True)\n",
    "fig.update_layout(legend=dict(title=dict(text='Cluster')))\n",
    "fig.update_layout(legend_traceorder='reversed')\n",
    "fig.update_xaxes(showgrid=False)\n",
    "fig.update_yaxes(showticklabels=False, showgrid=False)\n",
    "\n",
    "\n",
    "fig.show()"
   ]
  },
  {
   "cell_type": "code",
   "execution_count": 53,
   "id": "cdaeb5f8",
   "metadata": {},
   "outputs": [
    {
     "data": {
      "application/vnd.plotly.v1+json": {
       "config": {
        "plotlyServerURL": "https://plot.ly"
       },
       "data": [
        {
         "hovertemplate": "valor_emendas=%{x}<br>gastos=%{y}<br>uf=%{text}<br>cluster=%{marker.color}<extra></extra>",
         "legendgroup": "",
         "marker": {
          "color": [
           -1,
           -1,
           -1,
           -1,
           -1,
           -1,
           -1,
           -1,
           -1,
           -1,
           -1,
           -1,
           -1,
           -1,
           -1,
           -1,
           -1,
           -1,
           -1,
           -1,
           -1,
           -1,
           -1,
           -1,
           -1,
           -1,
           -1,
           -1,
           -1,
           -1,
           -1,
           -1,
           -1,
           -1,
           -1,
           -1,
           -1,
           -1,
           -1,
           -1,
           -1,
           -1,
           -1,
           -1,
           -1,
           -1,
           -1,
           -1,
           -1,
           -1,
           -1,
           -1,
           -1,
           -1,
           -1,
           -1,
           -1,
           -1,
           -1,
           -1,
           -1,
           -1,
           -1,
           -1,
           -1,
           -1,
           -1,
           -1,
           -1,
           -1,
           -1,
           -1,
           -1,
           -1,
           -1,
           -1,
           -1,
           -1,
           -1,
           -1,
           -1,
           -1,
           -1,
           -1,
           -1,
           -1,
           -1,
           -1,
           -1,
           -1,
           -1,
           -1,
           -1,
           -1,
           -1,
           -1,
           -1,
           -1,
           -1,
           -1,
           -1,
           -1,
           -1,
           -1,
           -1,
           -1,
           -1,
           -1,
           -1,
           -1,
           -1,
           -1,
           -1,
           -1,
           -1,
           -1,
           -1,
           -1,
           -1,
           -1,
           -1,
           -1,
           -1,
           -1,
           -1,
           -1,
           -1,
           -1,
           -1,
           -1,
           -1,
           -1,
           -1,
           -1,
           -1,
           -1,
           -1,
           -1,
           -1,
           -1,
           -1,
           -1,
           -1,
           -1,
           -1,
           -1,
           -1,
           -1,
           -1,
           -1,
           -1,
           -1,
           -1,
           -1,
           -1,
           -1,
           -1,
           -1,
           -1,
           -1,
           -1,
           -1,
           -1,
           -1,
           -1,
           -1,
           -1,
           -1,
           -1,
           -1,
           -1,
           -1,
           -1,
           -1,
           -1,
           -1,
           -1,
           -1,
           -1,
           -1,
           -1,
           -1,
           -1,
           -1,
           -1,
           -1,
           -1,
           -1,
           -1,
           -1,
           -1,
           -1,
           -1,
           -1,
           -1,
           -1,
           -1,
           -1,
           -1,
           -1,
           -1,
           -1,
           -1,
           -1,
           -1,
           -1,
           -1,
           -1,
           -1,
           -1,
           -1,
           -1,
           -1,
           -1,
           -1,
           -1,
           -1,
           -1,
           -1,
           -1,
           -1,
           -1,
           -1,
           -1,
           -1,
           -1,
           -1,
           -1,
           -1,
           -1,
           -1,
           -1,
           -1,
           -1,
           -1,
           -1,
           -1,
           -1,
           -1,
           -1,
           -1,
           -1,
           -1
          ],
          "coloraxis": "coloraxis",
          "size": 5,
          "symbol": "circle"
         },
         "mode": "markers+text",
         "name": "",
         "orientation": "v",
         "showlegend": false,
         "text": [
          "AC",
          "AC",
          "AC",
          "AC",
          "AC",
          "AC",
          "AC",
          "AC",
          "AC",
          "AL",
          "AL",
          "AL",
          "AL",
          "AL",
          "AL",
          "AL",
          "AL",
          "AL",
          "AM",
          "AM",
          "AM",
          "AM",
          "AM",
          "AM",
          "AM",
          "AM",
          "AM",
          "AP",
          "AP",
          "AP",
          "AP",
          "AP",
          "AP",
          "AP",
          "AP",
          "AP",
          "BA",
          "BA",
          "BA",
          "BA",
          "BA",
          "BA",
          "BA",
          "BA",
          "BA",
          "CE",
          "CE",
          "CE",
          "CE",
          "CE",
          "CE",
          "CE",
          "CE",
          "CE",
          "DF",
          "DF",
          "DF",
          "DF",
          "DF",
          "DF",
          "DF",
          "DF",
          "DF",
          "ES",
          "ES",
          "ES",
          "ES",
          "ES",
          "ES",
          "ES",
          "ES",
          "ES",
          "GO",
          "GO",
          "GO",
          "GO",
          "GO",
          "GO",
          "GO",
          "GO",
          "GO",
          "MA",
          "MA",
          "MA",
          "MA",
          "MA",
          "MA",
          "MA",
          "MA",
          "MA",
          "MG",
          "MG",
          "MG",
          "MG",
          "MG",
          "MG",
          "MG",
          "MG",
          "MG",
          "MS",
          "MS",
          "MS",
          "MS",
          "MS",
          "MS",
          "MS",
          "MS",
          "MS",
          "MT",
          "MT",
          "MT",
          "MT",
          "MT",
          "MT",
          "MT",
          "MT",
          "MT",
          "PA",
          "PA",
          "PA",
          "PA",
          "PA",
          "PA",
          "PA",
          "PA",
          "PA",
          "PB",
          "PB",
          "PB",
          "PB",
          "PB",
          "PB",
          "PB",
          "PB",
          "PB",
          "PE",
          "PE",
          "PE",
          "PE",
          "PE",
          "PE",
          "PE",
          "PE",
          "PE",
          "PI",
          "PI",
          "PI",
          "PI",
          "PI",
          "PI",
          "PI",
          "PI",
          "PI",
          "PR",
          "PR",
          "PR",
          "PR",
          "PR",
          "PR",
          "PR",
          "PR",
          "PR",
          "RJ",
          "RJ",
          "RJ",
          "RJ",
          "RJ",
          "RJ",
          "RJ",
          "RJ",
          "RJ",
          "RN",
          "RN",
          "RN",
          "RN",
          "RN",
          "RN",
          "RN",
          "RN",
          "RN",
          "RO",
          "RO",
          "RO",
          "RO",
          "RO",
          "RO",
          "RO",
          "RO",
          "RO",
          "RR",
          "RR",
          "RR",
          "RR",
          "RR",
          "RR",
          "RR",
          "RR",
          "RR",
          "RS",
          "RS",
          "RS",
          "RS",
          "RS",
          "RS",
          "RS",
          "RS",
          "RS",
          "SC",
          "SC",
          "SC",
          "SC",
          "SC",
          "SC",
          "SC",
          "SC",
          "SC",
          "SE",
          "SE",
          "SE",
          "SE",
          "SE",
          "SE",
          "SE",
          "SE",
          "SE",
          "SP",
          "SP",
          "SP",
          "SP",
          "SP",
          "SP",
          "SP",
          "SP",
          "SP",
          "TO",
          "TO",
          "TO",
          "TO",
          "TO",
          "TO",
          "TO",
          "TO",
          "TO"
         ],
         "type": "scatter",
         "x": [
          126152400,
          26487560,
          454246408,
          243692482,
          197673542,
          883998544,
          1006366812,
          227469616,
          531294390,
          1429939234.2,
          1550993699.16,
          8121631598.400001,
          5234949978,
          6471522819.3,
          8741645838.36,
          4110550122,
          8154894594,
          9566457498,
          511062498.2399999,
          49600000,
          5566174372,
          152023938,
          722094399.9399999,
          1238173706.3,
          1169514432,
          1492622906,
          1692759402,
          315789226.4,
          63995211.2,
          216010720,
          27196320,
          189608928,
          525101904,
          966961072,
          855566608,
          1420152032,
          40074282102.81,
          23546446954.05,
          108746538939,
          51803465061,
          20603000892,
          35504703558,
          41670174075,
          39666081666,
          46605320703,
          13499847114.88,
          4077093995.36,
          23700892064,
          4882601368,
          2208461104,
          42557833984,
          17954616592,
          38069906176,
          32452019064.72,
          12746000,
          4307335,
          160451289,
          87425311,
          11290761,
          39523582.16,
          56231306.73,
          79396458,
          82527769,
          2561194506,
          1308320772.72,
          6405641211.84,
          10620567984,
          3249259572,
          9863758320,
          8019668475,
          4897829040,
          8765753256,
          13911081392.1,
          8311517868,
          30576018960,
          15315178704,
          11394550752,
          29948441964,
          26626704456,
          31127251332,
          28451573292,
          2952935043.03,
          744157232,
          23792869303,
          5239569811,
          645341942,
          16435515117,
          12944274161,
          41970468666,
          31666128186,
          95831334821.22,
          60462492306.56,
          318947748056,
          98507331670,
          53281472125,
          226229064332.04,
          254999156936,
          249681782772.3,
          265548194288,
          2713800904.22,
          1079548686.75,
          5152346583,
          3365231651,
          273577869,
          6005639961,
          4826570175,
          5282047440,
          6995683919,
          4097907949.95,
          2765784591.96,
          9432470232,
          3676368435,
          2887981176,
          25892695881,
          13490776083,
          16097651058,
          18833215605,
          3603201233.76,
          1323401470.56,
          25480993968,
          6186053952,
          3209226264,
          17741893680,
          11451442608,
          24884782992,
          28042188912,
          3776166735.76,
          2151775292.88,
          14340359312,
          5745145209,
          1882788554,
          22483771178,
          18529619249,
          24047357086,
          23172404767,
          6964278466.95,
          6155495862.849999,
          36931315172.1,
          10458128347.5,
          8289527545,
          16251705360,
          21138708465,
          20821387400,
          24929233775,
          1843338797.44,
          1464699463.36,
          13022139424,
          1954293376,
          926848832,
          9723774592,
          10468156384,
          16537544576,
          9687038816,
          26300870235.99,
          12906280105.32,
          93454303974.78,
          17470707765,
          13224365738.22,
          44255381457,
          62520271989,
          44137786980,
          53175747450,
          6388733061.64,
          4337980298.84,
          30159486802.24,
          10617717048.64,
          5126255542.48,
          16131083234.08,
          23764264144.32,
          23816560491.84,
          24387276577.16,
          2326083030.3,
          697339548.64,
          8231989324.75,
          2892613513,
          1382594561.45,
          8357387746,
          7836657030,
          11953696173,
          17387083758,
          1654550629.16,
          800085518.44,
          3020536480,
          1598455716,
          791119316,
          3067155988,
          2750344844,
          2184947492,
          2130365328,
          140178554.4,
          346601962.2,
          511444575,
          368373960,
          85590090,
          934550805,
          653715615,
          149448345,
          308167890,
          33961942972.16,
          24447178686.98,
          224338590850.99,
          33741211714,
          22321761994,
          81743634498.96,
          95250789048.94,
          86148021323,
          102210396834,
          16369751443.7,
          7806607136.8,
          36348540345,
          7034694195,
          3552869375,
          34007187295,
          35655724290,
          35746126450,
          29724191740,
          710712300,
          376859167.5,
          2353404474,
          136252500,
          398639925,
          4301545125,
          4828109025,
          5337972150,
          2974606725,
          114348429885.9,
          65512767370.65,
          472776034177.5,
          131045122140,
          117083559210,
          321366770475,
          290738314020,
          390351485145,
          432157483290,
          2394930410.02,
          1134613543.04,
          5905480052,
          1202287450,
          1021493347,
          5708285895,
          10375636930,
          4138912928,
          3053305275
         ],
         "xaxis": "x",
         "y": [
          36039320.36,
          37262018.93,
          40487149.58,
          37245525.42,
          34432565.80999999,
          34709598.96,
          40018213.54000001,
          50689465.28,
          43377991.73,
          163585154.39,
          177761701.66,
          177582559.02,
          191840311.18,
          201009115.55,
          204786689.31,
          205569621.04,
          276880403.49,
          211607936.57,
          121900696.54,
          151278739.11,
          147812237.68,
          160820207.38,
          175744827.42,
          189256198.86,
          210298047.43,
          270903741.19,
          237707058.01,
          23354262.75,
          22053145.67,
          21916972.06,
          22366616.97,
          25843955.47,
          29370406.98,
          27872333.42,
          45565140.13,
          35931724.12,
          757704806.95,
          785597108.51,
          810137241.0600001,
          821240562.83,
          845519121.49,
          879675393.52,
          914530938.71,
          1243933168.56,
          1076511369.9,
          510177372.21,
          527062987.33,
          540114355.34,
          551317375.85,
          573956797.74,
          607937295.28,
          636460960.1700001,
          877772133.48,
          726447120.85,
          71632316.27,
          64471697.15,
          83122612.98,
          96642322.18,
          233115326.1,
          239866880.3,
          265391022.7,
          338257487.5,
          312758824.5,
          253097937.91,
          267235078.66,
          296978830.46,
          309155832.58,
          303425629.23,
          319947622.99,
          364620052.22,
          553995355.02,
          434465436.46,
          400943736.85,
          420280242.12,
          410610981.88,
          414555691.04,
          407220316.6,
          438382657.56,
          471891376.4,
          697234869.65,
          517094229.55,
          301805294.58,
          311541016.01,
          307485045.96,
          333689604.73,
          351572006.88,
          366407811.12,
          375770394.54,
          510327392.31,
          452514283.04,
          1658840666.82,
          1674939603.09,
          1657939988.06,
          1718544163.82,
          1790290126.07,
          1889157110.43,
          1900368797.54,
          2647196263.54,
          2326241465.07,
          174087791.34,
          186415626.23,
          190977047.18,
          194544177.73,
          201939866.01,
          218562922.11,
          227384589.29,
          337069397.82,
          285832542.69,
          164696707.99,
          173915288.36,
          181948081.8,
          185882129.14,
          190680812.6,
          189645101.04,
          205331624.93,
          336549602.1,
          241225841.08,
          342851637.93,
          353977050.37,
          357148899.02,
          388952636.21,
          410173716.45,
          410805540.78,
          447222369.54,
          540354161.84,
          545720282.28,
          194470103.47,
          189634905.56,
          192764395.72,
          208882120.71,
          218267536.74,
          232234991.54,
          227946551.25,
          320676396.06,
          284045342.29,
          703527971,
          717003467.17,
          733193554.41,
          792199747.86,
          800658730.0300001,
          819736634.45,
          815500708.8299999,
          1161810395.91,
          975536343.8399999,
          164802466.16,
          174857185.87,
          188677491.59,
          186604620.01,
          195934078.94,
          206820114.49,
          216335315.92,
          301951412.54,
          246806470.4,
          1063177083.89,
          1116764284.09,
          1224621412.72,
          1333212214.36,
          1453914663.21,
          1493484390.7,
          1406028330.28,
          1868090404.45,
          1662024377.76,
          765976172.45,
          814738275.85,
          790282302.26,
          853543221.38,
          918095799.5,
          976876703.75,
          1032894622.91,
          1414089345.86,
          1285136616.87,
          193227603.04,
          210853738.03,
          212854443.29,
          218447439.6,
          240919860.5,
          266652744.11,
          283182041.93,
          365540119.42,
          323567694.09,
          79095836.74,
          86163443.56,
          91955338.88,
          95261076.71000001,
          102091843.39,
          109113101.49,
          110011617.1,
          154245547,
          124764936.01,
          19757952.27,
          24556486.66,
          29133807.87,
          31338348.9,
          33851454.13,
          34320141.86,
          36868427.83000001,
          43779114.13,
          43564927.37,
          1025980732.3,
          1076735540.96,
          1046635638.74,
          1053347905.52,
          1074036199.49,
          1131618227.23,
          1186666108.78,
          1567348049.46,
          1298261973.32,
          626008038.37,
          649716373.14,
          663853492.72,
          676676323.2900001,
          711391945.08,
          759243377.0799999,
          758021988.81,
          1086773153.73,
          939515058.72,
          83949080.41,
          96666330.17,
          102263264.46,
          99807105.64999999,
          107312506.79,
          117487663.62,
          120241590.98,
          175749163.67,
          154389988.81,
          3268008800,
          3285221793.04,
          3305056173.66,
          3361179945.29,
          3442007311.9,
          3567637040.48,
          3806208858.01,
          5067663861.29,
          4191063069.85,
          88436272.97,
          78227511.7,
          78034121.8,
          72772161.78,
          62982094.00000001,
          82314133.11,
          92885843.75999999,
          119224446.41,
          99156021.03
         ],
         "yaxis": "y"
        }
       ],
       "layout": {
        "coloraxis": {
         "colorbar": {
          "title": {
           "text": "cluster"
          }
         },
         "colorscale": [
          [
           0,
           "#0d0887"
          ],
          [
           0.1111111111111111,
           "#46039f"
          ],
          [
           0.2222222222222222,
           "#7201a8"
          ],
          [
           0.3333333333333333,
           "#9c179e"
          ],
          [
           0.4444444444444444,
           "#bd3786"
          ],
          [
           0.5555555555555556,
           "#d8576b"
          ],
          [
           0.6666666666666666,
           "#ed7953"
          ],
          [
           0.7777777777777778,
           "#fb9f3a"
          ],
          [
           0.8888888888888888,
           "#fdca26"
          ],
          [
           1,
           "#f0f921"
          ]
         ]
        },
        "legend": {
         "title": {
          "text": "Cluster"
         },
         "tracegroupgap": 0,
         "traceorder": "reversed"
        },
        "margin": {
         "t": 60
        },
        "showlegend": true,
        "template": {
         "data": {
          "bar": [
           {
            "error_x": {
             "color": "#2a3f5f"
            },
            "error_y": {
             "color": "#2a3f5f"
            },
            "marker": {
             "line": {
              "color": "#E5ECF6",
              "width": 0.5
             },
             "pattern": {
              "fillmode": "overlay",
              "size": 10,
              "solidity": 0.2
             }
            },
            "type": "bar"
           }
          ],
          "barpolar": [
           {
            "marker": {
             "line": {
              "color": "#E5ECF6",
              "width": 0.5
             },
             "pattern": {
              "fillmode": "overlay",
              "size": 10,
              "solidity": 0.2
             }
            },
            "type": "barpolar"
           }
          ],
          "carpet": [
           {
            "aaxis": {
             "endlinecolor": "#2a3f5f",
             "gridcolor": "white",
             "linecolor": "white",
             "minorgridcolor": "white",
             "startlinecolor": "#2a3f5f"
            },
            "baxis": {
             "endlinecolor": "#2a3f5f",
             "gridcolor": "white",
             "linecolor": "white",
             "minorgridcolor": "white",
             "startlinecolor": "#2a3f5f"
            },
            "type": "carpet"
           }
          ],
          "choropleth": [
           {
            "colorbar": {
             "outlinewidth": 0,
             "ticks": ""
            },
            "type": "choropleth"
           }
          ],
          "contour": [
           {
            "colorbar": {
             "outlinewidth": 0,
             "ticks": ""
            },
            "colorscale": [
             [
              0,
              "#0d0887"
             ],
             [
              0.1111111111111111,
              "#46039f"
             ],
             [
              0.2222222222222222,
              "#7201a8"
             ],
             [
              0.3333333333333333,
              "#9c179e"
             ],
             [
              0.4444444444444444,
              "#bd3786"
             ],
             [
              0.5555555555555556,
              "#d8576b"
             ],
             [
              0.6666666666666666,
              "#ed7953"
             ],
             [
              0.7777777777777778,
              "#fb9f3a"
             ],
             [
              0.8888888888888888,
              "#fdca26"
             ],
             [
              1,
              "#f0f921"
             ]
            ],
            "type": "contour"
           }
          ],
          "contourcarpet": [
           {
            "colorbar": {
             "outlinewidth": 0,
             "ticks": ""
            },
            "type": "contourcarpet"
           }
          ],
          "heatmap": [
           {
            "colorbar": {
             "outlinewidth": 0,
             "ticks": ""
            },
            "colorscale": [
             [
              0,
              "#0d0887"
             ],
             [
              0.1111111111111111,
              "#46039f"
             ],
             [
              0.2222222222222222,
              "#7201a8"
             ],
             [
              0.3333333333333333,
              "#9c179e"
             ],
             [
              0.4444444444444444,
              "#bd3786"
             ],
             [
              0.5555555555555556,
              "#d8576b"
             ],
             [
              0.6666666666666666,
              "#ed7953"
             ],
             [
              0.7777777777777778,
              "#fb9f3a"
             ],
             [
              0.8888888888888888,
              "#fdca26"
             ],
             [
              1,
              "#f0f921"
             ]
            ],
            "type": "heatmap"
           }
          ],
          "heatmapgl": [
           {
            "colorbar": {
             "outlinewidth": 0,
             "ticks": ""
            },
            "colorscale": [
             [
              0,
              "#0d0887"
             ],
             [
              0.1111111111111111,
              "#46039f"
             ],
             [
              0.2222222222222222,
              "#7201a8"
             ],
             [
              0.3333333333333333,
              "#9c179e"
             ],
             [
              0.4444444444444444,
              "#bd3786"
             ],
             [
              0.5555555555555556,
              "#d8576b"
             ],
             [
              0.6666666666666666,
              "#ed7953"
             ],
             [
              0.7777777777777778,
              "#fb9f3a"
             ],
             [
              0.8888888888888888,
              "#fdca26"
             ],
             [
              1,
              "#f0f921"
             ]
            ],
            "type": "heatmapgl"
           }
          ],
          "histogram": [
           {
            "marker": {
             "pattern": {
              "fillmode": "overlay",
              "size": 10,
              "solidity": 0.2
             }
            },
            "type": "histogram"
           }
          ],
          "histogram2d": [
           {
            "colorbar": {
             "outlinewidth": 0,
             "ticks": ""
            },
            "colorscale": [
             [
              0,
              "#0d0887"
             ],
             [
              0.1111111111111111,
              "#46039f"
             ],
             [
              0.2222222222222222,
              "#7201a8"
             ],
             [
              0.3333333333333333,
              "#9c179e"
             ],
             [
              0.4444444444444444,
              "#bd3786"
             ],
             [
              0.5555555555555556,
              "#d8576b"
             ],
             [
              0.6666666666666666,
              "#ed7953"
             ],
             [
              0.7777777777777778,
              "#fb9f3a"
             ],
             [
              0.8888888888888888,
              "#fdca26"
             ],
             [
              1,
              "#f0f921"
             ]
            ],
            "type": "histogram2d"
           }
          ],
          "histogram2dcontour": [
           {
            "colorbar": {
             "outlinewidth": 0,
             "ticks": ""
            },
            "colorscale": [
             [
              0,
              "#0d0887"
             ],
             [
              0.1111111111111111,
              "#46039f"
             ],
             [
              0.2222222222222222,
              "#7201a8"
             ],
             [
              0.3333333333333333,
              "#9c179e"
             ],
             [
              0.4444444444444444,
              "#bd3786"
             ],
             [
              0.5555555555555556,
              "#d8576b"
             ],
             [
              0.6666666666666666,
              "#ed7953"
             ],
             [
              0.7777777777777778,
              "#fb9f3a"
             ],
             [
              0.8888888888888888,
              "#fdca26"
             ],
             [
              1,
              "#f0f921"
             ]
            ],
            "type": "histogram2dcontour"
           }
          ],
          "mesh3d": [
           {
            "colorbar": {
             "outlinewidth": 0,
             "ticks": ""
            },
            "type": "mesh3d"
           }
          ],
          "parcoords": [
           {
            "line": {
             "colorbar": {
              "outlinewidth": 0,
              "ticks": ""
             }
            },
            "type": "parcoords"
           }
          ],
          "pie": [
           {
            "automargin": true,
            "type": "pie"
           }
          ],
          "scatter": [
           {
            "fillpattern": {
             "fillmode": "overlay",
             "size": 10,
             "solidity": 0.2
            },
            "type": "scatter"
           }
          ],
          "scatter3d": [
           {
            "line": {
             "colorbar": {
              "outlinewidth": 0,
              "ticks": ""
             }
            },
            "marker": {
             "colorbar": {
              "outlinewidth": 0,
              "ticks": ""
             }
            },
            "type": "scatter3d"
           }
          ],
          "scattercarpet": [
           {
            "marker": {
             "colorbar": {
              "outlinewidth": 0,
              "ticks": ""
             }
            },
            "type": "scattercarpet"
           }
          ],
          "scattergeo": [
           {
            "marker": {
             "colorbar": {
              "outlinewidth": 0,
              "ticks": ""
             }
            },
            "type": "scattergeo"
           }
          ],
          "scattergl": [
           {
            "marker": {
             "colorbar": {
              "outlinewidth": 0,
              "ticks": ""
             }
            },
            "type": "scattergl"
           }
          ],
          "scattermapbox": [
           {
            "marker": {
             "colorbar": {
              "outlinewidth": 0,
              "ticks": ""
             }
            },
            "type": "scattermapbox"
           }
          ],
          "scatterpolar": [
           {
            "marker": {
             "colorbar": {
              "outlinewidth": 0,
              "ticks": ""
             }
            },
            "type": "scatterpolar"
           }
          ],
          "scatterpolargl": [
           {
            "marker": {
             "colorbar": {
              "outlinewidth": 0,
              "ticks": ""
             }
            },
            "type": "scatterpolargl"
           }
          ],
          "scatterternary": [
           {
            "marker": {
             "colorbar": {
              "outlinewidth": 0,
              "ticks": ""
             }
            },
            "type": "scatterternary"
           }
          ],
          "surface": [
           {
            "colorbar": {
             "outlinewidth": 0,
             "ticks": ""
            },
            "colorscale": [
             [
              0,
              "#0d0887"
             ],
             [
              0.1111111111111111,
              "#46039f"
             ],
             [
              0.2222222222222222,
              "#7201a8"
             ],
             [
              0.3333333333333333,
              "#9c179e"
             ],
             [
              0.4444444444444444,
              "#bd3786"
             ],
             [
              0.5555555555555556,
              "#d8576b"
             ],
             [
              0.6666666666666666,
              "#ed7953"
             ],
             [
              0.7777777777777778,
              "#fb9f3a"
             ],
             [
              0.8888888888888888,
              "#fdca26"
             ],
             [
              1,
              "#f0f921"
             ]
            ],
            "type": "surface"
           }
          ],
          "table": [
           {
            "cells": {
             "fill": {
              "color": "#EBF0F8"
             },
             "line": {
              "color": "white"
             }
            },
            "header": {
             "fill": {
              "color": "#C8D4E3"
             },
             "line": {
              "color": "white"
             }
            },
            "type": "table"
           }
          ]
         },
         "layout": {
          "annotationdefaults": {
           "arrowcolor": "#2a3f5f",
           "arrowhead": 0,
           "arrowwidth": 1
          },
          "autotypenumbers": "strict",
          "coloraxis": {
           "colorbar": {
            "outlinewidth": 0,
            "ticks": ""
           }
          },
          "colorscale": {
           "diverging": [
            [
             0,
             "#8e0152"
            ],
            [
             0.1,
             "#c51b7d"
            ],
            [
             0.2,
             "#de77ae"
            ],
            [
             0.3,
             "#f1b6da"
            ],
            [
             0.4,
             "#fde0ef"
            ],
            [
             0.5,
             "#f7f7f7"
            ],
            [
             0.6,
             "#e6f5d0"
            ],
            [
             0.7,
             "#b8e186"
            ],
            [
             0.8,
             "#7fbc41"
            ],
            [
             0.9,
             "#4d9221"
            ],
            [
             1,
             "#276419"
            ]
           ],
           "sequential": [
            [
             0,
             "#0d0887"
            ],
            [
             0.1111111111111111,
             "#46039f"
            ],
            [
             0.2222222222222222,
             "#7201a8"
            ],
            [
             0.3333333333333333,
             "#9c179e"
            ],
            [
             0.4444444444444444,
             "#bd3786"
            ],
            [
             0.5555555555555556,
             "#d8576b"
            ],
            [
             0.6666666666666666,
             "#ed7953"
            ],
            [
             0.7777777777777778,
             "#fb9f3a"
            ],
            [
             0.8888888888888888,
             "#fdca26"
            ],
            [
             1,
             "#f0f921"
            ]
           ],
           "sequentialminus": [
            [
             0,
             "#0d0887"
            ],
            [
             0.1111111111111111,
             "#46039f"
            ],
            [
             0.2222222222222222,
             "#7201a8"
            ],
            [
             0.3333333333333333,
             "#9c179e"
            ],
            [
             0.4444444444444444,
             "#bd3786"
            ],
            [
             0.5555555555555556,
             "#d8576b"
            ],
            [
             0.6666666666666666,
             "#ed7953"
            ],
            [
             0.7777777777777778,
             "#fb9f3a"
            ],
            [
             0.8888888888888888,
             "#fdca26"
            ],
            [
             1,
             "#f0f921"
            ]
           ]
          },
          "colorway": [
           "#636efa",
           "#EF553B",
           "#00cc96",
           "#ab63fa",
           "#FFA15A",
           "#19d3f3",
           "#FF6692",
           "#B6E880",
           "#FF97FF",
           "#FECB52"
          ],
          "font": {
           "color": "#2a3f5f"
          },
          "geo": {
           "bgcolor": "white",
           "lakecolor": "white",
           "landcolor": "#E5ECF6",
           "showlakes": true,
           "showland": true,
           "subunitcolor": "white"
          },
          "hoverlabel": {
           "align": "left"
          },
          "hovermode": "closest",
          "mapbox": {
           "style": "light"
          },
          "paper_bgcolor": "white",
          "plot_bgcolor": "#E5ECF6",
          "polar": {
           "angularaxis": {
            "gridcolor": "white",
            "linecolor": "white",
            "ticks": ""
           },
           "bgcolor": "#E5ECF6",
           "radialaxis": {
            "gridcolor": "white",
            "linecolor": "white",
            "ticks": ""
           }
          },
          "scene": {
           "xaxis": {
            "backgroundcolor": "#E5ECF6",
            "gridcolor": "white",
            "gridwidth": 2,
            "linecolor": "white",
            "showbackground": true,
            "ticks": "",
            "zerolinecolor": "white"
           },
           "yaxis": {
            "backgroundcolor": "#E5ECF6",
            "gridcolor": "white",
            "gridwidth": 2,
            "linecolor": "white",
            "showbackground": true,
            "ticks": "",
            "zerolinecolor": "white"
           },
           "zaxis": {
            "backgroundcolor": "#E5ECF6",
            "gridcolor": "white",
            "gridwidth": 2,
            "linecolor": "white",
            "showbackground": true,
            "ticks": "",
            "zerolinecolor": "white"
           }
          },
          "shapedefaults": {
           "line": {
            "color": "#2a3f5f"
           }
          },
          "ternary": {
           "aaxis": {
            "gridcolor": "white",
            "linecolor": "white",
            "ticks": ""
           },
           "baxis": {
            "gridcolor": "white",
            "linecolor": "white",
            "ticks": ""
           },
           "bgcolor": "#E5ECF6",
           "caxis": {
            "gridcolor": "white",
            "linecolor": "white",
            "ticks": ""
           }
          },
          "title": {
           "x": 0.05
          },
          "xaxis": {
           "automargin": true,
           "gridcolor": "white",
           "linecolor": "white",
           "ticks": "",
           "title": {
            "standoff": 15
           },
           "zerolinecolor": "white",
           "zerolinewidth": 2
          },
          "yaxis": {
           "automargin": true,
           "gridcolor": "white",
           "linecolor": "white",
           "ticks": "",
           "title": {
            "standoff": 15
           },
           "zerolinecolor": "white",
           "zerolinewidth": 2
          }
         }
        },
        "xaxis": {
         "anchor": "y",
         "domain": [
          0,
          1
         ],
         "title": {
          "text": "valor_emendas"
         }
        },
        "yaxis": {
         "anchor": "x",
         "domain": [
          0,
          1
         ],
         "title": {
          "text": "gastos"
         }
        }
       }
      }
     },
     "metadata": {},
     "output_type": "display_data"
    }
   ],
   "source": [
    "import pandas as pd\n",
    "from sklearn.preprocessing import MinMaxScaler\n",
    "from sklearn.cluster import DBSCAN\n",
    "import plotly.express as px\n",
    "\n",
    "# Assuming you have cluster_df with 'gastos', 'valor_emendas', and 'UF' columns\n",
    "cluster_df = variaveis_uf_ano[['gastos', 'valor_emendas', 'uf']].copy()\n",
    "\n",
    "# Perform DBSCAN clustering\n",
    "dbscan = DBSCAN(eps=0.1, min_samples=5)  # You can adjust eps and min_samples\n",
    "cluster_df['cluster'] = dbscan.fit_predict(cluster_df[['valor_emendas', 'gastos']])\n",
    "\n",
    "# Identify outliers by cluster label (-1)\n",
    "outliers_df = cluster_df[cluster_df['cluster'] == -1]\n",
    "\n",
    "fig = px.scatter(cluster_df, x='valor_emendas', y='gastos', color='cluster', text='uf')\n",
    "\n",
    "# Customize the color scale, if needed\n",
    "fig.update_traces(marker=dict(size=5))\n",
    "\n",
    "# Add legend labels\n",
    "fig.update_layout(legend_title='Legend', showlegend=True)\n",
    "fig.update_layout(legend=dict(title=dict(text='Cluster')))\n",
    "fig.update_layout(legend_traceorder='reversed')\n",
    "\n",
    "# Show the plot\n",
    "fig.show()\n"
   ]
  },
  {
   "cell_type": "code",
   "execution_count": null,
   "id": "652ddb98",
   "metadata": {},
   "outputs": [],
   "source": [
    "# Assuming you already have the cluster_df\n",
    "# No need to normalize the data since Plotly Express handles that automatically\n",
    "\n",
    "# Perform DBSCAN clustering\n",
    "dbscan = DBSCAN(eps=0.1, min_samples=5)  # You can adjust eps and min_samples\n",
    "cluster_df['cluster'] = dbscan.fit_predict(cluster_df[['valor_emendas', 'gastos']])\n",
    "\n",
    "fig = px.scatter(cluster_df, x='valor_emendas', y='gastos', color='cluster')\n",
    "\n",
    "# Customize the color scale, if needed\n",
    "fig.update_traces(marker=dict(size=5))\n",
    "\n",
    "# Add legend labels\n",
    "fig.update_layout(legend_title='Legend', showlegend=True)\n",
    "fig.update_layout(legend=dict(title=dict(text='Cluster')))\n",
    "fig.update_layout(legend_traceorder='reversed')\n",
    "\n",
    "# Show the plot\n",
    "fig.show()"
   ]
  },
  {
   "cell_type": "code",
   "execution_count": null,
   "id": "d78a3ba5",
   "metadata": {},
   "outputs": [],
   "source": [
    "d"
   ]
  }
 ],
 "metadata": {
  "kernelspec": {
   "display_name": "Python 3 (ipykernel)",
   "language": "python",
   "name": "python3"
  },
  "language_info": {
   "codemirror_mode": {
    "name": "ipython",
    "version": 3
   },
   "file_extension": ".py",
   "mimetype": "text/x-python",
   "name": "python",
   "nbconvert_exporter": "python",
   "pygments_lexer": "ipython3",
   "version": "3.11.5"
  }
 },
 "nbformat": 4,
 "nbformat_minor": 5
}
