{
 "cells": [
  {
   "cell_type": "code",
   "execution_count": null,
   "id": "41f546cf-0a46-4584-82a4-966d2fed3c47",
   "metadata": {},
   "outputs": [],
   "source": [
    "import pickle\n",
    "import os\n",
    "import pandas as pd\n",
    "import numpy as np\n",
    "import requests\n",
    "import plotly.express as px\n",
    "import plotly.io as pio\n",
    "import math\n",
    "from geojson_rewind import rewind\n",
    "pio.renderers.default = 'iframe'"
   ]
  },
  {
   "cell_type": "code",
   "execution_count": null,
   "id": "35a00c28-321f-4b67-b649-edd4f39a95e3",
   "metadata": {},
   "outputs": [],
   "source": [
    "def build_path(subfolder = 'figuras'):\n",
    "    folderpath = os.path.join(os.getcwd(), subfolder)\n",
    "    folderpath = os.path.abspath(folderpath)\n",
    "    if not os.path.exists(folderpath): \n",
    "        os.makedirs(folderpath)\n",
    "    return folderpath\n",
    "\n",
    "def load_data():\n",
    "    data = {}   \n",
    "    folderpath = build_path()\n",
    "    for filename in os.listdir(folderpath):\n",
    "        if filename.endswith('.json'):\n",
    "            filepath = os.path.join(build_path('figuras'), filename)\n",
    "            data[filename.split('.')[0]] = pd.read_json(filepath)\n",
    "    return data\n",
    "\n",
    "def save_data(figure, type_of_map, intraregion, subfolder = 'app'):\n",
    "    filepath = os.path.join(build_path(subfolder), f'{type_of_map}-{intraregion}.pkl')\n",
    "    \n",
    "    with open(filepath, 'wb') as pickle_file:\n",
    "        pickle.dump(figure, pickle_file)      "
   ]
  },
  {
   "cell_type": "code",
   "execution_count": null,
   "id": "2583497b-6179-452e-8bb3-76f1569c5337",
   "metadata": {
    "scrolled": true
   },
   "outputs": [],
   "source": [
    "\n",
    "variaveis_uf_ano = pd.read_excel('./dados_para_dashboard/variaveis_uf_ano.xlsx', engine='openpyxl')\n",
    "\n"
   ]
  },
  {
   "cell_type": "code",
   "execution_count": null,
   "id": "e13a4195-d7be-4f1c-adf3-5b0c502d1bf2",
   "metadata": {},
   "outputs": [],
   "source": [
    "# Criando UF e região\n",
    "CondUF =  [(variaveis_uf_ano['uf'] == 'RO'),\n",
    "         (variaveis_uf_ano[\"uf\"] == 'AC'),\n",
    "         (variaveis_uf_ano[\"uf\"] == 'AM'),\n",
    "         (variaveis_uf_ano[\"uf\"] == 'RR'),\n",
    "         (variaveis_uf_ano[\"uf\"] == 'PA'),\n",
    "         (variaveis_uf_ano[\"uf\"] == 'AP'),\n",
    "         (variaveis_uf_ano[\"uf\"] == 'TO'),\n",
    "         (variaveis_uf_ano[\"uf\"] == 'MA'),\n",
    "         (variaveis_uf_ano[\"uf\"] == 'PI'),\n",
    "         (variaveis_uf_ano[\"uf\"] == 'CE'),\n",
    "         (variaveis_uf_ano[\"uf\"] == 'RN'),\n",
    "         (variaveis_uf_ano[\"uf\"] == 'PB'),\n",
    "         (variaveis_uf_ano[\"uf\"] == 'PE'),\n",
    "         (variaveis_uf_ano[\"uf\"] == 'AL'),\n",
    "         (variaveis_uf_ano[\"uf\"] == 'SE'),\n",
    "         (variaveis_uf_ano[\"uf\"] == 'BA'),\n",
    "         (variaveis_uf_ano[\"uf\"] == 'MG'),\n",
    "         (variaveis_uf_ano[\"uf\"] == 'ES'),\n",
    "         (variaveis_uf_ano[\"uf\"] == 'RJ'),\n",
    "         (variaveis_uf_ano[\"uf\"] == 'SP'),\n",
    "         (variaveis_uf_ano[\"uf\"] == 'PR'),\n",
    "         (variaveis_uf_ano[\"uf\"] == 'SC'),\n",
    "         (variaveis_uf_ano[\"uf\"] == 'RS'),\n",
    "         (variaveis_uf_ano[\"uf\"] == 'MS'),\n",
    "         (variaveis_uf_ano[\"uf\"] == 'MT'),\n",
    "         (variaveis_uf_ano[\"uf\"] == 'GO'),\n",
    "         (variaveis_uf_ano[\"uf\"] == 'DF')\n",
    "         ]\n",
    "          \n",
    "UF_nomes = ['11','12','13','14','15','16','17','21','22','23','24','25','26','27','28','29','31','32','33','35','41','42','43','50','51','52','53']\n",
    "variaveis_uf_ano[\"cod_UF\"] = np.select(CondUF, UF_nomes, default=\"Error\")\n",
    "\n",
    "variaveis_uf_ano"
   ]
  },
  {
   "cell_type": "code",
   "execution_count": null,
   "id": "84f12fb0-fb9b-46eb-a7d8-b05d165f9ee0",
   "metadata": {},
   "outputs": [],
   "source": [
    "# gastospc uf\n",
    "\n",
    "# Puxar a malha geográfica do Brasil a nível de município\n",
    "geojson = requests.get(f'http://servicodados.ibge.gov.br/api/v3/malhas/paises/BR?formato=application/vnd.geo+json&qualidade=maxima&intrarregiao=UF').json()\n",
    "\n",
    "# A malha geográfica do IBGE tem 7 dígitos (remover o dígito verificador e atualizar a malha)\n",
    "for feature in geojson['features']:\n",
    "    feature['properties']['codarea'] = feature['properties']['codarea']\n",
    "geojson = rewind(geojson, rfc7946=False)\n",
    "\n",
    "\n",
    "# Construir o mapa choroplético com uma barra de cores fixa e sem variação\n",
    "fig = px.choropleth(variaveis_uf_ano,\n",
    "                    geojson=geojson,\n",
    "                    scope='south america',\n",
    "                    color='gastos_percapita',\n",
    "                    color_continuous_scale=\"agsunset_r\",  # Escolha um mapa de cores adequado aqui\n",
    "                    color_continuous_midpoint=5_00,  # Defina um valor médio para o mapa de cores\n",
    "                    range_color=[0, 25_000],  # Defina manualmente o intervalo de cores\n",
    "                    locations='cod_UF',\n",
    "                    featureidkey='properties.codarea',\n",
    "                    hover_name='uf',\n",
    "                    animation_frame='ano')\n",
    "\n",
    "fig.update_geos(fitbounds=\"locations\", visible=False)\n",
    "fig.update_traces(marker_line_width=0)\n",
    "\n",
    "fig.update_layout(height=800, width=1000, autosize=False, \n",
    "                  updatemenus=[{\"buttons\": [{\"args\": [None, {\"frame\": {\"duration\": 1000, \"redraw\": True}, \"fromcurrent\": True, \"mode\": \"immediate\", \"transition\": {\"duration\": 500, \"easing\": \"linear\"}}], \"label\": \"Play\", \"method\": \"animate\"}, \n",
    "                                          {\"args\": [[None], {\"frame\": {\"duration\": 0, \"redraw\": True}, \"mode\": \"immediate\", \"transition\": {\"duration\": 0}}], \"label\": \"Stop\", \"method\": \"animate\"}], \n",
    "                               \"direction\": \"left\", \"pad\": {\"r\": 10, \"t\": 87}, \"showactive\": False, \"type\": \"buttons\", \"x\": 0.1, \"xanchor\": \"right\", \"y\": 0, \"yanchor\": \"top\"}])\n",
    "\n"
   ]
  },
  {
   "cell_type": "code",
   "execution_count": 3,
   "id": "5e4033cc",
   "metadata": {},
   "outputs": [
    {
     "name": "stdout",
     "output_type": "stream",
     "text": [
      "Requirement already satisfied: streamlit_folium in c:\\users\\miche\\desktop\\analise_gastos_saude\\streamlit\\.conda\\lib\\site-packages (0.15.0)\n",
      "Requirement already satisfied: streamlit>=1.13.0 in c:\\users\\miche\\desktop\\analise_gastos_saude\\streamlit\\.conda\\lib\\site-packages (from streamlit_folium) (1.28.0)\n",
      "Requirement already satisfied: folium>=0.13 in c:\\users\\miche\\desktop\\analise_gastos_saude\\streamlit\\.conda\\lib\\site-packages (from streamlit_folium) (0.14.0)\n",
      "Requirement already satisfied: jinja2 in c:\\users\\miche\\desktop\\analise_gastos_saude\\streamlit\\.conda\\lib\\site-packages (from streamlit_folium) (3.1.2)\n",
      "Requirement already satisfied: branca in c:\\users\\miche\\desktop\\analise_gastos_saude\\streamlit\\.conda\\lib\\site-packages (from streamlit_folium) (0.6.0)\n",
      "Requirement already satisfied: numpy in c:\\users\\miche\\desktop\\analise_gastos_saude\\streamlit\\.conda\\lib\\site-packages (from folium>=0.13->streamlit_folium) (1.26.0)\n",
      "Requirement already satisfied: requests in c:\\users\\miche\\desktop\\analise_gastos_saude\\streamlit\\.conda\\lib\\site-packages (from folium>=0.13->streamlit_folium) (2.31.0)\n",
      "Requirement already satisfied: MarkupSafe>=2.0 in c:\\users\\miche\\desktop\\analise_gastos_saude\\streamlit\\.conda\\lib\\site-packages (from jinja2->streamlit_folium) (2.1.3)\n",
      "Requirement already satisfied: altair<6,>=4.0 in c:\\users\\miche\\desktop\\analise_gastos_saude\\streamlit\\.conda\\lib\\site-packages (from streamlit>=1.13.0->streamlit_folium) (5.1.2)\n",
      "Requirement already satisfied: blinker<2,>=1.0.0 in c:\\users\\miche\\desktop\\analise_gastos_saude\\streamlit\\.conda\\lib\\site-packages (from streamlit>=1.13.0->streamlit_folium) (1.6.3)\n",
      "Requirement already satisfied: cachetools<6,>=4.0 in c:\\users\\miche\\desktop\\analise_gastos_saude\\streamlit\\.conda\\lib\\site-packages (from streamlit>=1.13.0->streamlit_folium) (5.3.2)\n",
      "Requirement already satisfied: click<9,>=7.0 in c:\\users\\miche\\desktop\\analise_gastos_saude\\streamlit\\.conda\\lib\\site-packages (from streamlit>=1.13.0->streamlit_folium) (8.1.7)\n",
      "Requirement already satisfied: importlib-metadata<7,>=1.4 in c:\\users\\miche\\desktop\\analise_gastos_saude\\streamlit\\.conda\\lib\\site-packages (from streamlit>=1.13.0->streamlit_folium) (6.8.0)\n",
      "Requirement already satisfied: packaging<24,>=16.8 in c:\\users\\miche\\appdata\\roaming\\python\\python311\\site-packages (from streamlit>=1.13.0->streamlit_folium) (23.1)\n",
      "Requirement already satisfied: pandas<3,>=1.3.0 in c:\\users\\miche\\desktop\\analise_gastos_saude\\streamlit\\.conda\\lib\\site-packages (from streamlit>=1.13.0->streamlit_folium) (2.1.1)\n",
      "Requirement already satisfied: pillow<11,>=7.1.0 in c:\\users\\miche\\desktop\\analise_gastos_saude\\streamlit\\.conda\\lib\\site-packages (from streamlit>=1.13.0->streamlit_folium) (10.1.0)\n",
      "Requirement already satisfied: protobuf<5,>=3.20 in c:\\users\\miche\\desktop\\analise_gastos_saude\\streamlit\\.conda\\lib\\site-packages (from streamlit>=1.13.0->streamlit_folium) (4.24.4)\n",
      "Requirement already satisfied: pyarrow>=6.0 in c:\\users\\miche\\desktop\\analise_gastos_saude\\streamlit\\.conda\\lib\\site-packages (from streamlit>=1.13.0->streamlit_folium) (13.0.0)\n",
      "Requirement already satisfied: python-dateutil<3,>=2.7.3 in c:\\users\\miche\\appdata\\roaming\\python\\python311\\site-packages (from streamlit>=1.13.0->streamlit_folium) (2.8.2)\n",
      "Requirement already satisfied: rich<14,>=10.14.0 in c:\\users\\miche\\desktop\\analise_gastos_saude\\streamlit\\.conda\\lib\\site-packages (from streamlit>=1.13.0->streamlit_folium) (13.6.0)\n",
      "Requirement already satisfied: tenacity<9,>=8.1.0 in c:\\users\\miche\\desktop\\analise_gastos_saude\\streamlit\\.conda\\lib\\site-packages (from streamlit>=1.13.0->streamlit_folium) (8.2.3)\n",
      "Requirement already satisfied: toml<2,>=0.10.1 in c:\\users\\miche\\desktop\\analise_gastos_saude\\streamlit\\.conda\\lib\\site-packages (from streamlit>=1.13.0->streamlit_folium) (0.10.2)\n",
      "Requirement already satisfied: typing-extensions<5,>=4.3.0 in c:\\users\\miche\\desktop\\analise_gastos_saude\\streamlit\\.conda\\lib\\site-packages (from streamlit>=1.13.0->streamlit_folium) (4.8.0)\n",
      "Requirement already satisfied: tzlocal<6,>=1.1 in c:\\users\\miche\\desktop\\analise_gastos_saude\\streamlit\\.conda\\lib\\site-packages (from streamlit>=1.13.0->streamlit_folium) (5.2)\n",
      "Requirement already satisfied: validators<1,>=0.2 in c:\\users\\miche\\desktop\\analise_gastos_saude\\streamlit\\.conda\\lib\\site-packages (from streamlit>=1.13.0->streamlit_folium) (0.22.0)\n",
      "Requirement already satisfied: gitpython!=3.1.19,<4,>=3.0.7 in c:\\users\\miche\\desktop\\analise_gastos_saude\\streamlit\\.conda\\lib\\site-packages (from streamlit>=1.13.0->streamlit_folium) (3.1.40)\n",
      "Requirement already satisfied: pydeck<1,>=0.8.0b4 in c:\\users\\miche\\desktop\\analise_gastos_saude\\streamlit\\.conda\\lib\\site-packages (from streamlit>=1.13.0->streamlit_folium) (0.8.1b0)\n",
      "Requirement already satisfied: tornado<7,>=6.0.3 in c:\\users\\miche\\appdata\\roaming\\python\\python311\\site-packages (from streamlit>=1.13.0->streamlit_folium) (6.3.3)\n",
      "Requirement already satisfied: watchdog>=2.1.5 in c:\\users\\miche\\desktop\\analise_gastos_saude\\streamlit\\.conda\\lib\\site-packages (from streamlit>=1.13.0->streamlit_folium) (3.0.0)\n",
      "Requirement already satisfied: jsonschema>=3.0 in c:\\users\\miche\\desktop\\analise_gastos_saude\\streamlit\\.conda\\lib\\site-packages (from altair<6,>=4.0->streamlit>=1.13.0->streamlit_folium) (4.19.1)\n",
      "Requirement already satisfied: toolz in c:\\users\\miche\\desktop\\analise_gastos_saude\\streamlit\\.conda\\lib\\site-packages (from altair<6,>=4.0->streamlit>=1.13.0->streamlit_folium) (0.12.0)\n",
      "Requirement already satisfied: colorama in c:\\users\\miche\\appdata\\roaming\\python\\python311\\site-packages (from click<9,>=7.0->streamlit>=1.13.0->streamlit_folium) (0.4.6)\n",
      "Requirement already satisfied: gitdb<5,>=4.0.1 in c:\\users\\miche\\desktop\\analise_gastos_saude\\streamlit\\.conda\\lib\\site-packages (from gitpython!=3.1.19,<4,>=3.0.7->streamlit>=1.13.0->streamlit_folium) (4.0.11)\n",
      "Requirement already satisfied: zipp>=0.5 in c:\\users\\miche\\desktop\\analise_gastos_saude\\streamlit\\.conda\\lib\\site-packages (from importlib-metadata<7,>=1.4->streamlit>=1.13.0->streamlit_folium) (3.17.0)\n",
      "Requirement already satisfied: pytz>=2020.1 in c:\\users\\miche\\desktop\\analise_gastos_saude\\streamlit\\.conda\\lib\\site-packages (from pandas<3,>=1.3.0->streamlit>=1.13.0->streamlit_folium) (2023.3.post1)\n",
      "Requirement already satisfied: tzdata>=2022.1 in c:\\users\\miche\\desktop\\analise_gastos_saude\\streamlit\\.conda\\lib\\site-packages (from pandas<3,>=1.3.0->streamlit>=1.13.0->streamlit_folium) (2023.3)\n",
      "Requirement already satisfied: six>=1.5 in c:\\users\\miche\\appdata\\roaming\\python\\python311\\site-packages (from python-dateutil<3,>=2.7.3->streamlit>=1.13.0->streamlit_folium) (1.16.0)\n",
      "Requirement already satisfied: charset-normalizer<4,>=2 in c:\\users\\miche\\desktop\\analise_gastos_saude\\streamlit\\.conda\\lib\\site-packages (from requests->folium>=0.13->streamlit_folium) (3.3.1)\n",
      "Requirement already satisfied: idna<4,>=2.5 in c:\\users\\miche\\desktop\\analise_gastos_saude\\streamlit\\.conda\\lib\\site-packages (from requests->folium>=0.13->streamlit_folium) (3.4)\n",
      "Requirement already satisfied: urllib3<3,>=1.21.1 in c:\\users\\miche\\desktop\\analise_gastos_saude\\streamlit\\.conda\\lib\\site-packages (from requests->folium>=0.13->streamlit_folium) (2.0.7)\n",
      "Requirement already satisfied: certifi>=2017.4.17 in c:\\users\\miche\\desktop\\analise_gastos_saude\\streamlit\\.conda\\lib\\site-packages (from requests->folium>=0.13->streamlit_folium) (2023.7.22)\n",
      "Requirement already satisfied: markdown-it-py>=2.2.0 in c:\\users\\miche\\desktop\\analise_gastos_saude\\streamlit\\.conda\\lib\\site-packages (from rich<14,>=10.14.0->streamlit>=1.13.0->streamlit_folium) (3.0.0)\n",
      "Requirement already satisfied: pygments<3.0.0,>=2.13.0 in c:\\users\\miche\\appdata\\roaming\\python\\python311\\site-packages (from rich<14,>=10.14.0->streamlit>=1.13.0->streamlit_folium) (2.16.1)\n",
      "Requirement already satisfied: smmap<6,>=3.0.1 in c:\\users\\miche\\desktop\\analise_gastos_saude\\streamlit\\.conda\\lib\\site-packages (from gitdb<5,>=4.0.1->gitpython!=3.1.19,<4,>=3.0.7->streamlit>=1.13.0->streamlit_folium) (5.0.1)\n",
      "Requirement already satisfied: attrs>=22.2.0 in c:\\users\\miche\\desktop\\analise_gastos_saude\\streamlit\\.conda\\lib\\site-packages (from jsonschema>=3.0->altair<6,>=4.0->streamlit>=1.13.0->streamlit_folium) (23.1.0)\n",
      "Requirement already satisfied: jsonschema-specifications>=2023.03.6 in c:\\users\\miche\\desktop\\analise_gastos_saude\\streamlit\\.conda\\lib\\site-packages (from jsonschema>=3.0->altair<6,>=4.0->streamlit>=1.13.0->streamlit_folium) (2023.7.1)\n",
      "Requirement already satisfied: referencing>=0.28.4 in c:\\users\\miche\\desktop\\analise_gastos_saude\\streamlit\\.conda\\lib\\site-packages (from jsonschema>=3.0->altair<6,>=4.0->streamlit>=1.13.0->streamlit_folium) (0.30.2)\n",
      "Requirement already satisfied: rpds-py>=0.7.1 in c:\\users\\miche\\desktop\\analise_gastos_saude\\streamlit\\.conda\\lib\\site-packages (from jsonschema>=3.0->altair<6,>=4.0->streamlit>=1.13.0->streamlit_folium) (0.10.6)\n",
      "Requirement already satisfied: mdurl~=0.1 in c:\\users\\miche\\desktop\\analise_gastos_saude\\streamlit\\.conda\\lib\\site-packages (from markdown-it-py>=2.2.0->rich<14,>=10.14.0->streamlit>=1.13.0->streamlit_folium) (0.1.2)\n",
      "Note: you may need to restart the kernel to use updated packages.\n"
     ]
    }
   ],
   "source": [
    "%pip install streamlit_folium"
   ]
  },
  {
   "cell_type": "code",
   "execution_count": null,
   "id": "2fea2319",
   "metadata": {},
   "outputs": [],
   "source": []
  },
  {
   "cell_type": "code",
   "execution_count": null,
   "id": "3e0606b1-db6e-42e4-999a-7f4a3a75d019",
   "metadata": {
    "scrolled": true
   },
   "outputs": [],
   "source": [
    "max=variaveis_uf_ano['gastos'].max()\n",
    "print(max)"
   ]
  },
  {
   "cell_type": "code",
   "execution_count": null,
   "id": "2fa73353-a767-4dcf-b626-b46c9695524f",
   "metadata": {},
   "outputs": [],
   "source": [
    "min=variaveis_uf_ano['gastos'].min()\n",
    "print(min)"
   ]
  },
  {
   "cell_type": "code",
   "execution_count": null,
   "id": "20633306-cce5-49dc-b242-70069258a4ef",
   "metadata": {},
   "outputs": [],
   "source": [
    "import pickle\n",
    "\n",
    "def save_data(fig):\n",
    "    arquivo = 'C:/Users/miche/Desktop/analise_gastos_saude/figuras/fig.pkl'\n",
    "    with open(arquivo, 'wb') as pickle_file:\n",
    "        pickle.dump(fig, pickle_file)"
   ]
  },
  {
   "cell_type": "code",
   "execution_count": null,
   "id": "f4d56222",
   "metadata": {},
   "outputs": [],
   "source": [
    "save_data(fig)"
   ]
  },
  {
   "cell_type": "code",
   "execution_count": null,
   "id": "88f57347-6e7b-4e03-bc4b-0f6402e95c56",
   "metadata": {},
   "outputs": [],
   "source": [
    "# mapa gastos uf\n",
    "\n",
    "# Puxar a malha geográfica do Brasil a nível de município\n",
    "geojson = requests.get(f'https://servicodados.ibge.gov.br/api/v3/malhas/paises/BR?formato=application/vnd.geo+json&qualidade=maxima&intrarregiao=UF').json()\n",
    "\n",
    "# A malha geográfica do IBGE tem 7 dígitos (remover o dígito verificador e atualizar a malha)\n",
    "for feature in geojson['features']:\n",
    "    feature['properties']['codarea'] = feature['properties']['codarea']\n",
    "geojson = rewind(geojson, rfc7946=False)\n",
    "\n",
    "\n",
    "# Construir o mapa choroplético com uma barra de cores fixa e sem variação\n",
    "fig2 = px.choropleth(variaveis_uf_ano,\n",
    "                    geojson=geojson,\n",
    "                    scope='south america',\n",
    "                    color='gastos',\n",
    "                    color_continuous_scale=\"agsunset_r\",  # Escolha um mapa de cores adequado aqui\n",
    "                    color_continuous_midpoint=100_000,  # Defina um valor médio para o mapa de cores\n",
    "                    range_color=[15_000_000, 6_000_000_000],  # Defina manualmente o intervalo de cores\n",
    "                    locations='cod_UF',\n",
    "                    featureidkey='properties.codarea',\n",
    "                    hover_name='uf',\n",
    "                    animation_frame='ano')\n",
    "\n",
    "fig2.update_geos(fitbounds=\"locations\", visible=False)\n",
    "fig2.update_traces(marker_line_width=0)\n",
    "\n",
    "fig2.update_layout(height=800, width=1000, autosize=False, \n",
    "                  updatemenus=[{\"buttons\": [{\"args\": [None, {\"frame\": {\"duration\": 1000, \"redraw\": True}, \"fromcurrent\": True, \"mode\": \"immediate\", \"transition\": {\"duration\": 500, \"easing\": \"linear\"}}], \"label\": \"Play\", \"method\": \"animate\"}, \n",
    "                                          {\"args\": [[None], {\"frame\": {\"duration\": 0, \"redraw\": True}, \"mode\": \"immediate\", \"transition\": {\"duration\": 0}}], \"label\": \"Stop\", \"method\": \"animate\"}], \n",
    "                               \"direction\": \"left\", \"pad\": {\"r\": 10, \"t\": 87}, \"showactive\": False, \"type\": \"buttons\", \"x\": 0.1, \"xanchor\": \"right\", \"y\": 0, \"yanchor\": \"top\"}])\n",
    "\n"
   ]
  },
  {
   "cell_type": "code",
   "execution_count": null,
   "id": "1c8aaf9b-566e-4003-a11f-9a54c060d57c",
   "metadata": {},
   "outputs": [],
   "source": [
    "def save_data(fig2):\n",
    "    arquivo = 'C:/Users/miche/Desktop/analise_gastos_saude/figuras/fig2.pkl'\n",
    "    with open(arquivo, 'wb') as pickle_file:\n",
    "        pickle.dump(fig2, pickle_file)\n",
    "\n",
    "save_data(fig2)"
   ]
  },
  {
   "cell_type": "code",
   "execution_count": null,
   "id": "94940d2e-00bd-43ae-8dcb-31bb8db4964b",
   "metadata": {},
   "outputs": [],
   "source": [
    "base_completa = pd.read_excel('./dados_tratados/base_completa.xlsx', engine='openpyxl')\n",
    "base_completa\n"
   ]
  },
  {
   "cell_type": "code",
   "execution_count": null,
   "id": "b784b078-d44a-4175-805b-c964792fb0d3",
   "metadata": {},
   "outputs": [],
   "source": [
    "# gastos municipio\n",
    "# Puxar a malha geográfica do Brasil a nível de município\n",
    "geojson = requests.get(f'http://servicodados.ibge.gov.br/api/v3/malhas/paises/BR?formato=application/vnd.geo+json&qualidade=minima&intrarregiao=municipio').json()\n",
    "\n",
    "# A malha geográfica do IBGE tem 7 dígitos (remover o dígito verificador e atualizar a malha)\n",
    "for feature in geojson['features']:\n",
    "    feature['properties']['codarea'] = feature['properties']['codarea'][:-1]\n",
    "geojson = rewind(geojson, rfc7946=False)\n",
    "\n",
    "\n",
    "# Construir o mapa choroplético com uma barra de cores fixa e sem variação\n",
    "fig3 = px.choropleth(base_completa,\n",
    "                    geojson=geojson,\n",
    "                    scope='south america',\n",
    "                    color='gastos',\n",
    "                    color_continuous_scale=\"agsunset_r\",  # Escolha um mapa de cores adequado aqui\n",
    "                    color_continuous_midpoint=50_000,  # Defina um valor médio para o mapa de cores\n",
    "                    range_color=[0, 1_560_000_000],  # Defina manualmente o intervalo de cores\n",
    "                    locations='cod_ibge',\n",
    "                    featureidkey='properties.codarea',\n",
    "                    hover_name='municipio',\n",
    "                   animation_frame='ano')\n",
    "\n",
    "fig3.update_geos(fitbounds=\"locations\", visible=False)\n",
    "fig3.update_traces(marker_line_width=0)\n",
    "\n",
    "fig3.update_layout(height=800, width=1000, autosize=False, \n",
    "                  updatemenus=[{\"buttons\": [{\"args\": [None, {\"frame\": {\"duration\": 500, \"redraw\": True}, \"fromcurrent\": True, \"mode\": \"immediate\", \"transition\": {\"duration\": 300, \"easing\": \"linear\"}}], \"label\": \"Play\", \"method\": \"animate\"}, \n",
    "                                          {\"args\": [[None], {\"frame\": {\"duration\": 0, \"redraw\": True}, \"mode\": \"immediate\", \"transition\": {\"duration\": 0}}], \"label\": \"Stop\", \"method\": \"animate\"}], \n",
    "                               \"direction\": \"left\", \"pad\": {\"r\": 10, \"t\": 87}, \"showactive\": False, \"type\": \"buttons\", \"x\": 0.1, \"xanchor\": \"right\", \"y\": 0, \"yanchor\": \"top\"}])\n",
    "\n",
    "fig3.show()\n"
   ]
  },
  {
   "cell_type": "code",
   "execution_count": null,
   "id": "a33fbdfc-03f5-45ce-a20a-cae4392e24ea",
   "metadata": {},
   "outputs": [],
   "source": [
    "def save_data(fig3):\n",
    "    arquivo = 'C:/Users/miche/Desktop/analise_gastos_saude/figuras/fig3.pkl'\n",
    "    with open(arquivo, 'wb') as pickle_file:\n",
    "        pickle.dump(fig3, pickle_file)\n",
    "\n",
    "save_data(fig3)"
   ]
  },
  {
   "cell_type": "code",
   "execution_count": null,
   "id": "c0abd656-2306-436e-be78-e81a8ff5c885",
   "metadata": {
    "scrolled": true
   },
   "outputs": [],
   "source": [
    "\n",
    "# Puxar a malha geográfica do Brasil a nível de município\n",
    "geojson = requests.get(f'http://servicodados.ibge.gov.br/api/v3/malhas/paises/BR?formato=application/vnd.geo+json&qualidade=minima&intrarregiao=municipio').json()\n",
    "\n",
    "# A malha geográfica do IBGE tem 7 dígitos (remover o dígito verificador e atualizar a malha)\n",
    "for feature in geojson['features']:\n",
    "    feature['properties']['codarea'] = feature['properties']['codarea'][:-1]\n",
    "geojson = rewind(geojson, rfc7946=False)\n",
    "\n",
    "\n",
    "# Construir o mapa choroplético com uma barra de cores fixa e sem variação\n",
    "fig4 = px.choropleth(base_completa,\n",
    "                    geojson=geojson,\n",
    "                    scope='south america',\n",
    "                    color='gastos_percapita',\n",
    "                    color_continuous_scale=\"agsunset_r\",  # Escolha um mapa de cores adequado aqui\n",
    "                    color_continuous_midpoint=1_000,  # Defina um valor médio para o mapa de cores\n",
    "                    range_color=[0, 3_700],  # Defina manualmente o intervalo de cores\n",
    "                    locations='cod_ibge',\n",
    "                    featureidkey='properties.codarea',\n",
    "                    hover_name='municipio',\n",
    "                   animation_frame='ano')\n",
    "\n",
    "fig4.update_geos(fitbounds=\"locations\", visible=False)\n",
    "fig4.update_traces(marker_line_width=0)\n",
    "\n",
    "fig4.update_layout(height=800, width=1000, autosize=False, \n",
    "                  updatemenus=[{\"buttons\": [{\"args\": [None, {\"frame\": {\"duration\": 500, \"redraw\": True}, \"fromcurrent\": True, \"mode\": \"immediate\", \"transition\": {\"duration\": 300, \"easing\": \"linear\"}}], \"label\": \"Play\", \"method\": \"animate\"}, \n",
    "                                          {\"args\": [[None], {\"frame\": {\"duration\": 0, \"redraw\": True}, \"mode\": \"immediate\", \"transition\": {\"duration\": 0}}], \"label\": \"Stop\", \"method\": \"animate\"}], \n",
    "                               \"direction\": \"left\", \"pad\": {\"r\": 10, \"t\": 87}, \"showactive\": False, \"type\": \"buttons\", \"x\": 0.1, \"xanchor\": \"right\", \"y\": 0, \"yanchor\": \"top\"}])\n",
    "\n",
    "fig4.show()\n"
   ]
  },
  {
   "cell_type": "code",
   "execution_count": null,
   "id": "a6fe6873-57f9-4c1c-9273-903cbbd824bb",
   "metadata": {},
   "outputs": [],
   "source": [
    "def save_data(fig4):\n",
    "    arquivo = 'C:/Users/miche/Desktop/analise_gastos_saude/figuras/fig4.pkl'\n",
    "    with open(arquivo, 'wb') as pickle_file:\n",
    "        pickle.dump(fig4, pickle_file)\n",
    "save_data(fig4)"
   ]
  },
  {
   "cell_type": "code",
   "execution_count": null,
   "id": "228e0e79",
   "metadata": {},
   "outputs": [],
   "source": [
    "import requests\n",
    "url = 'https://github.com/heliomacedofilho/projetos-do-bootcamp-analise-de-dados-enap-2023/tree/main/automatizacao_de_relatorio_de_dados_de_documentos/analise_gastos_saude/figuras/'\n",
    "response = requests.get(url)\n",
    "response.content"
   ]
  },
  {
   "cell_type": "code",
   "execution_count": null,
   "id": "8387a674",
   "metadata": {},
   "outputs": [],
   "source": [
    "filename = 'gastos-uf.pkl'\n",
    "import gzip\n",
    "\n",
    "url = 'https://github.com/heliomacedofilho/projetos-do-bootcamp-analise-de-dados-enap-2023/tree/main/automatizacao_de_relatorio_de_dados_de_documentos/analise_gastos_saude/figuras/'\n",
    "response = requests.get(f'{url}{filename}',stream='True')\n",
    "\n",
    "with gzip.open(response.raw, 'rb') as ifp:\n",
    "    print(pickle.load(ifp))\n",
    "    \n",
    "#pickle.load(response.raw, encoding='latin1')\n"
   ]
  },
  {
   "cell_type": "code",
   "execution_count": null,
   "id": "ad8fad30",
   "metadata": {},
   "outputs": [],
   "source": []
  },
  {
   "cell_type": "code",
   "execution_count": null,
   "id": "98b75715",
   "metadata": {},
   "outputs": [],
   "source": []
  },
  {
   "cell_type": "code",
   "execution_count": null,
   "id": "2965ff73",
   "metadata": {},
   "outputs": [],
   "source": [
    "import streamlit as st\n",
    "import pandas as pd\n",
    "import requests\n",
    "import pickle\n",
    "\n",
    "# @st.cache(allow_output_mutation=True)\n",
    "st.set_page_config(page_title=\"Municípios\", page_icon=\"🏥\", layout=\"wide\")\n",
    "\n",
    "st.title('_Municípios_')\n",
    "st.markdown(\"---\")\n",
    "\n",
    "filename = 'fig.pkl'\n",
    "\n",
    "url = 'https://github.com/heliomacedofilho/projetos-do-bootcamp-analise-de-dados-enap-2023/raw/main/automatizacao_de_relatorio_de_dados_de_documentos/analise_gastos_saude/figuras/'\n",
    "response = requests.get(f'{url}{filename}', stream='True')\n",
    "pickle.load(response.raw)"
   ]
  }
 ],
 "metadata": {
  "kernelspec": {
   "display_name": "Python 3 (ipykernel)",
   "language": "python",
   "name": "python3"
  },
  "language_info": {
   "codemirror_mode": {
    "name": "ipython",
    "version": 3
   },
   "file_extension": ".py",
   "mimetype": "text/x-python",
   "name": "python",
   "nbconvert_exporter": "python",
   "pygments_lexer": "ipython3",
   "version": "3.11.5"
  }
 },
 "nbformat": 4,
 "nbformat_minor": 5
}
