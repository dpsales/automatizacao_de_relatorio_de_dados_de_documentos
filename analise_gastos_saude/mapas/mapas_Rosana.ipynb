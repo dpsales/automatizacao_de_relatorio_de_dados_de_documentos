{
 "cells": [
  {
   "cell_type": "code",
   "execution_count": 1,
   "id": "41f546cf-0a46-4584-82a4-966d2fed3c47",
   "metadata": {},
   "outputs": [],
   "source": [
    "import pickle\n",
    "import os\n",
    "import pandas as pd\n",
    "import numpy as np\n",
    "import requests\n",
    "import plotly.express as px\n",
    "import plotly.io as pio\n",
    "import math\n",
    "from geojson_rewind import rewind\n",
    "pio.renderers.default = 'iframe'"
   ]
  },
  {
   "cell_type": "code",
   "execution_count": 2,
   "id": "35a00c28-321f-4b67-b649-edd4f39a95e3",
   "metadata": {},
   "outputs": [],
   "source": [
    "def build_path(subfolder = 'merge'):\n",
    "    folderpath = os.path.join(os.getcwd(), os.pardir, \n",
    "                              'project', 'data', subfolder)\n",
    "    folderpath = os.path.abspath(folderpath)\n",
    "    if not os.path.exists(folderpath): \n",
    "        os.makedirs(folderpath)\n",
    "    return folderpath\n",
    "\n",
    "def load_data():\n",
    "    data = {}   \n",
    "    folderpath = build_path()\n",
    "    for filename in os.listdir(folderpath):\n",
    "        if filename.endswith('.json'):\n",
    "            filepath = os.path.join(build_path('merge'), filename)\n",
    "            data[filename.split('.')[0]] = pd.read_json(filepath)\n",
    "    return data\n",
    "\n",
    "def save_data(figure, type_of_map, intraregion, subfolder = 'app'):\n",
    "    filepath = os.path.join(build_path(subfolder), f'{type_of_map}-{intraregion}.pkl')\n",
    "    \n",
    "    with open(filepath, 'wb') as pickle_file:\n",
    "        pickle.dump(figure, pickle_file)      "
   ]
  },
  {
   "cell_type": "code",
   "execution_count": 3,
   "id": "2583497b-6179-452e-8bb3-76f1569c5337",
   "metadata": {
    "scrolled": true
   },
   "outputs": [
    {
     "ename": "FileNotFoundError",
     "evalue": "[Errno 2] No such file or directory: 'variaveis_uf_ano.csv'",
     "output_type": "error",
     "traceback": [
      "\u001b[1;31m---------------------------------------------------------------------------\u001b[0m",
      "\u001b[1;31mFileNotFoundError\u001b[0m                         Traceback (most recent call last)",
      "Cell \u001b[1;32mIn[3], line 1\u001b[0m\n\u001b[1;32m----> 1\u001b[0m variaveis_uf_ano \u001b[38;5;241m=\u001b[39m \u001b[43mpd\u001b[49m\u001b[38;5;241;43m.\u001b[39;49m\u001b[43mread_csv\u001b[49m\u001b[43m(\u001b[49m\u001b[38;5;124;43m'\u001b[39;49m\u001b[38;5;124;43mvariaveis_uf_ano.csv\u001b[39;49m\u001b[38;5;124;43m'\u001b[39;49m\u001b[43m,\u001b[49m\u001b[43m \u001b[49m\u001b[43msep\u001b[49m\u001b[38;5;241;43m=\u001b[39;49m\u001b[38;5;124;43m'\u001b[39;49m\u001b[38;5;124;43m;\u001b[39;49m\u001b[38;5;124;43m'\u001b[39;49m\u001b[43m)\u001b[49m\n\u001b[0;32m      2\u001b[0m variaveis_uf_ano\n",
      "File \u001b[1;32m~\\AppData\\Local\\Programs\\Python\\Python311\\Lib\\site-packages\\pandas\\io\\parsers\\readers.py:948\u001b[0m, in \u001b[0;36mread_csv\u001b[1;34m(filepath_or_buffer, sep, delimiter, header, names, index_col, usecols, dtype, engine, converters, true_values, false_values, skipinitialspace, skiprows, skipfooter, nrows, na_values, keep_default_na, na_filter, verbose, skip_blank_lines, parse_dates, infer_datetime_format, keep_date_col, date_parser, date_format, dayfirst, cache_dates, iterator, chunksize, compression, thousands, decimal, lineterminator, quotechar, quoting, doublequote, escapechar, comment, encoding, encoding_errors, dialect, on_bad_lines, delim_whitespace, low_memory, memory_map, float_precision, storage_options, dtype_backend)\u001b[0m\n\u001b[0;32m    935\u001b[0m kwds_defaults \u001b[38;5;241m=\u001b[39m _refine_defaults_read(\n\u001b[0;32m    936\u001b[0m     dialect,\n\u001b[0;32m    937\u001b[0m     delimiter,\n\u001b[1;32m   (...)\u001b[0m\n\u001b[0;32m    944\u001b[0m     dtype_backend\u001b[38;5;241m=\u001b[39mdtype_backend,\n\u001b[0;32m    945\u001b[0m )\n\u001b[0;32m    946\u001b[0m kwds\u001b[38;5;241m.\u001b[39mupdate(kwds_defaults)\n\u001b[1;32m--> 948\u001b[0m \u001b[38;5;28;01mreturn\u001b[39;00m \u001b[43m_read\u001b[49m\u001b[43m(\u001b[49m\u001b[43mfilepath_or_buffer\u001b[49m\u001b[43m,\u001b[49m\u001b[43m \u001b[49m\u001b[43mkwds\u001b[49m\u001b[43m)\u001b[49m\n",
      "File \u001b[1;32m~\\AppData\\Local\\Programs\\Python\\Python311\\Lib\\site-packages\\pandas\\io\\parsers\\readers.py:611\u001b[0m, in \u001b[0;36m_read\u001b[1;34m(filepath_or_buffer, kwds)\u001b[0m\n\u001b[0;32m    608\u001b[0m _validate_names(kwds\u001b[38;5;241m.\u001b[39mget(\u001b[38;5;124m\"\u001b[39m\u001b[38;5;124mnames\u001b[39m\u001b[38;5;124m\"\u001b[39m, \u001b[38;5;28;01mNone\u001b[39;00m))\n\u001b[0;32m    610\u001b[0m \u001b[38;5;66;03m# Create the parser.\u001b[39;00m\n\u001b[1;32m--> 611\u001b[0m parser \u001b[38;5;241m=\u001b[39m \u001b[43mTextFileReader\u001b[49m\u001b[43m(\u001b[49m\u001b[43mfilepath_or_buffer\u001b[49m\u001b[43m,\u001b[49m\u001b[43m \u001b[49m\u001b[38;5;241;43m*\u001b[39;49m\u001b[38;5;241;43m*\u001b[39;49m\u001b[43mkwds\u001b[49m\u001b[43m)\u001b[49m\n\u001b[0;32m    613\u001b[0m \u001b[38;5;28;01mif\u001b[39;00m chunksize \u001b[38;5;129;01mor\u001b[39;00m iterator:\n\u001b[0;32m    614\u001b[0m     \u001b[38;5;28;01mreturn\u001b[39;00m parser\n",
      "File \u001b[1;32m~\\AppData\\Local\\Programs\\Python\\Python311\\Lib\\site-packages\\pandas\\io\\parsers\\readers.py:1448\u001b[0m, in \u001b[0;36mTextFileReader.__init__\u001b[1;34m(self, f, engine, **kwds)\u001b[0m\n\u001b[0;32m   1445\u001b[0m     \u001b[38;5;28mself\u001b[39m\u001b[38;5;241m.\u001b[39moptions[\u001b[38;5;124m\"\u001b[39m\u001b[38;5;124mhas_index_names\u001b[39m\u001b[38;5;124m\"\u001b[39m] \u001b[38;5;241m=\u001b[39m kwds[\u001b[38;5;124m\"\u001b[39m\u001b[38;5;124mhas_index_names\u001b[39m\u001b[38;5;124m\"\u001b[39m]\n\u001b[0;32m   1447\u001b[0m \u001b[38;5;28mself\u001b[39m\u001b[38;5;241m.\u001b[39mhandles: IOHandles \u001b[38;5;241m|\u001b[39m \u001b[38;5;28;01mNone\u001b[39;00m \u001b[38;5;241m=\u001b[39m \u001b[38;5;28;01mNone\u001b[39;00m\n\u001b[1;32m-> 1448\u001b[0m \u001b[38;5;28mself\u001b[39m\u001b[38;5;241m.\u001b[39m_engine \u001b[38;5;241m=\u001b[39m \u001b[38;5;28;43mself\u001b[39;49m\u001b[38;5;241;43m.\u001b[39;49m\u001b[43m_make_engine\u001b[49m\u001b[43m(\u001b[49m\u001b[43mf\u001b[49m\u001b[43m,\u001b[49m\u001b[43m \u001b[49m\u001b[38;5;28;43mself\u001b[39;49m\u001b[38;5;241;43m.\u001b[39;49m\u001b[43mengine\u001b[49m\u001b[43m)\u001b[49m\n",
      "File \u001b[1;32m~\\AppData\\Local\\Programs\\Python\\Python311\\Lib\\site-packages\\pandas\\io\\parsers\\readers.py:1705\u001b[0m, in \u001b[0;36mTextFileReader._make_engine\u001b[1;34m(self, f, engine)\u001b[0m\n\u001b[0;32m   1703\u001b[0m     \u001b[38;5;28;01mif\u001b[39;00m \u001b[38;5;124m\"\u001b[39m\u001b[38;5;124mb\u001b[39m\u001b[38;5;124m\"\u001b[39m \u001b[38;5;129;01mnot\u001b[39;00m \u001b[38;5;129;01min\u001b[39;00m mode:\n\u001b[0;32m   1704\u001b[0m         mode \u001b[38;5;241m+\u001b[39m\u001b[38;5;241m=\u001b[39m \u001b[38;5;124m\"\u001b[39m\u001b[38;5;124mb\u001b[39m\u001b[38;5;124m\"\u001b[39m\n\u001b[1;32m-> 1705\u001b[0m \u001b[38;5;28mself\u001b[39m\u001b[38;5;241m.\u001b[39mhandles \u001b[38;5;241m=\u001b[39m \u001b[43mget_handle\u001b[49m\u001b[43m(\u001b[49m\n\u001b[0;32m   1706\u001b[0m \u001b[43m    \u001b[49m\u001b[43mf\u001b[49m\u001b[43m,\u001b[49m\n\u001b[0;32m   1707\u001b[0m \u001b[43m    \u001b[49m\u001b[43mmode\u001b[49m\u001b[43m,\u001b[49m\n\u001b[0;32m   1708\u001b[0m \u001b[43m    \u001b[49m\u001b[43mencoding\u001b[49m\u001b[38;5;241;43m=\u001b[39;49m\u001b[38;5;28;43mself\u001b[39;49m\u001b[38;5;241;43m.\u001b[39;49m\u001b[43moptions\u001b[49m\u001b[38;5;241;43m.\u001b[39;49m\u001b[43mget\u001b[49m\u001b[43m(\u001b[49m\u001b[38;5;124;43m\"\u001b[39;49m\u001b[38;5;124;43mencoding\u001b[39;49m\u001b[38;5;124;43m\"\u001b[39;49m\u001b[43m,\u001b[49m\u001b[43m \u001b[49m\u001b[38;5;28;43;01mNone\u001b[39;49;00m\u001b[43m)\u001b[49m\u001b[43m,\u001b[49m\n\u001b[0;32m   1709\u001b[0m \u001b[43m    \u001b[49m\u001b[43mcompression\u001b[49m\u001b[38;5;241;43m=\u001b[39;49m\u001b[38;5;28;43mself\u001b[39;49m\u001b[38;5;241;43m.\u001b[39;49m\u001b[43moptions\u001b[49m\u001b[38;5;241;43m.\u001b[39;49m\u001b[43mget\u001b[49m\u001b[43m(\u001b[49m\u001b[38;5;124;43m\"\u001b[39;49m\u001b[38;5;124;43mcompression\u001b[39;49m\u001b[38;5;124;43m\"\u001b[39;49m\u001b[43m,\u001b[49m\u001b[43m \u001b[49m\u001b[38;5;28;43;01mNone\u001b[39;49;00m\u001b[43m)\u001b[49m\u001b[43m,\u001b[49m\n\u001b[0;32m   1710\u001b[0m \u001b[43m    \u001b[49m\u001b[43mmemory_map\u001b[49m\u001b[38;5;241;43m=\u001b[39;49m\u001b[38;5;28;43mself\u001b[39;49m\u001b[38;5;241;43m.\u001b[39;49m\u001b[43moptions\u001b[49m\u001b[38;5;241;43m.\u001b[39;49m\u001b[43mget\u001b[49m\u001b[43m(\u001b[49m\u001b[38;5;124;43m\"\u001b[39;49m\u001b[38;5;124;43mmemory_map\u001b[39;49m\u001b[38;5;124;43m\"\u001b[39;49m\u001b[43m,\u001b[49m\u001b[43m \u001b[49m\u001b[38;5;28;43;01mFalse\u001b[39;49;00m\u001b[43m)\u001b[49m\u001b[43m,\u001b[49m\n\u001b[0;32m   1711\u001b[0m \u001b[43m    \u001b[49m\u001b[43mis_text\u001b[49m\u001b[38;5;241;43m=\u001b[39;49m\u001b[43mis_text\u001b[49m\u001b[43m,\u001b[49m\n\u001b[0;32m   1712\u001b[0m \u001b[43m    \u001b[49m\u001b[43merrors\u001b[49m\u001b[38;5;241;43m=\u001b[39;49m\u001b[38;5;28;43mself\u001b[39;49m\u001b[38;5;241;43m.\u001b[39;49m\u001b[43moptions\u001b[49m\u001b[38;5;241;43m.\u001b[39;49m\u001b[43mget\u001b[49m\u001b[43m(\u001b[49m\u001b[38;5;124;43m\"\u001b[39;49m\u001b[38;5;124;43mencoding_errors\u001b[39;49m\u001b[38;5;124;43m\"\u001b[39;49m\u001b[43m,\u001b[49m\u001b[43m \u001b[49m\u001b[38;5;124;43m\"\u001b[39;49m\u001b[38;5;124;43mstrict\u001b[39;49m\u001b[38;5;124;43m\"\u001b[39;49m\u001b[43m)\u001b[49m\u001b[43m,\u001b[49m\n\u001b[0;32m   1713\u001b[0m \u001b[43m    \u001b[49m\u001b[43mstorage_options\u001b[49m\u001b[38;5;241;43m=\u001b[39;49m\u001b[38;5;28;43mself\u001b[39;49m\u001b[38;5;241;43m.\u001b[39;49m\u001b[43moptions\u001b[49m\u001b[38;5;241;43m.\u001b[39;49m\u001b[43mget\u001b[49m\u001b[43m(\u001b[49m\u001b[38;5;124;43m\"\u001b[39;49m\u001b[38;5;124;43mstorage_options\u001b[39;49m\u001b[38;5;124;43m\"\u001b[39;49m\u001b[43m,\u001b[49m\u001b[43m \u001b[49m\u001b[38;5;28;43;01mNone\u001b[39;49;00m\u001b[43m)\u001b[49m\u001b[43m,\u001b[49m\n\u001b[0;32m   1714\u001b[0m \u001b[43m\u001b[49m\u001b[43m)\u001b[49m\n\u001b[0;32m   1715\u001b[0m \u001b[38;5;28;01massert\u001b[39;00m \u001b[38;5;28mself\u001b[39m\u001b[38;5;241m.\u001b[39mhandles \u001b[38;5;129;01mis\u001b[39;00m \u001b[38;5;129;01mnot\u001b[39;00m \u001b[38;5;28;01mNone\u001b[39;00m\n\u001b[0;32m   1716\u001b[0m f \u001b[38;5;241m=\u001b[39m \u001b[38;5;28mself\u001b[39m\u001b[38;5;241m.\u001b[39mhandles\u001b[38;5;241m.\u001b[39mhandle\n",
      "File \u001b[1;32m~\\AppData\\Local\\Programs\\Python\\Python311\\Lib\\site-packages\\pandas\\io\\common.py:863\u001b[0m, in \u001b[0;36mget_handle\u001b[1;34m(path_or_buf, mode, encoding, compression, memory_map, is_text, errors, storage_options)\u001b[0m\n\u001b[0;32m    858\u001b[0m \u001b[38;5;28;01melif\u001b[39;00m \u001b[38;5;28misinstance\u001b[39m(handle, \u001b[38;5;28mstr\u001b[39m):\n\u001b[0;32m    859\u001b[0m     \u001b[38;5;66;03m# Check whether the filename is to be opened in binary mode.\u001b[39;00m\n\u001b[0;32m    860\u001b[0m     \u001b[38;5;66;03m# Binary mode does not support 'encoding' and 'newline'.\u001b[39;00m\n\u001b[0;32m    861\u001b[0m     \u001b[38;5;28;01mif\u001b[39;00m ioargs\u001b[38;5;241m.\u001b[39mencoding \u001b[38;5;129;01mand\u001b[39;00m \u001b[38;5;124m\"\u001b[39m\u001b[38;5;124mb\u001b[39m\u001b[38;5;124m\"\u001b[39m \u001b[38;5;129;01mnot\u001b[39;00m \u001b[38;5;129;01min\u001b[39;00m ioargs\u001b[38;5;241m.\u001b[39mmode:\n\u001b[0;32m    862\u001b[0m         \u001b[38;5;66;03m# Encoding\u001b[39;00m\n\u001b[1;32m--> 863\u001b[0m         handle \u001b[38;5;241m=\u001b[39m \u001b[38;5;28;43mopen\u001b[39;49m\u001b[43m(\u001b[49m\n\u001b[0;32m    864\u001b[0m \u001b[43m            \u001b[49m\u001b[43mhandle\u001b[49m\u001b[43m,\u001b[49m\n\u001b[0;32m    865\u001b[0m \u001b[43m            \u001b[49m\u001b[43mioargs\u001b[49m\u001b[38;5;241;43m.\u001b[39;49m\u001b[43mmode\u001b[49m\u001b[43m,\u001b[49m\n\u001b[0;32m    866\u001b[0m \u001b[43m            \u001b[49m\u001b[43mencoding\u001b[49m\u001b[38;5;241;43m=\u001b[39;49m\u001b[43mioargs\u001b[49m\u001b[38;5;241;43m.\u001b[39;49m\u001b[43mencoding\u001b[49m\u001b[43m,\u001b[49m\n\u001b[0;32m    867\u001b[0m \u001b[43m            \u001b[49m\u001b[43merrors\u001b[49m\u001b[38;5;241;43m=\u001b[39;49m\u001b[43merrors\u001b[49m\u001b[43m,\u001b[49m\n\u001b[0;32m    868\u001b[0m \u001b[43m            \u001b[49m\u001b[43mnewline\u001b[49m\u001b[38;5;241;43m=\u001b[39;49m\u001b[38;5;124;43m\"\u001b[39;49m\u001b[38;5;124;43m\"\u001b[39;49m\u001b[43m,\u001b[49m\n\u001b[0;32m    869\u001b[0m \u001b[43m        \u001b[49m\u001b[43m)\u001b[49m\n\u001b[0;32m    870\u001b[0m     \u001b[38;5;28;01melse\u001b[39;00m:\n\u001b[0;32m    871\u001b[0m         \u001b[38;5;66;03m# Binary mode\u001b[39;00m\n\u001b[0;32m    872\u001b[0m         handle \u001b[38;5;241m=\u001b[39m \u001b[38;5;28mopen\u001b[39m(handle, ioargs\u001b[38;5;241m.\u001b[39mmode)\n",
      "\u001b[1;31mFileNotFoundError\u001b[0m: [Errno 2] No such file or directory: 'variaveis_uf_ano.csv'"
     ]
    }
   ],
   "source": [
    "variaveis_uf_ano = pd.read_csv('variaveis_uf_ano.csv', sep=';')\n",
    "variaveis_uf_ano"
   ]
  },
  {
   "cell_type": "code",
   "execution_count": null,
   "id": "e13a4195-d7be-4f1c-adf3-5b0c502d1bf2",
   "metadata": {},
   "outputs": [],
   "source": [
    "# Criando UF e região\n",
    "CondUF =  [(variaveis_uf_ano['uf'] == 'RO'),\n",
    "         (variaveis_uf_ano[\"uf\"] == 'AC'),\n",
    "         (variaveis_uf_ano[\"uf\"] == 'AM'),\n",
    "         (variaveis_uf_ano[\"uf\"] == 'RR'),\n",
    "         (variaveis_uf_ano[\"uf\"] == 'PA'),\n",
    "         (variaveis_uf_ano[\"uf\"] == 'AP'),\n",
    "         (variaveis_uf_ano[\"uf\"] == 'TO'),\n",
    "         (variaveis_uf_ano[\"uf\"] == 'MA'),\n",
    "         (variaveis_uf_ano[\"uf\"] == 'PI'),\n",
    "         (variaveis_uf_ano[\"uf\"] == 'CE'),\n",
    "         (variaveis_uf_ano[\"uf\"] == 'RN'),\n",
    "         (variaveis_uf_ano[\"uf\"] == 'PB'),\n",
    "         (variaveis_uf_ano[\"uf\"] == 'PE'),\n",
    "         (variaveis_uf_ano[\"uf\"] == 'AL'),\n",
    "         (variaveis_uf_ano[\"uf\"] == 'SE'),\n",
    "         (variaveis_uf_ano[\"uf\"] == 'BA'),\n",
    "         (variaveis_uf_ano[\"uf\"] == 'MG'),\n",
    "         (variaveis_uf_ano[\"uf\"] == 'ES'),\n",
    "         (variaveis_uf_ano[\"uf\"] == 'RJ'),\n",
    "         (variaveis_uf_ano[\"uf\"] == 'SP'),\n",
    "         (variaveis_uf_ano[\"uf\"] == 'PR'),\n",
    "         (variaveis_uf_ano[\"uf\"] == 'SC'),\n",
    "         (variaveis_uf_ano[\"uf\"] == 'RS'),\n",
    "         (variaveis_uf_ano[\"uf\"] == 'MS'),\n",
    "         (variaveis_uf_ano[\"uf\"] == 'MT'),\n",
    "         (variaveis_uf_ano[\"uf\"] == 'GO'),\n",
    "         (variaveis_uf_ano[\"uf\"] == 'DF')\n",
    "         ]\n",
    "          \n",
    "UF_nomes = ['11','12','13','14','15','16','17','21','22','23','24','25','26','27','28','29','31','32','33','35','41','42','43','50','51','52','53']\n",
    "variaveis_uf_ano[\"cod_UF\"] = np.select(CondUF, UF_nomes, default=\"Error\")\n",
    "\n",
    "variaveis_uf_ano"
   ]
  },
  {
   "cell_type": "code",
   "execution_count": null,
   "id": "84f12fb0-fb9b-46eb-a7d8-b05d165f9ee0",
   "metadata": {},
   "outputs": [],
   "source": [
    "# Puxar a malha geográfica do Brasil a nível de município\n",
    "geojson = requests.get(f'https://servicodados.ibge.gov.br/api/v3/malhas/paises/BR?formato=application/vnd.geo+json&qualidade=maxima&intrarregiao=UF').json()\n",
    "\n",
    "# A malha geográfica do IBGE tem 7 dígitos (remover o dígito verificador e atualizar a malha)\n",
    "for feature in geojson['features']:\n",
    "    feature['properties']['codarea'] = feature['properties']['codarea']\n",
    "geojson = rewind(geojson, rfc7946=False)\n",
    "\n",
    "\n",
    "# Construir o mapa choroplético com uma barra de cores fixa e sem variação\n",
    "fig = px.choropleth(variaveis_uf_ano,\n",
    "                    geojson=geojson,\n",
    "                    scope='south america',\n",
    "                    color='gastos_percapita',\n",
    "                    color_continuous_scale=\"agsunset_r\",  # Escolha um mapa de cores adequado aqui\n",
    "                    color_continuous_midpoint=5_00,  # Defina um valor médio para o mapa de cores\n",
    "                    range_color=[0, 25_000],  # Defina manualmente o intervalo de cores\n",
    "                    locations='cod_UF',\n",
    "                    featureidkey='properties.codarea',\n",
    "                    hover_name='uf',\n",
    "                    animation_frame='ano')\n",
    "\n",
    "fig.update_geos(fitbounds=\"locations\", visible=False)\n",
    "fig.update_traces(marker_line_width=0)\n",
    "\n",
    "fig.update_layout(height=800, width=1000, autosize=False, \n",
    "                  updatemenus=[{\"buttons\": [{\"args\": [None, {\"frame\": {\"duration\": 1000, \"redraw\": True}, \"fromcurrent\": True, \"mode\": \"immediate\", \"transition\": {\"duration\": 500, \"easing\": \"linear\"}}], \"label\": \"Play\", \"method\": \"animate\"}, \n",
    "                                          {\"args\": [[None], {\"frame\": {\"duration\": 0, \"redraw\": True}, \"mode\": \"immediate\", \"transition\": {\"duration\": 0}}], \"label\": \"Stop\", \"method\": \"animate\"}], \n",
    "                               \"direction\": \"left\", \"pad\": {\"r\": 10, \"t\": 87}, \"showactive\": False, \"type\": \"buttons\", \"x\": 0.1, \"xanchor\": \"right\", \"y\": 0, \"yanchor\": \"top\"}])\n",
    "\n",
    "fig.show()"
   ]
  },
  {
   "cell_type": "code",
   "execution_count": null,
   "id": "3e0606b1-db6e-42e4-999a-7f4a3a75d019",
   "metadata": {
    "scrolled": true
   },
   "outputs": [],
   "source": [
    "max=variaveis_uf_ano['gastos'].max()\n",
    "print(max)"
   ]
  },
  {
   "cell_type": "code",
   "execution_count": null,
   "id": "2fa73353-a767-4dcf-b626-b46c9695524f",
   "metadata": {},
   "outputs": [],
   "source": [
    "min=variaveis_uf_ano['gastos'].min()\n",
    "print(min)"
   ]
  },
  {
   "cell_type": "code",
   "execution_count": null,
   "id": "20633306-cce5-49dc-b242-70069258a4ef",
   "metadata": {},
   "outputs": [],
   "source": [
    "import pickle\n",
    "\n",
    "def save_data(fig):\n",
    "    arquivo = 'C:/Users/Rosana/Documents/Rosana/Bootcamp_saude/fig.pkl'\n",
    "    with open(arquivo, 'wb') as pickle_file:\n",
    "        pickle.dump(fig, pickle_file)"
   ]
  },
  {
   "cell_type": "code",
   "execution_count": null,
   "id": "88f57347-6e7b-4e03-bc4b-0f6402e95c56",
   "metadata": {},
   "outputs": [],
   "source": [
    "# Puxar a malha geográfica do Brasil a nível de município\n",
    "geojson = requests.get(f'https://servicodados.ibge.gov.br/api/v3/malhas/paises/BR?formato=application/vnd.geo+json&qualidade=maxima&intrarregiao=UF').json()\n",
    "\n",
    "# A malha geográfica do IBGE tem 7 dígitos (remover o dígito verificador e atualizar a malha)\n",
    "for feature in geojson['features']:\n",
    "    feature['properties']['codarea'] = feature['properties']['codarea']\n",
    "geojson = rewind(geojson, rfc7946=False)\n",
    "\n",
    "\n",
    "# Construir o mapa choroplético com uma barra de cores fixa e sem variação\n",
    "fig2 = px.choropleth(variaveis_uf_ano,\n",
    "                    geojson=geojson,\n",
    "                    scope='south america',\n",
    "                    color='gastos',\n",
    "                    color_continuous_scale=\"agsunset_r\",  # Escolha um mapa de cores adequado aqui\n",
    "                    color_continuous_midpoint=100_000,  # Defina um valor médio para o mapa de cores\n",
    "                    range_color=[15_000_000, 6_000_000_000],  # Defina manualmente o intervalo de cores\n",
    "                    locations='cod_UF',\n",
    "                    featureidkey='properties.codarea',\n",
    "                    hover_name='uf',\n",
    "                    animation_frame='ano')\n",
    "\n",
    "fig2.update_geos(fitbounds=\"locations\", visible=False)\n",
    "fig2.update_traces(marker_line_width=0)\n",
    "\n",
    "fig2.update_layout(height=800, width=1000, autosize=False, \n",
    "                  updatemenus=[{\"buttons\": [{\"args\": [None, {\"frame\": {\"duration\": 1000, \"redraw\": True}, \"fromcurrent\": True, \"mode\": \"immediate\", \"transition\": {\"duration\": 500, \"easing\": \"linear\"}}], \"label\": \"Play\", \"method\": \"animate\"}, \n",
    "                                          {\"args\": [[None], {\"frame\": {\"duration\": 0, \"redraw\": True}, \"mode\": \"immediate\", \"transition\": {\"duration\": 0}}], \"label\": \"Stop\", \"method\": \"animate\"}], \n",
    "                               \"direction\": \"left\", \"pad\": {\"r\": 10, \"t\": 87}, \"showactive\": False, \"type\": \"buttons\", \"x\": 0.1, \"xanchor\": \"right\", \"y\": 0, \"yanchor\": \"top\"}])\n",
    "\n",
    "fig2.show()"
   ]
  },
  {
   "cell_type": "code",
   "execution_count": null,
   "id": "1c8aaf9b-566e-4003-a11f-9a54c060d57c",
   "metadata": {},
   "outputs": [],
   "source": [
    "def save_data(fig2):\n",
    "    arquivo = 'C:/Users/Rosana/Documents/Rosana/Bootcamp_saude/fig2.pkl'\n",
    "    with open(arquivo, 'wb') as pickle_file:\n",
    "        pickle.dump(fig2, pickle_file)"
   ]
  },
  {
   "cell_type": "code",
   "execution_count": null,
   "id": "94940d2e-00bd-43ae-8dcb-31bb8db4964b",
   "metadata": {},
   "outputs": [],
   "source": [
    "base_completa = pd.read_csv('base_completa.csv', sep=';')\n",
    "base_completa"
   ]
  },
  {
   "cell_type": "code",
   "execution_count": null,
   "id": "b784b078-d44a-4175-805b-c964792fb0d3",
   "metadata": {},
   "outputs": [],
   "source": [
    "\n",
    "# Puxar a malha geográfica do Brasil a nível de município\n",
    "geojson = requests.get(f'http://servicodados.ibge.gov.br/api/v3/malhas/paises/BR?formato=application/vnd.geo+json&qualidade=minima&intrarregiao=municipio').json()\n",
    "\n",
    "# A malha geográfica do IBGE tem 7 dígitos (remover o dígito verificador e atualizar a malha)\n",
    "for feature in geojson['features']:\n",
    "    feature['properties']['codarea'] = feature['properties']['codarea'][:-1]\n",
    "geojson = rewind(geojson, rfc7946=False)\n",
    "\n",
    "\n",
    "# Construir o mapa choroplético com uma barra de cores fixa e sem variação\n",
    "fig3 = px.choropleth(base_completa,\n",
    "                    geojson=geojson,\n",
    "                    scope='south america',\n",
    "                    color='gastos',\n",
    "                    color_continuous_scale=\"agsunset_r\",  # Escolha um mapa de cores adequado aqui\n",
    "                    color_continuous_midpoint=50_000,  # Defina um valor médio para o mapa de cores\n",
    "                    range_color=[0, 1_560_000_000],  # Defina manualmente o intervalo de cores\n",
    "                    locations='cod_ibge',\n",
    "                    featureidkey='properties.codarea',\n",
    "                    hover_name='municipio',\n",
    "                   animation_frame='ano')\n",
    "\n",
    "fig3.update_geos(fitbounds=\"locations\", visible=False)\n",
    "fig3.update_traces(marker_line_width=0)\n",
    "\n",
    "fig3.update_layout(height=800, width=1000, autosize=False, \n",
    "                  updatemenus=[{\"buttons\": [{\"args\": [None, {\"frame\": {\"duration\": 500, \"redraw\": True}, \"fromcurrent\": True, \"mode\": \"immediate\", \"transition\": {\"duration\": 300, \"easing\": \"linear\"}}], \"label\": \"Play\", \"method\": \"animate\"}, \n",
    "                                          {\"args\": [[None], {\"frame\": {\"duration\": 0, \"redraw\": True}, \"mode\": \"immediate\", \"transition\": {\"duration\": 0}}], \"label\": \"Stop\", \"method\": \"animate\"}], \n",
    "                               \"direction\": \"left\", \"pad\": {\"r\": 10, \"t\": 87}, \"showactive\": False, \"type\": \"buttons\", \"x\": 0.1, \"xanchor\": \"right\", \"y\": 0, \"yanchor\": \"top\"}])\n",
    "\n",
    "fig3.show()\n"
   ]
  },
  {
   "cell_type": "code",
   "execution_count": null,
   "id": "a33fbdfc-03f5-45ce-a20a-cae4392e24ea",
   "metadata": {},
   "outputs": [],
   "source": [
    "def save_data(fig3):\n",
    "    arquivo = 'C:/Users/Rosana/Documents/Rosana/Bootcamp_saude/fig3.pkl'\n",
    "    with open(arquivo, 'wb') as pickle_file:\n",
    "        pickle.dump(fig3, pickle_file)"
   ]
  },
  {
   "cell_type": "code",
   "execution_count": null,
   "id": "c0abd656-2306-436e-be78-e81a8ff5c885",
   "metadata": {
    "scrolled": true
   },
   "outputs": [],
   "source": [
    "\n",
    "# Puxar a malha geográfica do Brasil a nível de município\n",
    "geojson = requests.get(f'http://servicodados.ibge.gov.br/api/v3/malhas/paises/BR?formato=application/vnd.geo+json&qualidade=minima&intrarregiao=municipio').json()\n",
    "\n",
    "# A malha geográfica do IBGE tem 7 dígitos (remover o dígito verificador e atualizar a malha)\n",
    "for feature in geojson['features']:\n",
    "    feature['properties']['codarea'] = feature['properties']['codarea'][:-1]\n",
    "geojson = rewind(geojson, rfc7946=False)\n",
    "\n",
    "\n",
    "# Construir o mapa choroplético com uma barra de cores fixa e sem variação\n",
    "fig4 = px.choropleth(base_completa,\n",
    "                    geojson=geojson,\n",
    "                    scope='south america',\n",
    "                    color='gastos_percapita',\n",
    "                    color_continuous_scale=\"agsunset_r\",  # Escolha um mapa de cores adequado aqui\n",
    "                    color_continuous_midpoint=1_000,  # Defina um valor médio para o mapa de cores\n",
    "                    range_color=[0, 3_700],  # Defina manualmente o intervalo de cores\n",
    "                    locations='cod_ibge',\n",
    "                    featureidkey='properties.codarea',\n",
    "                    hover_name='municipio',\n",
    "                   animation_frame='ano')\n",
    "\n",
    "fig4.update_geos(fitbounds=\"locations\", visible=False)\n",
    "fig4.update_traces(marker_line_width=0)\n",
    "\n",
    "fig4.update_layout(height=800, width=1000, autosize=False, \n",
    "                  updatemenus=[{\"buttons\": [{\"args\": [None, {\"frame\": {\"duration\": 500, \"redraw\": True}, \"fromcurrent\": True, \"mode\": \"immediate\", \"transition\": {\"duration\": 300, \"easing\": \"linear\"}}], \"label\": \"Play\", \"method\": \"animate\"}, \n",
    "                                          {\"args\": [[None], {\"frame\": {\"duration\": 0, \"redraw\": True}, \"mode\": \"immediate\", \"transition\": {\"duration\": 0}}], \"label\": \"Stop\", \"method\": \"animate\"}], \n",
    "                               \"direction\": \"left\", \"pad\": {\"r\": 10, \"t\": 87}, \"showactive\": False, \"type\": \"buttons\", \"x\": 0.1, \"xanchor\": \"right\", \"y\": 0, \"yanchor\": \"top\"}])\n",
    "\n",
    "fig4.show()\n"
   ]
  },
  {
   "cell_type": "code",
   "execution_count": null,
   "id": "a6fe6873-57f9-4c1c-9273-903cbbd824bb",
   "metadata": {},
   "outputs": [],
   "source": [
    "def save_data(fig4):\n",
    "    arquivo = 'C:/Users/Rosana/Documents/Rosana/Bootcamp_saude/fig4.pkl'\n",
    "    with open(arquivo, 'wb') as pickle_file:\n",
    "        pickle.dump(fig4, pickle_file)"
   ]
  }
 ],
 "metadata": {
  "kernelspec": {
   "display_name": "Python 3 (ipykernel)",
   "language": "python",
   "name": "python3"
  },
  "language_info": {
   "codemirror_mode": {
    "name": "ipython",
    "version": 3
   },
   "file_extension": ".py",
   "mimetype": "text/x-python",
   "name": "python",
   "nbconvert_exporter": "python",
   "pygments_lexer": "ipython3",
   "version": "3.11.6"
  }
 },
 "nbformat": 4,
 "nbformat_minor": 5
}
